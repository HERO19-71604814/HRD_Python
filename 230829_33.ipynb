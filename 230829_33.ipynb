{
 "cells": [
  {
   "cell_type": "markdown",
   "id": "7d55ae64",
   "metadata": {},
   "source": [
    "# 파이썬 시작\n",
    "## 파이썬 기초\n",
    "### 기본 문법"
   ]
  },
  {
   "cell_type": "code",
   "execution_count": 13,
   "id": "ec01c1a3",
   "metadata": {},
   "outputs": [
    {
     "name": "stdout",
     "output_type": "stream",
     "text": [
      "3\n",
      "Hello!!\n"
     ]
    },
    {
     "data": {
      "text/plain": [
       "20"
      ]
     },
     "execution_count": 13,
     "metadata": {},
     "output_type": "execute_result"
    }
   ],
   "source": [
    "print(1 + 2)\n",
    "print('Hello!!')\n",
    "a = 10\n",
    "a\n",
    "b = 20\n",
    "b"
   ]
  },
  {
   "cell_type": "code",
   "execution_count": 14,
   "id": "31cf86f4",
   "metadata": {},
   "outputs": [
    {
     "name": "stdout",
     "output_type": "stream",
     "text": [
      "Hello!\n"
     ]
    }
   ],
   "source": [
    "print('Hello!')"
   ]
  },
  {
   "cell_type": "code",
   "execution_count": 16,
   "id": "dfaa6934",
   "metadata": {},
   "outputs": [
    {
     "name": "stdout",
     "output_type": "stream",
     "text": [
      "['False', 'None', 'True', 'and', 'as', 'assert', 'async', 'await', 'break', 'class', 'continue', 'def', 'del', 'elif', 'else', 'except', 'finally', 'for', 'from', 'global', 'if', 'import', 'in', 'is', 'lambda', 'nonlocal', 'not', 'or', 'pass', 'raise', 'return', 'try', 'while', 'with', 'yield']\n"
     ]
    }
   ],
   "source": [
    "import keyword\n",
    "print(keyword.kwlist)"
   ]
  },
  {
   "cell_type": "code",
   "execution_count": 22,
   "id": "157d8242",
   "metadata": {},
   "outputs": [
    {
     "name": "stdout",
     "output_type": "stream",
     "text": [
      "123 456 abc\n",
      "123456abc\n"
     ]
    }
   ],
   "source": [
    "print(123, 456, 'abc')\n",
    "print(str(123) + str(456) + 'abc')"
   ]
  },
  {
   "cell_type": "code",
   "execution_count": 25,
   "id": "b36bd816",
   "metadata": {},
   "outputs": [
    {
     "name": "stdout",
     "output_type": "stream",
     "text": [
      "Hello! Hello! Hello! Hello! Hello! \n",
      "Hello! Hello! Hello! Hello! Hello! \n",
      "115\n"
     ]
    }
   ],
   "source": [
    "print('Hello! ' * 5)\n",
    "print(5 * 'Hello! ')\n",
    "print(23 * 5)"
   ]
  },
  {
   "cell_type": "code",
   "execution_count": 27,
   "id": "2306608c",
   "metadata": {},
   "outputs": [
    {
     "name": "stdout",
     "output_type": "stream",
     "text": [
      "10\n",
      "20\n",
      "\n",
      "30\n",
      "40\n"
     ]
    }
   ],
   "source": [
    "print(10)\n",
    "print(20)\n",
    "print()\n",
    "print(30)\n",
    "print(40)"
   ]
  },
  {
   "cell_type": "code",
   "execution_count": 31,
   "id": "0d375169",
   "metadata": {},
   "outputs": [
    {
     "name": "stdout",
     "output_type": "stream",
     "text": [
      "1020\n",
      "\n",
      "3040\n"
     ]
    }
   ],
   "source": [
    "print(10, end = '')\n",
    "print(20)\n",
    "print()\n",
    "print(30, end = '')\n",
    "print(40)"
   ]
  },
  {
   "cell_type": "code",
   "execution_count": 38,
   "id": "31f2f6cb",
   "metadata": {
    "scrolled": true
   },
   "outputs": [
    {
     "name": "stdout",
     "output_type": "stream",
     "text": [
      "<class 'int'>\n",
      "<class 'float'>\n",
      "<class 'str'>\n",
      "<class 'str'>\n",
      "<class 'bool'>\n",
      "\n",
      "<class 'str'>\n"
     ]
    }
   ],
   "source": [
    "var1 = 10\n",
    "var2 = 12.34\n",
    "var3 = 'abc'\n",
    "var4 = \"abc\"   \n",
    "var5 = True\n",
    "print(type(var1))\n",
    "print(type(var2))\n",
    "print(type(var3))\n",
    "print(type(var4))\n",
    "print(type(var5))\n",
    "print()\n",
    "\n",
    "var1 = 'abc'\n",
    "print(type(var1))"
   ]
  },
  {
   "cell_type": "code",
   "execution_count": 52,
   "id": "8a1db3b9",
   "metadata": {},
   "outputs": [
    {
     "name": "stdout",
     "output_type": "stream",
     "text": [
      "abc abc abc \"abc\" def abc 'abc' def abc \"abc\" \n",
      " def\n"
     ]
    }
   ],
   "source": [
    "a = 'abc'\n",
    "b = \"abc\"\n",
    "c = 'abc \"abc\" def'\n",
    "d = \"abc 'abc' def\"\n",
    "e = \"abc \\\"abc\\\" \\n def\"\n",
    "print(a, b, c, d, e)"
   ]
  },
  {
   "cell_type": "code",
   "execution_count": 47,
   "id": "0b8bd077",
   "metadata": {},
   "outputs": [
    {
     "name": "stdout",
     "output_type": "stream",
     "text": [
      "우리나라\n",
      "대한민국\n",
      "금수강산\n",
      "\n"
     ]
    }
   ],
   "source": [
    "a = \"\"\"우리나라\n",
    "대한민국\n",
    "금수강산\n",
    "\"\"\"\n",
    "print(a)    "
   ]
  },
  {
   "cell_type": "code",
   "execution_count": 60,
   "id": "488e9bb3",
   "metadata": {},
   "outputs": [
    {
     "name": "stdout",
     "output_type": "stream",
     "text": [
      "우리나라 대한민국 금수강산\n",
      "리\n",
      "우리나라\n",
      "대한민국 금수강산\n",
      "우리나라\n",
      "14\n"
     ]
    }
   ],
   "source": [
    "a = \"우리나라 대한민국 금수강산\"\n",
    "print(a)\n",
    "print(a[1])\n",
    "print(a[0:4])\n",
    "print(a[5:])\n",
    "print(a[:4])\n",
    "print(len(a))"
   ]
  },
  {
   "cell_type": "code",
   "execution_count": 61,
   "id": "6b9f2ab2",
   "metadata": {},
   "outputs": [
    {
     "name": "stdout",
     "output_type": "stream",
     "text": [
      "3\n",
      "-2\n",
      "1.6666666666666667\n",
      "1\n",
      "2\n"
     ]
    }
   ],
   "source": [
    "print(1 + 2)\n",
    "print(1 - 3)\n",
    "print(5 / 3)\n",
    "print(5 // 3)\n",
    "print(5 % 3) #나머지만"
   ]
  },
  {
   "cell_type": "code",
   "execution_count": 63,
   "id": "307d656a",
   "metadata": {},
   "outputs": [
    {
     "ename": "NameError",
     "evalue": "name 'b1' is not defined",
     "output_type": "error",
     "traceback": [
      "\u001b[1;31m---------------------------------------------------------------------------\u001b[0m",
      "\u001b[1;31mNameError\u001b[0m                                 Traceback (most recent call last)",
      "Cell \u001b[1;32mIn[63], line 3\u001b[0m\n\u001b[0;32m      1\u001b[0m a1 \u001b[38;5;241m=\u001b[39m \u001b[38;5;241m10\u001b[39m\n\u001b[1;32m----> 3\u001b[0m \u001b[38;5;28mprint\u001b[39m(a1, b1)\n",
      "\u001b[1;31mNameError\u001b[0m: name 'b1' is not defined"
     ]
    }
   ],
   "source": [
    "a1 = 10\n",
    "\n",
    "print(a1, b1)"
   ]
  },
  {
   "cell_type": "code",
   "execution_count": 82,
   "id": "d8c5fa8f",
   "metadata": {},
   "outputs": [
    {
     "name": "stdout",
     "output_type": "stream",
     "text": [
      "30\n",
      "30\n",
      "30\n"
     ]
    }
   ],
   "source": [
    "a = 20\n",
    "a = a + 5\n",
    "a += 5\n",
    "print(a)\n",
    "\n",
    "print(++a)"
   ]
  },
  {
   "cell_type": "code",
   "execution_count": 83,
   "id": "386e8301",
   "metadata": {},
   "outputs": [
    {
     "name": "stdout",
     "output_type": "stream",
     "text": [
      "번호 : 1\n",
      "이름 : \n",
      "국어 : sfda점\n",
      "영어 : \n",
      "수학 : \n"
     ]
    },
    {
     "ename": "ValueError",
     "evalue": "could not convert string to float: 'sfda점'",
     "output_type": "error",
     "traceback": [
      "\u001b[1;31m---------------------------------------------------------------------------\u001b[0m",
      "\u001b[1;31mValueError\u001b[0m                                Traceback (most recent call last)",
      "Cell \u001b[1;32mIn[83], line 6\u001b[0m\n\u001b[0;32m      4\u001b[0m eng \u001b[38;5;241m=\u001b[39m \u001b[38;5;28minput\u001b[39m(\u001b[38;5;124m'\u001b[39m\u001b[38;5;124m영어 : \u001b[39m\u001b[38;5;124m'\u001b[39m)\n\u001b[0;32m      5\u001b[0m mat \u001b[38;5;241m=\u001b[39m \u001b[38;5;28minput\u001b[39m(\u001b[38;5;124m'\u001b[39m\u001b[38;5;124m수학 : \u001b[39m\u001b[38;5;124m'\u001b[39m)\n\u001b[1;32m----> 6\u001b[0m tot \u001b[38;5;241m=\u001b[39m \u001b[38;5;28mfloat\u001b[39m(kor) \u001b[38;5;241m+\u001b[39m \u001b[38;5;28mfloat\u001b[39m(eng) \u001b[38;5;241m+\u001b[39m \u001b[38;5;28mfloat\u001b[39m(mat)\n\u001b[0;32m      7\u001b[0m \u001b[38;5;28mprint\u001b[39m(no, name, kor, eng, mat, tot)\n",
      "\u001b[1;31mValueError\u001b[0m: could not convert string to float: 'sfda점'"
     ]
    }
   ],
   "source": [
    "no = input('번호 : ')\n",
    "name = input('이름 : ')\n",
    "kor = input('국어 : ')\n",
    "eng = input('영어 : ')\n",
    "mat = input('수학 : ')\n",
    "tot = float(kor) + float(eng) + float(mat)\n",
    "print(no, name, kor, eng, mat, tot) "
   ]
  },
  {
   "cell_type": "code",
   "execution_count": 84,
   "id": "46ac29d7",
   "metadata": {},
   "outputs": [
    {
     "name": "stdout",
     "output_type": "stream",
     "text": [
      "원의 반지름 입력> 2\n",
      "\n",
      "반지름:  2.0\n",
      "둘레:  12.56\n",
      "넓이:  12.56\n"
     ]
    }
   ],
   "source": [
    "str_input = input(\"원의 반지름 입력> \")\n",
    "num_input = float(str_input)\n",
    "print()\n",
    "print(\"반지름: \", num_input)\n",
    "print(\"둘레: \", 2 * 3.14 * num_input)\n",
    "print(\"넓이: \", 3.14 * num_input ** 2)"
   ]
  },
  {
   "cell_type": "code",
   "execution_count": 115,
   "id": "25ab6b94",
   "metadata": {},
   "outputs": [
    {
     "name": "stdout",
     "output_type": "stream",
     "text": [
      "<문자열 입력> a\n",
      "<문자열 입력> b\n",
      "a b\n",
      "b a\n"
     ]
    }
   ],
   "source": [
    "aa = input(\"<문자열 입력> \")\n",
    "bb = input(\"<문자열 입력> \")\n",
    "print(aa, bb)\n",
    "cc=aa\n",
    "aa=bb\n",
    "bb=cc\n",
    "print(aa, bb)"
   ]
  },
  {
   "cell_type": "code",
   "execution_count": 91,
   "id": "5023bcc7",
   "metadata": {},
   "outputs": [
    {
     "name": "stdout",
     "output_type": "stream",
     "text": [
      "1번은 이름이 홍길동이고 나이는 30입니다.\n"
     ]
    }
   ],
   "source": [
    "a = \"{}번은 이름이 {}이고 나이는 {}입니다.\".format(1, '홍길동', 30)\n",
    "a = '1번은 이름이 홍길동이고 나이는 30입니다.'\n",
    "print(a)"
   ]
  },
  {
   "cell_type": "code",
   "execution_count": 103,
   "id": "2b9bf514",
   "metadata": {},
   "outputs": [
    {
     "name": "stdout",
     "output_type": "stream",
     "text": [
      "123.456\n",
      "123.456000\n",
      "123.46\n",
      "123.46\n",
      "    123.46\n",
      "0000123.46\n",
      "   +123.46\n",
      "    123.46\n",
      "+   123.46\n",
      "  123.46  \n",
      "123.46    \n"
     ]
    }
   ],
   "source": [
    "a = 123.456\n",
    "print(a)\n",
    "print(\"{:5f}\".format(a))\n",
    "print(\"{:5.2f}\".format(a))\n",
    "print(\"{:.2f}\".format(a))\n",
    "print(\"{:10.2f}\".format(a))\n",
    "print(\"{:010.2f}\".format(a))\n",
    "print(\"{:+10.2f}\".format(a))\n",
    "print(\"{:-10.2f}\".format(a))\n",
    "print(\"{:=+10.2f}\".format(a))\n",
    "print(\"{:^10.2f}\".format(a))\n",
    "print(\"{:<10.2f}\".format(a))"
   ]
  },
  {
   "cell_type": "code",
   "execution_count": 114,
   "id": "5a560a52",
   "metadata": {},
   "outputs": [
    {
     "name": "stdout",
     "output_type": "stream",
     "text": [
      "hello\n",
      "hello     \n",
      "  hello   \n",
      "     hello\n",
      "00000hello\n",
      "파이썬은 쉽다.\n",
      "파이썬은 쉽다.  \n",
      " 파이썬은 쉽다. \n",
      "  파이썬은 쉽다.\n",
      "12.0\n",
      "12.0\n",
      " 12\n",
      "12\n"
     ]
    }
   ],
   "source": [
    "a = \"hello\"\n",
    "print(\"{}\".format(a))\n",
    "print(\"{:10s}\".format(a))\n",
    "print(\"{:^10s}\".format(a))\n",
    "print(\"{:>10s}\".format(a))\n",
    "print(\"{:>010s}\".format(a))\n",
    "\n",
    "b = '파이썬은 쉽다.'\n",
    "print(\"{}\".format(b))\n",
    "print(\"{:10s}\".format(b))\n",
    "print(\"{:^10s}\".format(b))\n",
    "print(\"{:>10s}\".format(b))\n",
    "\n",
    "c = 12.0\n",
    "print(c)\n",
    "print(\"{}\".format(c))\n",
    "print(\"{:3.0f}\".format(c))\n",
    "print(\"{:g}\".format(c))"
   ]
  },
  {
   "cell_type": "code",
   "execution_count": 117,
   "id": "941b5792",
   "metadata": {},
   "outputs": [
    {
     "name": "stdout",
     "output_type": "stream",
     "text": [
      " 대전 서구 둔산서로 17\n",
      "대전 서구 둔산서로 17\n",
      " 대전 서구 둔산서로 17\n"
     ]
    }
   ],
   "source": [
    "a = \" 대전 서구 둔산서로 17\"\n",
    "\n",
    "print(a)\n",
    "print(a.strip())\n",
    "print(a.strip('서구'))"
   ]
  },
  {
   "cell_type": "code",
   "execution_count": 124,
   "id": "9ebadeb2",
   "metadata": {},
   "outputs": [
    {
     "name": "stdout",
     "output_type": "stream",
     "text": [
      "데이터를 입력해 주세요 : abc\n",
      "숫자가 아닙니다\n"
     ]
    }
   ],
   "source": [
    "a = input('데이터를 입력해 주세요 : ')\n",
    "if a.isdigit():\n",
    "    print('숫자입니다')\n",
    "else:\n",
    "    print('숫자가 아닙니다')\n",
    "    "
   ]
  },
  {
   "cell_type": "code",
   "execution_count": 131,
   "id": "08294244",
   "metadata": {},
   "outputs": [
    {
     "name": "stdout",
     "output_type": "stream",
     "text": [
      "-1\n",
      "18\n"
     ]
    }
   ],
   "source": [
    "a = '안녕하세요! 여기는 중앙능력개발원! 입니다.'\n",
    "print(a.find('대한'))\n",
    "print(a.rfind('!'))"
   ]
  },
  {
   "cell_type": "code",
   "execution_count": 134,
   "id": "33b7b018",
   "metadata": {},
   "outputs": [
    {
     "name": "stdout",
     "output_type": "stream",
     "text": [
      "False\n"
     ]
    }
   ],
   "source": [
    "print('여 기' in a)"
   ]
  },
  {
   "cell_type": "code",
   "execution_count": 135,
   "id": "b127c950",
   "metadata": {},
   "outputs": [
    {
     "name": "stdout",
     "output_type": "stream",
     "text": [
      "있다\n"
     ]
    }
   ],
   "source": [
    "lista = ['a', 'b', 'c', 'd', 'e']\n",
    "\n",
    "if 'c' in lista:\n",
    "    print('있다')\n",
    "else: \n",
    "    print('없다')"
   ]
  },
  {
   "cell_type": "code",
   "execution_count": 137,
   "id": "9f540293",
   "metadata": {},
   "outputs": [
    {
     "name": "stdout",
     "output_type": "stream",
     "text": [
      "['정부가', '내년', '예산안을', '656조9000억원으로', '편성했다.', '올해', '예산보다', '2.8%', '늘어난', '규모다.', '재정통계가', '정비된', '2005년', '이후', '가장', '낮은', '증가율이다.', '세수', '여건이', '열악한', '상황에서', '방만하게', '나라', '살림을', '운용할', '경우', '대외', '신인도가', '떨어지고', '미래세대에', '빚을', '떠넘길', '수밖에', '없다는', '판단에', '따른', '것이다.\\n\\n허리띠를', '바짝', '조이지만', '△약자', '복지']\n"
     ]
    }
   ],
   "source": [
    "contents = \"\"\"정부가 내년 예산안을 656조9000억원으로 편성했다. 올해 예산보다 2.8% 늘어난 규모다. 재정통계가 정비된 2005년 이후 가장 낮은 증가율이다. 세수 여건이 열악한 상황에서 방만하게 나라 살림을 운용할 경우 대외 신인도가 떨어지고 미래세대에 빚을 떠넘길 수밖에 없다는 판단에 따른 것이다.\n",
    "\n",
    "허리띠를 바짝 조이지만 △약자 복지\"\"\"\n",
    "\n",
    "words = contents.split(' ')\n",
    "print(words)"
   ]
  },
  {
   "cell_type": "code",
   "execution_count": 139,
   "id": "98fd9c77",
   "metadata": {},
   "outputs": [
    {
     "name": "stdout",
     "output_type": "stream",
     "text": [
      "10입니다\n"
     ]
    }
   ],
   "source": [
    "# a = \"{}입니다\".format(15)\n",
    "a = f'{10}입니다'\n",
    "print(a)"
   ]
  },
  {
   "cell_type": "code",
   "execution_count": 144,
   "id": "ecdb65bf",
   "metadata": {},
   "outputs": [
    {
     "name": "stdout",
     "output_type": "stream",
     "text": [
      "32273\n",
      "32<class 'int'>\n",
      "32\n"
     ]
    }
   ],
   "source": [
    "print(\"{}{}\".format(32, 273))\n",
    "print(\"{}{}\".format(32, type(273)))\n",
    "# print(\"{}{}{}\".format(32, type(273))) #넘겨받을 갯수 부족\n",
    "print(\"{}\".format(32, 273)) #남는 갯수는 넘어간다."
   ]
  },
  {
   "cell_type": "code",
   "execution_count": 148,
   "id": "6a6132f0",
   "metadata": {},
   "outputs": [
    {
     "name": "stdout",
     "output_type": "stream",
     "text": [
      "hello\n",
      "HELLO\n",
      "HELLO\n"
     ]
    }
   ],
   "source": [
    "string = 'hello'\n",
    "string.upper()\n",
    "print(string)\n",
    "string = string.upper()\n",
    "print(string.upper())\n",
    "print(string)"
   ]
  },
  {
   "cell_type": "code",
   "execution_count": 157,
   "id": "09301200",
   "metadata": {},
   "outputs": [
    {
     "name": "stdout",
     "output_type": "stream",
     "text": [
      "> 1번째 숫자: 100\n",
      "> 2번째 숫자: 200\n",
      "\n",
      "100 + 200 = 300\n"
     ]
    }
   ],
   "source": [
    "a = input(\"> 1번째 숫자: \")\n",
    "b = input(\"> 2번째 숫자: \")\n",
    "print()\n",
    "\n",
    "print(\"{} + {} = {}\".format(int(a), int(b), int(a)+int(b)))"
   ]
  },
  {
   "cell_type": "code",
   "execution_count": 153,
   "id": "c94bf836",
   "metadata": {},
   "outputs": [
    {
     "name": "stdout",
     "output_type": "stream",
     "text": [
      "구의 반지름을 입력해주세요: 5\n",
      "= 구의 부피는 523.5986666666666입니다.\n",
      "= 구의 겉넓이는 314.1592입니다.\n"
     ]
    }
   ],
   "source": [
    "# 구의부피와 겉넓이\n",
    "r = float(input(\"구의 반지름을 입력해주세요: \"))\n",
    "print(\"= 구의 부피는 {}입니다.\".format(4 / 3 * 3.141592 * r **3))\n",
    "print(\"= 구의 겉넓이는 {}입니다.\".format(4 * 3.141592 * r **2))"
   ]
  },
  {
   "cell_type": "code",
   "execution_count": null,
   "id": "05daa047",
   "metadata": {},
   "outputs": [],
   "source": []
  }
 ],
 "metadata": {
  "kernelspec": {
   "display_name": "Python 3 (ipykernel)",
   "language": "python",
   "name": "python3"
  },
  "language_info": {
   "codemirror_mode": {
    "name": "ipython",
    "version": 3
   },
   "file_extension": ".py",
   "mimetype": "text/x-python",
   "name": "python",
   "nbconvert_exporter": "python",
   "pygments_lexer": "ipython3",
   "version": "3.11.4"
  }
 },
 "nbformat": 4,
 "nbformat_minor": 5
}
