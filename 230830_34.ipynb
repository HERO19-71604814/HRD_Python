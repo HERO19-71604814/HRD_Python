{
 "cells": [
  {
   "cell_type": "markdown",
   "id": "1c15f97c",
   "metadata": {},
   "source": [
    "# 파이썬 2일차\n",
    "\n",
    "## 03장 조건문"
   ]
  },
  {
   "cell_type": "markdown",
   "id": "b7df684d",
   "metadata": {},
   "source": [
    "### - 기본적인 1년은 365일\n",
    "### - 정확한 1년은 365.2422일\n",
    "### - 소수점을 맞추기위해 윤년을 사용\n",
    "### - 윤년은 366일, 평년 365일\n",
    "\n",
    "### - y % 4 == 4 ① y % 100 != 4 ② y % 400 == 4의 ①,②에 들어갈 내용은?\n",
    "①. and and \n",
    "②. and or\n",
    "③. or and \n",
    "④. or or\n",
    "정답: ②. and or"
   ]
  },
  {
   "cell_type": "markdown",
   "id": "a64f93af",
   "metadata": {},
   "source": [
    "### - 문제: 3원의 3개를 주는 연필을 10원을 구매 => 10개"
   ]
  },
  {
   "cell_type": "markdown",
   "id": "33dcc495",
   "metadata": {},
   "source": [
    "## if 문\n",
    "\n",
    "### 1. if 조건 :\n",
    "###      참 일때 실행문 --- 들여쓰기 4칸(tab과 같다)\n",
    "###  else :\n",
    "###      거짓 일 때 실행문\n",
    "\n",
    "### 2. if 조건 :\n",
    "###      참 일때 실행문\n",
    "###      if 조건 :\n",
    "###      참 일때 실행문\n",
    "###      else :\n",
    "###          거짓 일 때 실행문\n",
    "###  else :\n",
    "###      거짓 일 때 실행문\n",
    "      \n",
    "      \n",
    "### 3. if 조건 :\n",
    "###      참 일때 실행문\n",
    "###  else :\n",
    "###      거짓 일 때 실행문\n",
    "###      if 조건 :\n",
    "###      참 일때 실행문\n",
    "###      else :\n",
    "###          거짓 일 때 실행문\n",
    "          \n",
    "### 4. if 조건 :\n",
    "###      참 일때 실행문\n",
    "###  elif :\n",
    "###      참 일 때 실행문          \n",
    "###  else :\n",
    "###      거짓 일 때 실행문"
   ]
  },
  {
   "cell_type": "code",
   "execution_count": 6,
   "id": "065be5ca",
   "metadata": {},
   "outputs": [
    {
     "name": "stdout",
     "output_type": "stream",
     "text": [
      "점수 입력 : 60\n",
      "합격 입니다.\n"
     ]
    }
   ],
   "source": [
    "score = float(input('점수 입력 : '))\n",
    "if score >= 60 :\n",
    "    print('합격 입니다.')\n",
    "else :\n",
    "    print('불합격 입니다.')"
   ]
  },
  {
   "cell_type": "code",
   "execution_count": 15,
   "id": "416bf7df",
   "metadata": {},
   "outputs": [
    {
     "name": "stdout",
     "output_type": "stream",
     "text": [
      "점수 입력 : 88\n",
      "B 학점\n"
     ]
    }
   ],
   "source": [
    "score = float(input('점수 입력 : '))\n",
    "result = ''\n",
    "if score >= 90 :\n",
    "    result = 'A'\n",
    "elif score >= 80 :\n",
    "    result = 'B'\n",
    "elif score >= 70 :\n",
    "    result = 'C'\n",
    "elif score >= 60 :\n",
    "    result = 'D'\n",
    "else :\n",
    "    result = 'F'\n",
    "print(result, '학점')"
   ]
  },
  {
   "cell_type": "code",
   "execution_count": 16,
   "id": "3f95acde",
   "metadata": {},
   "outputs": [
    {
     "name": "stdout",
     "output_type": "stream",
     "text": [
      "2023-08-30 10:13:57.564241\n"
     ]
    }
   ],
   "source": [
    "# 날짜/시간 활용 하기\n",
    "import datetime\n",
    "now = datetime.datetime.now()\n",
    "print(now)"
   ]
  },
  {
   "cell_type": "code",
   "execution_count": null,
   "id": "a59ef833",
   "metadata": {},
   "outputs": [],
   "source": [
    "# from\n",
    "from datetime import datetime \n",
    "now = datetime.now()\n",
    "print(now)\n",
    "print(now.year, '년')\n",
    "print(now.month, '월')\n",
    "\n",
    "birth = datetime(1994, 10, 11)\n",
    "print(birth)\n",
    "\n",
    "days = now - birth\n",
    "print(days)\n",
    "print(days.days)\n",
    "print(days.seconds)"
   ]
  },
  {
   "cell_type": "code",
   "execution_count": null,
   "id": "2f53cdbb",
   "metadata": {},
   "outputs": [],
   "source": [
    "# 문재 1\n",
    "# -차령번호 뒷자리를 입력받아서 0, 5는 월요일, 1, 6은 화요일, 2, 7은 수요일\n",
    "# -3, 8은 목요일, 4, 9는 금요일이라고 출력\n",
    "\n",
    "car_number = int(input('차량 번호 뒷자리를 입력 : '))\n",
    "\n",
    "if car_number % 5 == 0 :\n",
    "    print('월요일')\n",
    "elif car_number % 5 == 1:\n",
    "    print('화요일')\n",
    "elif car_number % 5 == 2:\n",
    "    print('수요일')    \n",
    "elif car_number % 5 == 3:\n",
    "    print('목요일')\n",
    "elif car_number % 5 == 4:\n",
    "    print('금요일')"
   ]
  },
  {
   "cell_type": "code",
   "execution_count": null,
   "id": "04c5f591",
   "metadata": {},
   "outputs": [],
   "source": [
    "# 문제 2\n",
    "# 주민번호를 입력받아 생년과 생월과 생일을 출력하고 성별을 출력\n",
    "id = input('주민번호를 입력하세요 : ')\n",
    "\n",
    "if int(id[7]) < 3:\n",
    "    byear= int(id[0:2]) + 1900\n",
    "else:\n",
    "    byear= int(id[0:2]) + 2000\n",
    "\n",
    "bmomth= id[2:4]\n",
    "bday= id[4:6]\n",
    "\n",
    "if int(id[7]) % 2 == 0:\n",
    "    bsex = '여자'\n",
    "else:\n",
    "    bsex = '남자'\n",
    "    \n",
    "print('생년 : ', byear)\n",
    "print('생월 : ', bmomth)\n",
    "print('생일 : ', bday)\n",
    "print('성별 : ', bsex)"
   ]
  },
  {
   "cell_type": "code",
   "execution_count": 6,
   "id": "e700a53d",
   "metadata": {},
   "outputs": [
    {
     "ename": "NotImplementedError",
     "evalue": "",
     "output_type": "error",
     "traceback": [
      "\u001b[1;31m---------------------------------------------------------------------------\u001b[0m",
      "\u001b[1;31mNotImplementedError\u001b[0m                       Traceback (most recent call last)",
      "Cell \u001b[1;32mIn[6], line 3\u001b[0m\n\u001b[0;32m      1\u001b[0m zero \u001b[38;5;241m=\u001b[39m \u001b[38;5;241m0\u001b[39m\n\u001b[0;32m      2\u001b[0m \u001b[38;5;28;01mif\u001b[39;00m zero \u001b[38;5;241m==\u001b[39m \u001b[38;5;241m0\u001b[39m:\n\u001b[1;32m----> 3\u001b[0m     \u001b[38;5;28;01mraise\u001b[39;00m \u001b[38;5;167;01mNotImplementedError\u001b[39;00m\n\u001b[0;32m      4\u001b[0m \u001b[38;5;28;01melse\u001b[39;00m:\n\u001b[0;32m      5\u001b[0m     \u001b[38;5;28mprint\u001b[39m(\u001b[38;5;124m'\u001b[39m\u001b[38;5;124mNo!\u001b[39m\u001b[38;5;124m'\u001b[39m)\n",
      "\u001b[1;31mNotImplementedError\u001b[0m: "
     ]
    }
   ],
   "source": [
    "zero = 0\n",
    "if zero == 0:\n",
    "    raise NotImplementedError\n",
    "else:\n",
    "    print('No!')"
   ]
  },
  {
   "cell_type": "code",
   "execution_count": null,
   "id": "cc1e9d9f",
   "metadata": {},
   "outputs": [],
   "source": []
  }
 ],
 "metadata": {
  "kernelspec": {
   "display_name": "Python 3 (ipykernel)",
   "language": "python",
   "name": "python3"
  },
  "language_info": {
   "codemirror_mode": {
    "name": "ipython",
    "version": 3
   },
   "file_extension": ".py",
   "mimetype": "text/x-python",
   "name": "python",
   "nbconvert_exporter": "python",
   "pygments_lexer": "ipython3",
   "version": "3.11.4"
  }
 },
 "nbformat": 4,
 "nbformat_minor": 5
}
