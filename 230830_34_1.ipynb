{
 "cells": [
  {
   "cell_type": "markdown",
   "id": "ba5b2806",
   "metadata": {},
   "source": [
    "# 4장 반복문\n",
    "\n",
    "## 04-1. 리스트와 반복문(192p)"
   ]
  },
  {
   "cell_type": "code",
   "execution_count": 14,
   "id": "0c1b6348",
   "metadata": {},
   "outputs": [
    {
     "name": "stdout",
     "output_type": "stream",
     "text": [
      "리스트 요소 추가:  ['홍길동', 10, 'abc']\n",
      "리스트 요소 변경:  ['aaa', 10, 'abc']\n",
      "리스트 요소 범위 선택:  [2, 3]\n",
      "리스트 사이즈:  5\n",
      "리스트 안에 리스트:  [[1, 2, 3], ['a', 'b', 'c'], 45, 'abcd']\n",
      "리스트 안에 리스트 참조:  b\n",
      "리스트 안에 리스트 참조1:  ['aaa', 10, 'abc', 1, 2, 3, 'abc', True]\n"
     ]
    }
   ],
   "source": [
    "# 리스트 - 연속된 데이터 저장\n",
    "# 리스트 선언\n",
    "list_a = []\n",
    "list_b = [1, 2, 3, 'abc', True]\n",
    "\n",
    "# 리스트 요소 추가\n",
    "list_a.append(10)\n",
    "list_a.append('abc')\n",
    "list_a.insert(0, '홍길동')\n",
    "print('리스트 요소 추가: ', list_a)\n",
    "\n",
    "# 리스트 요소 변경\n",
    "list_a[0] = 'aaa'\n",
    "print('리스트 요소 변경: ', list_a)\n",
    "\n",
    "# 리스트 요소 범위 선택\n",
    "print('리스트 요소 범위 선택: ', list_b[1:3])\n",
    "\n",
    "# 리스트 사이즈\n",
    "print('리스트 사이즈: ', len(list_b))\n",
    "\n",
    "# 리스트 안에 리스트\n",
    "list_c = [[1,2,3], ['a', 'b', 'c'], 45, 'abcd']\n",
    "print('리스트 안에 리스트: ', list_c)\n",
    "\n",
    "# 리스트 안에 리스트 참조\n",
    "print('리스트 안에 리스트 참조: ', list_c[1][1])\n",
    "list_d = list_a + list_b\n",
    "print('리스트 안에 리스트 참조1: ', list_d)"
   ]
  },
  {
   "cell_type": "code",
   "execution_count": 20,
   "id": "fb2d09d5",
   "metadata": {},
   "outputs": [
    {
     "name": "stdout",
     "output_type": "stream",
     "text": [
      "[[10, 20], [100, 200]]\n"
     ]
    }
   ],
   "source": [
    "# 이중 리스트\n",
    "a = [[0,0,0,0],[0,0,0,0]]\n",
    "b = []\n",
    "b.append([10])\n",
    "b[0].append(20)\n",
    "b.append([100])\n",
    "b[1].append(200)\n",
    "print(b)"
   ]
  },
  {
   "cell_type": "code",
   "execution_count": 33,
   "id": "493b087f",
   "metadata": {},
   "outputs": [
    {
     "name": "stdout",
     "output_type": "stream",
     "text": [
      "[1, 2, 3, 'a', 'b', 'c']\n",
      "[1, 2, 3, 'a', 'b']\n",
      "[1, 2, 3, 'b']\n",
      "[1, 3, 'b']\n"
     ]
    }
   ],
   "source": [
    "a = [1,2,3]\n",
    "b = ['a','b','c']\n",
    "a + b\n",
    "a.append(b)\n",
    "print(a)\n",
    "\n",
    "a.extend(b)\n",
    "print(a)\n",
    "\n",
    "a.pop()\n",
    "print(a)\n",
    "\n",
    "del a[3]\n",
    "print(a)\n",
    "\n",
    "a.remove(2)\n",
    "print(a)"
   ]
  },
  {
   "cell_type": "code",
   "execution_count": 50,
   "id": "6a2855cd",
   "metadata": {},
   "outputs": [
    {
     "name": "stdout",
     "output_type": "stream",
     "text": [
      "[2, 3, 5, 6, 7, 8]\n",
      "['k', 'g', 'e', 'd', 'a']\n",
      "존재\n"
     ]
    }
   ],
   "source": [
    "# 숫자 정렬\n",
    "a = [5, 8, 2, 7, 3, 6]\n",
    "a.sort()\n",
    "print(a)\n",
    "\n",
    "# 문자 정렬\n",
    "# reverse = True: 내림차순, False: 오름차순\n",
    "b = ['d','e','a','k','g']\n",
    "b.sort(reverse = True)\n",
    "print(b)\n",
    "\n",
    "# b안에 g가 있는지 확인 \n",
    "if 'g' in b:\n",
    "    print('존재')"
   ]
  },
  {
   "cell_type": "code",
   "execution_count": null,
   "id": "c539fdf6",
   "metadata": {},
   "outputs": [],
   "source": []
  }
 ],
 "metadata": {
  "kernelspec": {
   "display_name": "Python 3 (ipykernel)",
   "language": "python",
   "name": "python3"
  },
  "language_info": {
   "codemirror_mode": {
    "name": "ipython",
    "version": 3
   },
   "file_extension": ".py",
   "mimetype": "text/x-python",
   "name": "python",
   "nbconvert_exporter": "python",
   "pygments_lexer": "ipython3",
   "version": "3.11.4"
  }
 },
 "nbformat": 4,
 "nbformat_minor": 5
}
