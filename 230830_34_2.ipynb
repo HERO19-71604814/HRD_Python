{
 "cells": [
  {
   "cell_type": "markdown",
   "id": "dd0a6911",
   "metadata": {},
   "source": [
    "# for반복문(207p)"
   ]
  },
  {
   "cell_type": "markdown",
   "id": "a2d94af1",
   "metadata": {},
   "source": [
    "## - for 반복문: 리스트와 함께 사용하기"
   ]
  },
  {
   "cell_type": "code",
   "execution_count": null,
   "id": "aa395646",
   "metadata": {},
   "outputs": [],
   "source": [
    "# for 반복문 in 반복할 수 있는 것\n",
    "a = [10,20,30,40,50,60,70,80,90]\n",
    "for i in a:\n",
    "    print(i)"
   ]
  },
  {
   "cell_type": "code",
   "execution_count": 13,
   "id": "79851dc4",
   "metadata": {},
   "outputs": [
    {
     "name": "stdout",
     "output_type": "stream",
     "text": [
      "range(0, 10)\n",
      "0\n",
      "1\n",
      "2\n",
      "3\n",
      "4\n",
      "5\n",
      "6\n",
      "7\n",
      "8\n",
      "9\n",
      "\n",
      "10\n",
      "20\n",
      "30\n",
      "40\n",
      "50\n",
      "60\n",
      "70\n",
      "80\n",
      "90\n",
      "\n",
      "1\n",
      "3\n",
      "5\n",
      "7\n",
      "9\n"
     ]
    }
   ],
   "source": [
    "# 범위\n",
    "# range(초기값, [최종값, 증감])\n",
    "print(range(10))\n",
    "for i in range(10):\n",
    "    print(i)\n",
    "print()\n",
    "\n",
    "for i in range(len(a)):\n",
    "    print(a[i])\n",
    "print()\n",
    "    \n",
    "for i in range(1, 11, 2):\n",
    "    print(i)\n",
    "    "
   ]
  },
  {
   "cell_type": "code",
   "execution_count": 25,
   "id": "1d578fc5",
   "metadata": {},
   "outputs": [
    {
     "name": "stdout",
     "output_type": "stream",
     "text": [
      "  1  2  3  4  5\n",
      "  6  7  8  9 10\n",
      " 11 12 13 14 15\n",
      " 16 17 18 19 20\n",
      " 21 22 23 24 25\n"
     ]
    }
   ],
   "source": [
    "# 2차원 배열처럼 1~25까지 5줄 5칸을 생성\n",
    "list_a = []\n",
    "for i in range(5): # 5줄\n",
    "    list_a.append([])\n",
    "    for j in range(5): # 5칸\n",
    "        list_a[i].append((j + 1) + (i * 5))\n",
    "\n",
    "for i in range(5):\n",
    "    for j in range(5):\n",
    "        print(\"{:3d}\".format(list_a[i][j]), end='')\n",
    "    print()"
   ]
  },
  {
   "cell_type": "code",
   "execution_count": 181,
   "id": "132708a4",
   "metadata": {},
   "outputs": [
    {
     "name": "stdout",
     "output_type": "stream",
     "text": [
      " 11 16 14  2 40 18\n",
      " 26  3  2  3 25 42\n",
      " 45 44 40 35 25 13\n",
      "  1 15 10 40  2 32\n",
      "  8 30 41 25 28 30\n"
     ]
    }
   ],
   "source": [
    "# 랜덤 숫자 생성 \n",
    "import random\n",
    "# print(random.random())\n",
    "# print(random.randint(0,4))\n",
    "\n",
    "for j in range(5):\n",
    "    for i in range(6):\n",
    "        print(\"{:3d}\".format(random.randint(1,45)), end = '')\n",
    "    print()        "
   ]
  },
  {
   "cell_type": "code",
   "execution_count": 179,
   "id": "9e7dd2a3",
   "metadata": {},
   "outputs": [
    {
     "name": "stdout",
     "output_type": "stream",
     "text": [
      "  6 17 15  1  9\n",
      " 25 10  7 19  5\n",
      " 20 14 16 22 13\n",
      " 12 18 21 11 23\n",
      "  8  4  3  2 24\n"
     ]
    }
   ],
   "source": [
    "# 1~25까지 5행 5열의 랜덤 숫자 생성\n",
    "for i in range(100):\n",
    "    x = random.randint(0,4)\n",
    "    y = random.randint(0,4)\n",
    "    temp = list_a[0][0]\n",
    "    list_a[0][0] = list_a[x][y]\n",
    "    list_a[x][y] = temp\n",
    "for j in range(5):\n",
    "    for i in range(5):\n",
    "        print(\"{:3d}\".format(list_a[i][j]), end = '')\n",
    "    print()"
   ]
  },
  {
   "cell_type": "code",
   "execution_count": 232,
   "id": "0e80745a",
   "metadata": {},
   "outputs": [
    {
     "name": "stdout",
     "output_type": "stream",
     "text": [
      "[12, 34, 45, 'abc', 67, 56, 34, 44, 66]\n"
     ]
    }
   ],
   "source": [
    "# 중첩 리스트를 단일 리스트로 만들기\n",
    "\n",
    "mult_list = [12 ,34, [45, 'abc', 67], 56, [34, 44, 66]]\n",
    "single_list = []\n",
    "\n",
    "for i in mult_list:\n",
    "    if type(i) != list:\n",
    "        single_list.append(i)\n",
    "    elif type(i) == list:\n",
    "        for j in range(len(i)):\n",
    "            single_list.append(i[j])\n",
    "print(single_list)"
   ]
  },
  {
   "cell_type": "code",
   "execution_count": 235,
   "id": "89a79bed",
   "metadata": {},
   "outputs": [
    {
     "name": "stdout",
     "output_type": "stream",
     "text": [
      "[0, 1, 2, 3, 4, 5, 6, 7, 8, 9]\n"
     ]
    }
   ],
   "source": [
    "# 리스트 생성시 for 반복문 활용\n",
    "a = [el for el in range(10)]\n",
    "print(a)"
   ]
  },
  {
   "cell_type": "code",
   "execution_count": 240,
   "id": "55e09cf6",
   "metadata": {},
   "outputs": [
    {
     "name": "stdout",
     "output_type": "stream",
     "text": [
      "['방통심의위에', '따르면', '공언련은', '지난', '29일', '위원을', '‘방통심의위', '임직원', '이해충돌', '방지', '규칙’', '위반을', '이유로', '권익위에', '고발했다', '공언련은', '변호사인', '정민영', '위원(더불어민주당', '추천)이', '윤석열', '대통령의', '비속어', '발언', '논란', '보도와', '관련해', 'MBC와', '외교부의', '정정보도', '청구', '소송에서', 'MBC측', '법률대리인을', '맡고', '있다고', '문제삼았다', '아울러', 'MBC', '<당신이', '믿었던', '페이크>', '방송과', '관련한', 'SBS와', 'MBC', '소송에서', 'MBC측을', '대리한', '점을', '문제', '삼았다', '출처', '미디어오늘(http://wwwmediatodaycokr)']\n"
     ]
    }
   ],
   "source": [
    "conts = \"\"\"방통심의위에 따르면, 공언련은 지난 29일 두 위원을 ‘방통심의위 임직원 이해충돌 방지 규칙’ 위반을 이유로 권익위에 고발했다. 공언련은 변호사인 정민영 위원(더불어민주당 추천)이 윤석열 대통령의 비속어 발언 논란 보도와 관련해 MBC와 외교부의 정정보도 청구 소송에서 MBC측 법률대리인을 맡고 있다고 문제삼았다. 아울러 MBC <당신이 믿었던 페이크> 방송과 관련한 SBS와 MBC 소송에서 MBC측을 대리한 점을 문제 삼았다. \n",
    "\n",
    "출처 : 미디어오늘(http://www.mediatoday.co.kr)\"\"\"\n",
    "\n",
    "conts = conts.replace('\\n', ' ')\n",
    "conts = conts.replace('.', '')\n",
    "conts = conts.replace(',', ' ')\n",
    "conts = conts.replace('\\\"', ' ')\n",
    "\n",
    "words = conts.split(' ')\n",
    "word_list = [word for word in words if len(word) > 1]\n",
    "print(word_list)"
   ]
  },
  {
   "cell_type": "code",
   "execution_count": null,
   "id": "77b6918e",
   "metadata": {},
   "outputs": [],
   "source": []
  }
 ],
 "metadata": {
  "kernelspec": {
   "display_name": "Python 3 (ipykernel)",
   "language": "python",
   "name": "python3"
  },
  "language_info": {
   "codemirror_mode": {
    "name": "ipython",
    "version": 3
   },
   "file_extension": ".py",
   "mimetype": "text/x-python",
   "name": "python",
   "nbconvert_exporter": "python",
   "pygments_lexer": "ipython3",
   "version": "3.11.4"
  }
 },
 "nbformat": 4,
 "nbformat_minor": 5
}
