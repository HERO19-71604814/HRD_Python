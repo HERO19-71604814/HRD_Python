{
 "cells": [
  {
   "cell_type": "markdown",
   "id": "c06cb6aa",
   "metadata": {},
   "source": [
    "# 23년 08월 31일 35일차\n",
    "## 04-2. 딕셔너리와 반복문(216p)"
   ]
  },
  {
   "cell_type": "markdown",
   "id": "79a5c83c",
   "metadata": {},
   "source": [
    "### 딕셔너리\n",
    "#### 딕셔너리 선언\n",
    "- 변수 = { 키: 값, ...... }"
   ]
  },
  {
   "cell_type": "code",
   "execution_count": 14,
   "id": "d500766a",
   "metadata": {},
   "outputs": [
    {
     "name": "stdout",
     "output_type": "stream",
     "text": [
      "{'name': '홍길동', 'age': 40, 'family': ['아버지', '어머니', '형', '동생'], 'addr_list': {}}\n",
      "\n",
      "홍길동\n",
      "\n",
      "dict_keys(['name', 'age', 'family', 'addr_list'])\n",
      "\n",
      "dict_values(['홍길동', 40, ['아버지', '어머니', '형', '동생'], {}])\n",
      "\n",
      "name : 홍길동\n",
      "age : 40\n",
      "family : ['아버지', '어머니', '형', '동생']\n",
      "addr_list : {}\n",
      "\n"
     ]
    }
   ],
   "source": [
    "# 딕셔너리 생성\n",
    "dict_a = {}\n",
    "dict_b = {\n",
    "    \"name\":'홍길동',\n",
    "    \"age\" : 40,\n",
    "    \"family\":['아버지', '어머니', '형', '동생'],\n",
    "    \"addr_list\" : {}\n",
    "}\n",
    "\n",
    "print(dict_b)\n",
    "print()\n",
    "print(dict_b['name'])\n",
    "print()\n",
    "print(dict_b.keys())\n",
    "print()\n",
    "print(dict_b.values())\n",
    "print()\n",
    "for element in dict_b.keys():\n",
    "    print(element + ' : ', end=\"\")\n",
    "    print(dict_b[element])    \n",
    "print()\n",
    "    "
   ]
  },
  {
   "cell_type": "code",
   "execution_count": 21,
   "id": "62e2d9db",
   "metadata": {},
   "outputs": [
    {
     "name": "stdout",
     "output_type": "stream",
     "text": [
      "{'1': 0}\n",
      "\n",
      "{'1': 0, '2': 0}\n",
      "\n",
      "{'1': 3, '2': 0}\n",
      "\n",
      "{'1': 3}\n",
      "\n"
     ]
    },
    {
     "ename": "KeyError",
     "evalue": "'2'",
     "output_type": "error",
     "traceback": [
      "\u001b[1;31m---------------------------------------------------------------------------\u001b[0m",
      "\u001b[1;31mKeyError\u001b[0m                                  Traceback (most recent call last)",
      "Cell \u001b[1;32mIn[21], line 18\u001b[0m\n\u001b[0;32m     16\u001b[0m \u001b[38;5;28mprint\u001b[39m(dict_a)\n\u001b[0;32m     17\u001b[0m \u001b[38;5;28mprint\u001b[39m()\n\u001b[1;32m---> 18\u001b[0m \u001b[38;5;28mprint\u001b[39m(dict_a[\u001b[38;5;124m'\u001b[39m\u001b[38;5;124m2\u001b[39m\u001b[38;5;124m'\u001b[39m])\n",
      "\u001b[1;31mKeyError\u001b[0m: '2'"
     ]
    }
   ],
   "source": [
    "# 딕셔너리 값 추가\n",
    "dict_a['1'] = 0\n",
    "print(dict_a)\n",
    "print()\n",
    "\n",
    "dict_a['2'] = 0\n",
    "print(dict_a)\n",
    "print()\n",
    "\n",
    "dict_a['1'] = 3\n",
    "print(dict_a)\n",
    "print()\n",
    "\n",
    "# 딕셔너리 값 제거\n",
    "del dict_a['2']\n",
    "print(dict_a)\n",
    "print()\n",
    "print(dict_a['2'])"
   ]
  },
  {
   "cell_type": "code",
   "execution_count": 25,
   "id": "68245ff0",
   "metadata": {},
   "outputs": [
    {
     "name": "stdout",
     "output_type": "stream",
     "text": [
      "False\n",
      "True\n",
      "홍길동 홍길동\n"
     ]
    }
   ],
   "source": [
    "# 딕셔너리에서 키의 존재여부(in키워드, get()함수)\n",
    "print('tel' in dict_b)\n",
    "print('name' in dict_b)\n",
    "print(dict_b['name'], dict_b.get('name'))"
   ]
  },
  {
   "cell_type": "code",
   "execution_count": 30,
   "id": "72676caf",
   "metadata": {},
   "outputs": [
    {
     "name": "stdout",
     "output_type": "stream",
     "text": [
      "{1: 2, 3: 9, 4: 11, 6: 2, 2: 7, 8: 2, 5: 3, 7: 1, 9: 1}\n"
     ]
    }
   ],
   "source": [
    "# 딕셔너리 출력 \n",
    "# for 요소변수 in 딕셔너리 변수:\n",
    "# for 키변수, 값변수 in 딕셔너리 변수.items():\n",
    "\n",
    "numbers = [1,3,4,6,2,3,8,2,3,4,5,6,7,8,9,2,3,4,2,3,4,2,3,4,2,3,4,4,2,3,4,4,3,1,5,4,5,4]\n",
    "count = {}\n",
    "\n",
    "for number in numbers:\n",
    "    if number not in count:\n",
    "        count[number] = 0\n",
    "    count[number] += 1\n",
    "print(count)\n"
   ]
  },
  {
   "cell_type": "code",
   "execution_count": null,
   "id": "f34d06c5",
   "metadata": {},
   "outputs": [],
   "source": []
  }
 ],
 "metadata": {
  "kernelspec": {
   "display_name": "Python 3 (ipykernel)",
   "language": "python",
   "name": "python3"
  },
  "language_info": {
   "codemirror_mode": {
    "name": "ipython",
    "version": 3
   },
   "file_extension": ".py",
   "mimetype": "text/x-python",
   "name": "python",
   "nbconvert_exporter": "python",
   "pygments_lexer": "ipython3",
   "version": "3.11.4"
  }
 },
 "nbformat": 4,
 "nbformat_minor": 5
}
