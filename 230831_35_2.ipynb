{
 "cells": [
  {
   "cell_type": "markdown",
   "id": "ad71c5f9",
   "metadata": {},
   "source": [
    "# 주소록\n",
    "## 구분, 이름, 전화번호, 주소를 입력받아서 딕셔너리 저장"
   ]
  },
  {
   "cell_type": "code",
   "execution_count": 1,
   "id": "8bd98137",
   "metadata": {},
   "outputs": [
    {
     "name": "stdout",
     "output_type": "stream",
     "text": [
      "구분 : 가족\n",
      "이름 : 아버지\n",
      "전화번호 : 010-1111-1111\n",
      "주소 : 우리집\n",
      "구분 : 친구\n",
      "이름 : 홍길도\n",
      "전화번호 : 010-1234-1234\n",
      "주소 : 대전\n",
      "구분 : 가족\n",
      "이름 : 어머니\n",
      "전화번호 : 010-222-2222\n",
      "주소 : 우리집\n",
      "구분 : 친구\n",
      "이름 : 이쁜이\n",
      "전화번호 : 010-2345-3456\n",
      "주소 : 대전\n",
      "구분 : 친구\n",
      "이름 : 강무\n",
      "전화번호 : 010-323-3232\n",
      "주소 : 서울\n",
      "구분 : 직장\n",
      "이름 : 부장\n",
      "전화번호 : 010-5678-4536\n",
      "주소 : 대전\n",
      "구분 : 친구\n",
      "이름 : 김씨\n",
      "전화번호 : 010-4536-0536\n",
      "주소 : 서울\n",
      "구분 : 가족\n",
      "이름 : 형\n",
      "전화번호 : 010-6729-2941\n",
      "주소 : 우리집\n",
      "구분 : 직장\n",
      "이름 : 홍이선\n",
      "전화번호 : 010-4562-0954\n",
      "주소 : 대전\n",
      "구분 : 친구\n",
      "이름 : 최기성\n",
      "전화번호 : 010-2137-5105\n",
      "주소 : 과천\n",
      "구분 : 기타\n",
      "이름 : 세탁소\n",
      "전화번호 : 010-3419-4520\n",
      "주소 : 대전\n",
      "구분 : end\n",
      "가족 {'010-1111-1111': ['아버지', '우리집'], '010-222-2222': ['어머니', '우리집'], '010-6729-2941': ['형', '우리집']}\n",
      "친구 {'010-1234-1234': ['홍길도', '대전'], '010-2345-3456': ['이쁜이', '대전'], '010-323-3232': ['강무', '서울'], '010-4536-0536': ['김씨', '서울'], '010-2137-5105': ['최기성', '과천']}\n",
      "직장 {'010-5678-4536': ['부장', '대전'], '010-4562-0954': ['홍이선', '대전']}\n",
      "기타 {'010-3419-4520': ['세탁소', '대전']}\n"
     ]
    }
   ],
   "source": [
    "# 딕셔너리 선언\n",
    "addr_list = {}\n",
    "\n",
    "while True:\n",
    "    category = input('구분 : ')\n",
    "    if category == 'end':\n",
    "        break\n",
    "    name = input('이름 : ')\n",
    "    tel = input('전화번호 : ')\n",
    "    addr = input('주소 : ')\n",
    "    print()\n",
    "    # 존재하지 않을 때     \n",
    "    if category not in addr_list:\n",
    "        # 딕셔너리 선언\n",
    "        addr_list[category] = {}\n",
    "    if tel not in addr_list[category]:\n",
    "        addr_list[category][tel] = []\n",
    "        addr_list[category][tel].append(name)\n",
    "        addr_list[category][tel].append(addr)\n",
    "for key, values in addr_list.items():\n",
    "    print(key, values)\n",
    "        "
   ]
  },
  {
   "cell_type": "markdown",
   "id": "a20894a7",
   "metadata": {},
   "source": [
    "## 주소록 출력"
   ]
  },
  {
   "cell_type": "code",
   "execution_count": 13,
   "id": "a43d7932",
   "metadata": {},
   "outputs": [
    {
     "name": "stdout",
     "output_type": "stream",
     "text": [
      "==================================================================\n",
      "가족 ( 3 )\n",
      "==================================================================\n",
      "아버지       010-1111-1111  우리집                 \n",
      "어머니       010-222-2222   우리집                 \n",
      "형         010-6729-2941  우리집                 \n",
      "\n",
      "==================================================================\n",
      "친구 ( 5 )\n",
      "==================================================================\n",
      "홍길도       010-1234-1234  대전                  \n",
      "이쁜이       010-2345-3456  대전                  \n",
      "강무        010-323-3232   서울                  \n",
      "김씨        010-4536-0536  서울                  \n",
      "최기성       010-2137-5105  과천                  \n",
      "\n",
      "==================================================================\n",
      "직장 ( 2 )\n",
      "==================================================================\n",
      "부장        010-5678-4536  대전                  \n",
      "홍이선       010-4562-0954  대전                  \n",
      "\n",
      "==================================================================\n",
      "기타 ( 1 )\n",
      "==================================================================\n",
      "세탁소       010-3419-4520  대전                  \n",
      "\n"
     ]
    }
   ],
   "source": [
    "for key, values in addr_list.items():\n",
    "    print('==================================================================')\n",
    "    print(key,'(',len(values),')')\n",
    "    print('==================================================================')\n",
    "    for sub_key, sub_value in values.items():\n",
    "        print(\"{:10s}{:15s}{:20s}\".format(sub_value[0], sub_key, sub_value[1]))\n",
    "    print()"
   ]
  },
  {
   "cell_type": "markdown",
   "id": "acffcab8",
   "metadata": {},
   "source": [
    "## 4번 문제\n",
    "### 캐릭터 상태창 출력"
   ]
  },
  {
   "cell_type": "code",
   "execution_count": 25,
   "id": "7da85cad",
   "metadata": {},
   "outputs": [
    {
     "name": "stdout",
     "output_type": "stream",
     "text": [
      "name : 기사\n",
      "level : 12\n",
      "sword : 불꽃의 검\n",
      "armor : 풀플레이트\n",
      "skill 베기\n",
      "skill 세게 베기\n",
      "skill 아주 세게 베기\n"
     ]
    }
   ],
   "source": [
    "# 딕셔너리 선언\n",
    "character = {\n",
    "    \"name\" : \"기사\",\n",
    "    \"level\" : 12,\n",
    "    \"items\" : {\n",
    "        \"sword\" : \"불꽃의 검\",\n",
    "        \"armor\" : \"풀플레이트\"\n",
    "    },\n",
    "    \"skill\" : [\"베기\", \"세게 베기\", \"아주 세게 베기\"]\n",
    "}\n",
    "\n",
    "# for 반복문을 사용\n",
    "for key in character:\n",
    "    if type(character[key]) == str or type(character[key]) == int:\n",
    "        print(key, ':', character[key])\n",
    "    \n",
    "    if type(character[key]) == dict:\n",
    "        for sub_key, value in character[key].items():\n",
    "            print(sub_key, ':', value)\n",
    "    \n",
    "    if type(character[key]) == list:\n",
    "        for val in character[key]:\n",
    "            print(key, val)\n",
    "            "
   ]
  }
 ],
 "metadata": {
  "kernelspec": {
   "display_name": "Python 3 (ipykernel)",
   "language": "python",
   "name": "python3"
  },
  "language_info": {
   "codemirror_mode": {
    "name": "ipython",
    "version": 3
   },
   "file_extension": ".py",
   "mimetype": "text/x-python",
   "name": "python",
   "nbconvert_exporter": "python",
   "pygments_lexer": "ipython3",
   "version": "3.11.4"
  }
 },
 "nbformat": 4,
 "nbformat_minor": 5
}
