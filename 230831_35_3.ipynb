{
 "cells": [
  {
   "cell_type": "markdown",
   "id": "df341eb0",
   "metadata": {},
   "source": [
    "# 범위와 반복"
   ]
  },
  {
   "cell_type": "code",
   "execution_count": 13,
   "id": "bf69aa6b",
   "metadata": {},
   "outputs": [
    {
     "name": "stdout",
     "output_type": "stream",
     "text": [
      "range(0, 5)\n",
      "[0, 1, 2, 3, 4]\n",
      "\n",
      "[1, 2, 3, 4]\n",
      "\n",
      "[0, 5, 10, 15, 20, 25, 30, 35, 40, 45, 50, 55, 60, 65, 70, 75, 80, 85, 90, 95]\n"
     ]
    }
   ],
   "source": [
    "# \n",
    "a = range(5)\n",
    "print(a)\n",
    "print(list(a))\n",
    "print()\n",
    "\n",
    "b = range(1,5)\n",
    "print(list(b))\n",
    "print()\n",
    "\n",
    "c = range(0, 100, 5)\n",
    "print(list(c))\n"
   ]
  },
  {
   "cell_type": "code",
   "execution_count": 12,
   "id": "5378e7f0",
   "metadata": {},
   "outputs": [
    {
     "name": "stdout",
     "output_type": "stream",
     "text": [
      "1 2 3 4 5 6 7 8 9 10 "
     ]
    }
   ],
   "source": [
    "# \n",
    "for i in range(1, 11):\n",
    "    print(i, end = \" \")"
   ]
  },
  {
   "cell_type": "code",
   "execution_count": 33,
   "id": "b4e72e1a",
   "metadata": {},
   "outputs": [
    {
     "name": "stdout",
     "output_type": "stream",
     "text": [
      "*\n",
      "**\n",
      "***\n",
      "****\n",
      "*****\n",
      "******\n",
      "*******\n",
      "********\n",
      "*********\n",
      "**********\n",
      "\n",
      "**********\n",
      "*********\n",
      "********\n",
      "*******\n",
      "******\n",
      "*****\n",
      "****\n",
      "***\n",
      "**\n",
      "*\n",
      "\n",
      "**********\n",
      " *********\n",
      "  ********\n",
      "   *******\n",
      "    ******\n",
      "     *****\n",
      "      ****\n",
      "       ***\n",
      "        **\n",
      "         *\n",
      "\n",
      "          *\n",
      "         **\n",
      "        ***\n",
      "       ****\n",
      "      *****\n",
      "     ******\n",
      "    *******\n",
      "   ********\n",
      "  *********\n",
      " **********\n",
      "\n"
     ]
    }
   ],
   "source": [
    "# \n",
    "for i in range(1, 11):\n",
    "    print('*' * i)\n",
    "print()\n",
    "\n",
    "# \n",
    "for i in range(1, 11):\n",
    "    print('*' * (11-i))\n",
    "print()\n",
    "\n",
    "# \n",
    "for i in range(1, 11):\n",
    "    print(' ' * (i-1), end = '')\n",
    "    print('*' * (11-i))    \n",
    "print()\n",
    "\n",
    "# \n",
    "for i in range(1, 11):\n",
    "    print(' ' * (11-i), end = '')   \n",
    "    print('*' * (i))   \n",
    "print()"
   ]
  },
  {
   "cell_type": "markdown",
   "id": "3b19f403",
   "metadata": {},
   "source": [
    "# 응용해보기\n",
    "## 바람개비 만들기"
   ]
  },
  {
   "cell_type": "code",
   "execution_count": 95,
   "id": "775b91eb",
   "metadata": {},
   "outputs": [
    {
     "name": "stdout",
     "output_type": "stream",
     "text": [
      "*          **********\n",
      "**         *********\n",
      "***        ********\n",
      "****       *******\n",
      "*****      ******\n",
      "******     *****\n",
      "*******    ****\n",
      "********   ***\n",
      "*********  **\n",
      "********** *\n",
      "          *\n",
      "         * **********\n",
      "        **  *********\n",
      "       ***   ********\n",
      "      ****    *******\n",
      "     *****     ******\n",
      "    ******      *****\n",
      "   *******       ****\n",
      "  ********        ***\n",
      " *********         **\n",
      "**********          *\n"
     ]
    }
   ],
   "source": [
    "# end='' : 모든 문자열 출력 후 마지막에 붙는 문자열, 무조건 문자열로 설정\n",
    "for i in range(1,11):\n",
    "    print('*' * i, end = \"\")\n",
    "    print(' ' * (11-i), end = \"\")\n",
    "    print('*' * (11-i))\n",
    "print(' ' * 9, '*')\n",
    "\n",
    "for i in range(1, 11):\n",
    "    print(' ' * (10-i), end = '')   \n",
    "    print('*' * i, end = \"\")\n",
    "    print(' ', end = \"\")\n",
    "    print(' ' * (i-1), end = '')\n",
    "    print('*' * (11-i))    \n"
   ]
  },
  {
   "cell_type": "markdown",
   "id": "c44063dc",
   "metadata": {},
   "source": [
    "# 0 ~ 30까지 0.3 씩 증가시키고 리스트로 출력"
   ]
  },
  {
   "cell_type": "code",
   "execution_count": 100,
   "id": "cbd27be6",
   "metadata": {},
   "outputs": [
    {
     "name": "stdout",
     "output_type": "stream",
     "text": [
      "[0.0, 0.3, 0.6, 0.9, 1.2, 1.5, 1.8, 2.1, 2.4, 2.7, 3.0, 3.3, 3.6, 3.9, 4.2, 4.5, 4.8, 5.1, 5.4, 5.7, 6.0, 6.3, 6.6, 6.9, 7.2, 7.5, 7.8, 8.1, 8.4, 8.7, 9.0, 9.3, 9.6, 9.9, 10.2, 10.5, 10.8, 11.1, 11.4, 11.7, 12.0, 12.3, 12.6, 12.9, 13.2, 13.5, 13.8, 14.1, 14.4, 14.7, 15.0, 15.3, 15.6, 15.9, 16.2, 16.5, 16.8, 17.1, 17.4, 17.7, 18.0, 18.3, 18.6, 18.9, 19.2, 19.5, 19.8, 20.1, 20.4, 20.7, 21.0, 21.3, 21.6, 21.9, 22.2, 22.5, 22.8, 23.1, 23.4, 23.7, 24.0, 24.3, 24.6, 24.9, 25.2, 25.5, 25.8, 26.1, 26.4, 26.7, 27.0, 27.3, 27.6, 27.9, 28.2, 28.5, 28.8, 29.1, 29.4, 29.7]\n"
     ]
    }
   ],
   "source": [
    "number = []\n",
    "\n",
    "\n",
    "for i in range(0, 300, 3):\n",
    "    number.append(i/10)\n",
    "print(number)"
   ]
  }
 ],
 "metadata": {
  "kernelspec": {
   "display_name": "Python 3 (ipykernel)",
   "language": "python",
   "name": "python3"
  },
  "language_info": {
   "codemirror_mode": {
    "name": "ipython",
    "version": 3
   },
   "file_extension": ".py",
   "mimetype": "text/x-python",
   "name": "python",
   "nbconvert_exporter": "python",
   "pygments_lexer": "ipython3",
   "version": "3.11.4"
  }
 },
 "nbformat": 4,
 "nbformat_minor": 5
}
