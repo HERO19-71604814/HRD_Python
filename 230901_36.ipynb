{
 "cells": [
  {
   "cell_type": "markdown",
   "id": "f9c0a641",
   "metadata": {},
   "source": [
    "# 23년 09월 01일 36일차\n",
    "## while 반복문(240p)"
   ]
  },
  {
   "cell_type": "code",
   "execution_count": 8,
   "id": "86047d3c",
   "metadata": {},
   "outputs": [
    {
     "name": "stdout",
     "output_type": "stream",
     "text": [
      "499999500000\n",
      "시작 :  1693527442.4679546\n",
      "계산 후 :  1693527442.7479475\n",
      "계산시간 :  0.27999281883239746\n"
     ]
    }
   ],
   "source": [
    "import time\n",
    "# print(time.time())\n",
    "# print(365*24*60*60)\n",
    "\n",
    "curr_time = time.time()\n",
    "number = 0\n",
    "\n",
    "for i in range(1000000):\n",
    "    number += i\n",
    "print(number)\n",
    "leave_time = time.time()\n",
    "print('시작 : ', curr_time)\n",
    "print('계산 후 : ', leave_time)\n",
    "print('계산시간 : ', leave_time - curr_time)"
   ]
  },
  {
   "cell_type": "code",
   "execution_count": 12,
   "id": "9b3ca0d3",
   "metadata": {},
   "outputs": [
    {
     "name": "stdout",
     "output_type": "stream",
     "text": [
      "30373175133015\n",
      "시작 :  1693527778.9434345\n",
      "계산 후 :  1693527783.9444306\n",
      "계산 수 :  7793994\n",
      "계산 결과 :  30373175133015\n",
      "계산시간 :  5.000996112823486\n"
     ]
    }
   ],
   "source": [
    "import time\n",
    "curr_time = time.time()\n",
    "comp_time = curr_time + 5\n",
    "number = 0\n",
    "count = 0\n",
    "\n",
    "while time.time() < comp_time:\n",
    "    count = count + 1\n",
    "    number += count\n",
    "    \n",
    "print(number)\n",
    "leave_time = time.time()\n",
    "print('시작 : ', curr_time)\n",
    "print('계산 후 : ', leave_time)\n",
    "print('계산 수 : ', count)\n",
    "print('계산 결과 : ', number)\n",
    "print('계산시간 : ', leave_time - curr_time)"
   ]
  },
  {
   "cell_type": "code",
   "execution_count": 13,
   "id": "d05e1025",
   "metadata": {},
   "outputs": [
    {
     "name": "stdout",
     "output_type": "stream",
     "text": [
      "0\n",
      "1\n",
      "2\n",
      "3\n",
      "4\n",
      "5\n",
      "6\n",
      "7\n",
      "8\n",
      "9\n"
     ]
    }
   ],
   "source": [
    "for i in range(10):\n",
    "    time.sleep(1)\n",
    "    print(i)"
   ]
  },
  {
   "cell_type": "code",
   "execution_count": 41,
   "id": "dc056ba4",
   "metadata": {},
   "outputs": [
    {
     "name": "stdout",
     "output_type": "stream",
     "text": [
      "{'name': '기사', 'hp': 200, 'mp': 30, 'level': 5}\n"
     ]
    }
   ],
   "source": [
    "# 2번 문제\n",
    "key_list = [\"name\", \"hp\", \"mp\", \"level\"]\n",
    "value_list = [\"기사\", 200, 30, 5]\n",
    "character = {}\n",
    "\n",
    "for i in range(len(key_list)):\n",
    "    character[key_list[i]] = value_list[i]\n",
    "\n",
    "print(character)"
   ]
  },
  {
   "cell_type": "code",
   "execution_count": 1,
   "id": "0384d3dc",
   "metadata": {},
   "outputs": [
    {
     "name": "stdout",
     "output_type": "stream",
     "text": [
      "141를 더할 때 10000을 넘으면 그때의 값은 10011입니다.\n"
     ]
    }
   ],
   "source": [
    "# 3번 문제\n",
    "limit = 10000\n",
    "i = 1\n",
    "\n",
    "sum_value = 0\n",
    "while sum_value < limit:\n",
    "    sum_value += i\n",
    "    i += 1\n",
    "\n",
    "print(\"{}를 더할 때 {}을 넘으면 그때의 값은 {}입니다.\".format(i-1, limit, sum_value))"
   ]
  },
  {
   "cell_type": "code",
   "execution_count": 13,
   "id": "159d4eff",
   "metadata": {},
   "outputs": [
    {
     "name": "stdout",
     "output_type": "stream",
     "text": [
      "최대가 되는 경우: 50 * 50 = 2500\n"
     ]
    }
   ],
   "source": [
    "# 4번 문제\n",
    "max_value = 0\n",
    "a = 0\n",
    "b = 0\n",
    "\n",
    "# 1부터 100까지 순서를 100-1, 99-1,...순으로 반복\n",
    "for i in range(1, 100):\n",
    "    j = 100 - i    \n",
    "    \n",
    "    # 최댓값 구하기\n",
    "    # i = 1~100 * j = 99~1 > max_value = 0      \n",
    "    if i * j > max_value:\n",
    "        a = i\n",
    "        b = j\n",
    "        max_value = i * j    \n",
    "    \n",
    "print(\"최대가 되는 경우: {} * {} = {}\".format(a, b, max_value))    "
   ]
  },
  {
   "cell_type": "code",
   "execution_count": null,
   "id": "5e0b0d81",
   "metadata": {},
   "outputs": [],
   "source": []
  }
 ],
 "metadata": {
  "kernelspec": {
   "display_name": "Python 3 (ipykernel)",
   "language": "python",
   "name": "python3"
  },
  "language_info": {
   "codemirror_mode": {
    "name": "ipython",
    "version": 3
   },
   "file_extension": ".py",
   "mimetype": "text/x-python",
   "name": "python",
   "nbconvert_exporter": "python",
   "pygments_lexer": "ipython3",
   "version": "3.11.4"
  }
 },
 "nbformat": 4,
 "nbformat_minor": 5
}
