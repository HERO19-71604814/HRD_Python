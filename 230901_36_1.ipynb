{
 "cells": [
  {
   "cell_type": "markdown",
   "id": "9f619766",
   "metadata": {},
   "source": [
    "## 04-4 문자열, 리스트, 딕셔너리와 관련된 기본함수(250p)"
   ]
  },
  {
   "cell_type": "code",
   "execution_count": 6,
   "id": "7bf5ccde",
   "metadata": {},
   "outputs": [
    {
     "name": "stdout",
     "output_type": "stream",
     "text": [
      "23\n",
      "104\n",
      "314\n",
      "62.8\n"
     ]
    }
   ],
   "source": [
    "# numbers = [104, 54, 23, 78, 55, 'a'] 문자가 들어가면 오류\n",
    "numbers = [104, 54, 23, 78, 55]\n",
    "\n",
    "print(min(numbers)) # 최고작은값\n",
    "print(max(numbers)) # 최고큰값\n",
    "print(sum(numbers)) # 합계\n",
    "print(sum(numbers) / len(numbers)) # 평균\n"
   ]
  },
  {
   "cell_type": "code",
   "execution_count": 13,
   "id": "0f56d48e",
   "metadata": {},
   "outputs": [
    {
     "name": "stdout",
     "output_type": "stream",
     "text": [
      "[55, 78, 23, 54, 104]\n",
      "<list_reverseiterator object at 0x000001F004F2D540>\n",
      "55\n",
      "78\n",
      "23\n",
      "54\n",
      "104\n"
     ]
    }
   ],
   "source": [
    "# reversed()함수로 리스트 뒤집기\n",
    "print(list(reversed(numbers))) \n",
    "temp = reversed(numbers)\n",
    "print(temp)\n",
    "for i in temp:\n",
    "    print(i)\n",
    "\n",
    "for i in temp:\n",
    "    print(i)    "
   ]
  },
  {
   "cell_type": "code",
   "execution_count": 26,
   "id": "59c76cba",
   "metadata": {},
   "outputs": [
    {
     "name": "stdout",
     "output_type": "stream",
     "text": [
      "0 번째 요소 :  요소A\n",
      "1 번째 요소 :  요소B\n",
      "2 번째 요소 :  요소C\n",
      "\n",
      "0 번째 요소 :  요소A\n",
      "1 번째 요소 :  요소B\n",
      "2 번째 요소 :  요소C\n"
     ]
    }
   ],
   "source": [
    "# enumerate() 함수와 반복문 조합하기\n",
    "example_list = [\"요소A\", \"요소B\", \"요소C\"]\n",
    "\n",
    "for i in range(len(example_list)): #example_list의 길이 만큼 0~2 => 총3번\n",
    "    print(i, '번째 요소 : ', example_list[i]) #example_list[i]의 주소안에 있는 값 \n",
    "print()\n",
    "\n",
    "for i, j in enumerate(example_list):\n",
    "    print(i, '번째 요소 : ', j)    "
   ]
  },
  {
   "cell_type": "code",
   "execution_count": 37,
   "id": "859e2c72",
   "metadata": {},
   "outputs": [
    {
     "name": "stdout",
     "output_type": "stream",
     "text": [
      "key :  name ,  value :  abc\n",
      "name : abc\n",
      "age : 30\n",
      "addr : seoul\n",
      "\n",
      "key :  age ,  value :  30\n",
      "name : abc\n",
      "age : 30\n",
      "addr : seoul\n",
      "\n",
      "key :  addr ,  value :  seoul\n",
      "name : abc\n",
      "age : 30\n",
      "addr : seoul\n",
      "\n"
     ]
    }
   ],
   "source": [
    "# 딕셔너리의 items() 함수와 반복문 조합하기\n",
    "dict_list = {\n",
    "    \"name\" : 'abc',\n",
    "    \"age\" : 30,\n",
    "    \"addr\" : \"seoul\",\n",
    "}\n",
    "\n",
    "for key in dict_list:\n",
    "    print(\"key : \", key, \", \" ,\"value : \", dict_list[key])    \n",
    "    for key, value in dict_list.items():\n",
    "        print(key, \":\",value)\n",
    "    print()"
   ]
  },
  {
   "cell_type": "code",
   "execution_count": 38,
   "id": "4e9e5c7d",
   "metadata": {},
   "outputs": [
    {
     "name": "stdout",
     "output_type": "stream",
     "text": [
      "010-1234-5678\n"
     ]
    }
   ],
   "source": [
    "# 문자열의 join()함수\n",
    "a = ['010','1234','5678']\n",
    "# 문자열.join(문자열로 구성된 리스트)\n",
    "print('-'.join(a))\n"
   ]
  },
  {
   "cell_type": "code",
   "execution_count": 46,
   "id": "775c1ab4",
   "metadata": {},
   "outputs": [
    {
     "name": "stdout",
     "output_type": "stream",
     "text": [
      "<class 'list'> <class 'list_reverseiterator'>\n",
      "5\n",
      "4\n",
      "3\n",
      "2\n",
      "1\n"
     ]
    }
   ],
   "source": [
    "# 이터레이터\n",
    "a = [1, 2, 3, 4, 5]\n",
    "b = reversed(a)\n",
    "print(type(a), type(b))\n",
    "print(next(b))\n",
    "print(next(b))\n",
    "print(next(b))\n",
    "print(next(b))\n",
    "print(next(b))"
   ]
  },
  {
   "cell_type": "code",
   "execution_count": 56,
   "id": "16b51f70",
   "metadata": {},
   "outputs": [
    {
     "name": "stdout",
     "output_type": "stream",
     "text": [
      "0 : 0\n",
      "2 : 10\n",
      "5 : 101\n",
      "6 : 110\n",
      "11 : 1011\n",
      "13 : 1101\n",
      "14 : 1110\n",
      "23 : 10111\n",
      "27 : 11011\n",
      "29 : 11101\n",
      "30 : 11110\n",
      "47 : 101111\n",
      "55 : 110111\n",
      "59 : 111011\n",
      "61 : 111101\n",
      "62 : 111110\n",
      "95 : 1011111\n",
      "합계:  539\n"
     ]
    }
   ],
   "source": [
    "# 2번\n",
    "output = [i for i in range(101) if \"{:b}\".format(i).count(\"0\") == 1]\n",
    "\n",
    "for i in output:\n",
    "    print(\"{} : {}\".format(i, \"{:b}\".format(i)))    \n",
    "print(\"합계: \", sum(output))"
   ]
  },
  {
   "cell_type": "markdown",
   "id": "fa2706db",
   "metadata": {},
   "source": [
    "# 4장 도전문제(268p~270p)"
   ]
  },
  {
   "cell_type": "code",
   "execution_count": 97,
   "id": "a96a2e81",
   "metadata": {},
   "outputs": [
    {
     "name": "stdout",
     "output_type": "stream",
     "text": [
      "[1, 2, 3, 4, 1, 2, 3, 1, 4, 1, 2, 3]\n",
      "사용된 숫자의 종류는 4개 입니다.\n",
      "참고: {1: 4, 2: 3, 3: 3, 4: 2}\n"
     ]
    }
   ],
   "source": [
    "# 1. 숫자의 종류\n",
    "a = [1, 2, 3, 4, 1, 2, 3, 1, 4, 1, 2, 3]\n",
    "count = {}\n",
    "\n",
    "for a1 in a:\n",
    "    if a1 not in count:\n",
    "        count[a1] = 0\n",
    "    count[a1] += 1\n",
    "print(a)\n",
    "print('사용된 숫자의 종류는 {}개 입니다.'.format(len(count)))\n",
    "print('참고:', count)"
   ]
  },
  {
   "cell_type": "code",
   "execution_count": 131,
   "id": "469403e9",
   "metadata": {},
   "outputs": [
    {
     "name": "stdout",
     "output_type": "stream",
     "text": [
      "염기 서열을 입력해주세요: afdasffsdfafsadfsdfa\n",
      "a의 개수는 : 5\n",
      "f의 개수는 : 7\n",
      "d의 개수는 : 4\n",
      "s의 개수는 : 4\n"
     ]
    }
   ],
   "source": [
    "# 2. 염기의 개수\n",
    "# dnain = input('염기 서열을 입력해주세요: ')\n",
    "# # 4가지 요소 리스트\n",
    "# dna = {\n",
    "#     \"a\" : 0,\n",
    "#     \"t\" : 0,\n",
    "#     \"g\" : 0,\n",
    "#     \"c\" : 0\n",
    "# }\n",
    "\n",
    "# # 입력된값의 숫자 세기\n",
    "# for dna1 in dnain:\n",
    "#     dna[dna1] += 1\n",
    "\n",
    "# #  4가지 요소 리스트의 개수 출력\n",
    "# for dna2 in dna: \n",
    "#     print('{}의 개수 : {}'.format(dna2, dna[dna2]))        \n",
    "\n",
    "data =  input('염기 서열을 입력해주세요: ')\n",
    "codon = {}\n",
    "\n",
    "for i in data:\n",
    "    if i not in codon:\n",
    "        codon[i] = 0\n",
    "    codon[i] += 1\n",
    "for key, value in codon.items():\n",
    "    print(\"{}의 개수는 : {}\".format(key, value))"
   ]
  },
  {
   "cell_type": "code",
   "execution_count": 133,
   "id": "e1d735e2",
   "metadata": {},
   "outputs": [
    {
     "name": "stdout",
     "output_type": "stream",
     "text": [
      "aag의 개수는 : 1\n",
      "tca의 개수는 : 1\n",
      "gct의 개수는 : 2\n",
      "gac의 개수는 : 2\n",
      "gta의 개수는 : 1\n",
      "cga의 개수는 : 1\n",
      "ctg의 개수는 : 2\n",
      "act의 개수는 : 1\n",
      "gca의 개수는 : 1\n",
      "tga의 개수는 : 1\n",
      "ac의 개수는 : 1\n"
     ]
    }
   ],
   "source": [
    "# 3. 염기 코돈 개수\n",
    "# dnain = input('염기 서열을 입력해주세요: ')\n",
    "\n",
    "# for i in range(0, len(dnain), 3):\n",
    "#     codon = dnain[i:i+3]\n",
    "    \n",
    "#     if len(codon) == 3:\n",
    "#         print(codon)\n",
    "\n",
    "data = \"aagtcagctgacgtacgactgactgcagctgactgactgac\"\n",
    "codon = {}\n",
    "\n",
    "for i in range(0, len(data), 3):\n",
    "    if data[i:i+3] not in codon:\n",
    "        codon[data[i:i+3]] = 0\n",
    "    codon[data[i:i+3]] += 1\n",
    "for key, value in codon.items():\n",
    "    print(\"{}의 개수는 : {}\".format(key, value))"
   ]
  },
  {
   "cell_type": "code",
   "execution_count": 139,
   "id": "e0d16abc",
   "metadata": {},
   "outputs": [
    {
     "name": "stdout",
     "output_type": "stream",
     "text": [
      "[4, 5, 6, 3, 5, 7, 2, 6, 4, 6, 7]\n"
     ]
    }
   ],
   "source": [
    "# 4. 2차원 리스트 평탄화\n",
    "# a = [1,2,[3,4],5,[6,7],[8,9]]\n",
    "# output = []\n",
    "\n",
    "# for i in a:\n",
    "#     if type(i) == list:\n",
    "#         for j in i:\n",
    "#             output.append(j)\n",
    "#     else:\n",
    "#         output.append(i)\n",
    "        \n",
    "# print(\"{}를 평탄화하면\".format(a))\n",
    "# print(\"{}입니다.\".format(output))\n",
    "\n",
    "data = [4, 5, [6, 3, 5], 7, [2, 6], [4, 6], 7]\n",
    "numbers = []\n",
    "\n",
    "for i in data:\n",
    "    if type(i) == list:\n",
    "        for j in i:\n",
    "            numbers.append(j)\n",
    "    else:\n",
    "        numbers.append(i)\n",
    "print(numbers)"
   ]
  },
  {
   "cell_type": "markdown",
   "id": "5e6da4e2",
   "metadata": {},
   "source": [
    "#### 영어 단어와 뜻을 입력받아 저장한 후 임의의 단어를 선택하여 뜻을 맟추는 프로그램"
   ]
  },
  {
   "cell_type": "code",
   "execution_count": 142,
   "id": "b756de68",
   "metadata": {},
   "outputs": [
    {
     "name": "stdout",
     "output_type": "stream",
     "text": [
      "영단어를 입력computer\n",
      "뜻을 입력(여러가지의 뜻이면 뛰어쓰기)컴퓨터\n",
      "영단어를 입력stop\n",
      "뜻을 입력(여러가지의 뜻이면 뛰어쓰기)그만 종료\n",
      "영단어를 입력end\n",
      "{'computer': ['컴퓨터'], 'stop': ['그만', '종료']}\n"
     ]
    }
   ],
   "source": [
    "words = {}\n",
    "while True:\n",
    "    word = input('영단어를 입력: ')\n",
    "    if word == 'end':\n",
    "        break\n",
    "    korea = input('뜻을 입력(여러가지의 뜻이면 뛰어쓰기): ')\n",
    "    koreas = korea.split(' ')\n",
    "    words[word] = koreas\n",
    "print(words)\n",
    "    "
   ]
  },
  {
   "cell_type": "code",
   "execution_count": null,
   "id": "7bdd4df8",
   "metadata": {},
   "outputs": [],
   "source": []
  }
 ],
 "metadata": {
  "kernelspec": {
   "display_name": "Python 3 (ipykernel)",
   "language": "python",
   "name": "python3"
  },
  "language_info": {
   "codemirror_mode": {
    "name": "ipython",
    "version": 3
   },
   "file_extension": ".py",
   "mimetype": "text/x-python",
   "name": "python",
   "nbconvert_exporter": "python",
   "pygments_lexer": "ipython3",
   "version": "3.11.4"
  }
 },
 "nbformat": 4,
 "nbformat_minor": 5
}
