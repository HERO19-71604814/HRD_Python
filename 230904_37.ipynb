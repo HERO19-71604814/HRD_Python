{
 "cells": [
  {
   "cell_type": "markdown",
   "id": "f41af64b",
   "metadata": {},
   "source": [
    "# 5장 함수 (273p)"
   ]
  },
  {
   "cell_type": "code",
   "execution_count": 1,
   "id": "5f306815",
   "metadata": {},
   "outputs": [
    {
     "name": "stdout",
     "output_type": "stream",
     "text": [
      "안녕하세요\n",
      "안녕하세요\n",
      "안녕하세요\n"
     ]
    }
   ],
   "source": [
    "def print_3_times():\n",
    "    print('안녕하세요')\n",
    "    print('안녕하세요')\n",
    "    print('안녕하세요')\n",
    "print_3_times()"
   ]
  },
  {
   "cell_type": "code",
   "execution_count": 3,
   "id": "ea83dee1",
   "metadata": {},
   "outputs": [
    {
     "name": "stdout",
     "output_type": "stream",
     "text": [
      "안녕하세요\n",
      "안녕하세요\n",
      "안녕하세요\n"
     ]
    }
   ],
   "source": [
    "def print_3_times(s):\n",
    "    print(s)\n",
    "    print(s)\n",
    "    print(s) \n",
    "print_3_times('안녕하세요')"
   ]
  },
  {
   "cell_type": "code",
   "execution_count": 7,
   "id": "30f7c196",
   "metadata": {},
   "outputs": [
    {
     "name": "stdout",
     "output_type": "stream",
     "text": [
      "Hello\n",
      "Hello\n",
      "Hello\n",
      "Hello\n",
      "Hello\n"
     ]
    }
   ],
   "source": [
    "def print_3_times(s, n):\n",
    "    for i in range(n):\n",
    "        print(s)\n",
    "print_3_times('Hello', 5)"
   ]
  },
  {
   "cell_type": "markdown",
   "id": "fe0fbe6a",
   "metadata": {},
   "source": [
    "<가변 매개 변수>"
   ]
  },
  {
   "cell_type": "code",
   "execution_count": 14,
   "id": "aa4a6a1b",
   "metadata": {},
   "outputs": [
    {
     "name": "stdout",
     "output_type": "stream",
     "text": [
      "<class 'tuple'> 5 (10, 20, 30, 60, 70)\n"
     ]
    },
    {
     "data": {
      "text/plain": [
       "190"
      ]
     },
     "execution_count": 14,
     "metadata": {},
     "output_type": "execute_result"
    }
   ],
   "source": [
    "def num_add(*value):\n",
    "    print(type(value), len(value), value)\n",
    "    tot = 0\n",
    "    for i in value:\n",
    "        tot += i\n",
    "    return tot\n",
    "num_add(10, 20, 30, 60, 70)"
   ]
  },
  {
   "cell_type": "code",
   "execution_count": 16,
   "id": "258b5a5d",
   "metadata": {},
   "outputs": [
    {
     "name": "stdout",
     "output_type": "stream",
     "text": [
      "<class 'tuple'> 6 (3, 4, 5, 3, 6, 7)\n",
      "28\n"
     ]
    }
   ],
   "source": [
    "tot = num_add(3, 4, 5, 3, 6, 7)\n",
    "print(tot)"
   ]
  },
  {
   "cell_type": "code",
   "execution_count": 18,
   "id": "47a7b144",
   "metadata": {},
   "outputs": [
    {
     "name": "stdout",
     "output_type": "stream",
     "text": [
      "abc def\n",
      "('a', 'b', 'c')\n"
     ]
    }
   ],
   "source": [
    "def test(str1, str2, *n):\n",
    "    print(str1, str2)\n",
    "    print(n) \n",
    "    \n",
    "test('abc', 'def', 'a', 'b', 'c')"
   ]
  },
  {
   "cell_type": "code",
   "execution_count": 19,
   "id": "29297c64",
   "metadata": {},
   "outputs": [
    {
     "ename": "TypeError",
     "evalue": "test() missing 2 required keyword-only arguments: 'str1' and 'str2'",
     "output_type": "error",
     "traceback": [
      "\u001b[1;31m---------------------------------------------------------------------------\u001b[0m",
      "\u001b[1;31mTypeError\u001b[0m                                 Traceback (most recent call last)",
      "Cell \u001b[1;32mIn[19], line 5\u001b[0m\n\u001b[0;32m      2\u001b[0m     \u001b[38;5;28mprint\u001b[39m(str1, str2)\n\u001b[0;32m      3\u001b[0m     \u001b[38;5;28mprint\u001b[39m(n) \n\u001b[1;32m----> 5\u001b[0m test(\u001b[38;5;124m'\u001b[39m\u001b[38;5;124mabc\u001b[39m\u001b[38;5;124m'\u001b[39m, \u001b[38;5;124m'\u001b[39m\u001b[38;5;124mdef\u001b[39m\u001b[38;5;124m'\u001b[39m, \u001b[38;5;124m'\u001b[39m\u001b[38;5;124ma\u001b[39m\u001b[38;5;124m'\u001b[39m, \u001b[38;5;124m'\u001b[39m\u001b[38;5;124mb\u001b[39m\u001b[38;5;124m'\u001b[39m, \u001b[38;5;124m'\u001b[39m\u001b[38;5;124mc\u001b[39m\u001b[38;5;124m'\u001b[39m)\n",
      "\u001b[1;31mTypeError\u001b[0m: test() missing 2 required keyword-only arguments: 'str1' and 'str2'"
     ]
    }
   ],
   "source": [
    "def test(*n, str1, str2):\n",
    "    print(str1, str2)\n",
    "    print(n) \n",
    "    \n",
    "test('abc', 'def', 'a', 'b', 'c')"
   ]
  },
  {
   "cell_type": "code",
   "execution_count": 30,
   "id": "8bab6adb",
   "metadata": {},
   "outputs": [
    {
     "ename": "SyntaxError",
     "evalue": "positional argument follows keyword argument (2551541942.py, line 10)",
     "output_type": "error",
     "traceback": [
      "\u001b[1;36m  Cell \u001b[1;32mIn[30], line 10\u001b[1;36m\u001b[0m\n\u001b[1;33m    print(test(a=100, 200)) #Error\u001b[0m\n\u001b[1;37m                         ^\u001b[0m\n\u001b[1;31mSyntaxError\u001b[0m\u001b[1;31m:\u001b[0m positional argument follows keyword argument\n"
     ]
    }
   ],
   "source": [
    "def test(a=10, b=20, c=30):\n",
    "    print('a : ', a, ', b : ', b, ', c : ', c)    \n",
    "    return a+b+c\n",
    "\n",
    "print(test())    \n",
    "print(test(100))    \n",
    "print(test(100, 200, 300))\n",
    "print(test(b=100, c=200, a=300))  \n",
    "print(test(100, c=200))  \n",
    "print(test(a=100, 200)) #Error "
   ]
  },
  {
   "cell_type": "code",
   "execution_count": 38,
   "id": "80484eac",
   "metadata": {},
   "outputs": [
    {
     "name": "stdout",
     "output_type": "stream",
     "text": [
      "('abc', '안녕!', '으미') \t\n",
      "('abc', '안녕!', '으미') \t\n",
      "('abc', '안녕!', '으미') \t\n",
      "('abc', '안녕!', '으미') \t\n",
      "('abc', '안녕!', '으미') \t\n"
     ]
    }
   ],
   "source": [
    "def test(*val, n=5, k='\\n'):\n",
    "    for i in range(n):\n",
    "        print(val, k)\n",
    "test('abc', '안녕!', '으미', n=5, k='\\t')"
   ]
  },
  {
   "cell_type": "code",
   "execution_count": 47,
   "id": "d9a591d6",
   "metadata": {},
   "outputs": [
    {
     "name": "stdout",
     "output_type": "stream",
     "text": [
      "abc, def\n"
     ]
    }
   ],
   "source": [
    "print('abc', sep='             ',end=', ')\n",
    "print('def')\n"
   ]
  },
  {
   "cell_type": "code",
   "execution_count": 55,
   "id": "b3a2ff59",
   "metadata": {},
   "outputs": [
    {
     "name": "stdout",
     "output_type": "stream",
     "text": [
      "34 <class 'int'> \n",
      "\n",
      "abd <class 'str'> \n",
      "\n",
      "[1, 2, 3] <class 'list'> \n",
      "\n",
      "{'name': 'fff', 'age': 30} <class 'dict'> \n",
      "\n",
      "(1, 2, 3) <class 'tuple'> \n",
      "\n"
     ]
    }
   ],
   "source": [
    "def type_print(*value):\n",
    "    for i in range(len(value)):\n",
    "        print(value[i], type(value[i]), '\\n')\n",
    "\n",
    "type_print(34, 'abd', [1,2,3], {\"name\":'fff', 'age':30}, (1,2,3))"
   ]
  },
  {
   "cell_type": "code",
   "execution_count": 60,
   "id": "2f72b2e7",
   "metadata": {},
   "outputs": [
    {
     "name": "stdout",
     "output_type": "stream",
     "text": [
      "A\n"
     ]
    },
    {
     "ename": "NameError",
     "evalue": "name 'c' is not defined",
     "output_type": "error",
     "traceback": [
      "\u001b[1;31m---------------------------------------------------------------------------\u001b[0m",
      "\u001b[1;31mNameError\u001b[0m                                 Traceback (most recent call last)",
      "Cell \u001b[1;32mIn[60], line 7\u001b[0m\n\u001b[0;32m      4\u001b[0m     \u001b[38;5;28mprint\u001b[39m(\u001b[38;5;124m'\u001b[39m\u001b[38;5;124mB\u001b[39m\u001b[38;5;124m'\u001b[39m)\n\u001b[0;32m      6\u001b[0m return_test()\n\u001b[1;32m----> 7\u001b[0m \u001b[38;5;28mprint\u001b[39m(c)\n",
      "\u001b[1;31mNameError\u001b[0m: name 'c' is not defined"
     ]
    }
   ],
   "source": [
    "def return_test():\n",
    "    print('A')\n",
    "    return 'C'\n",
    "    print('B')\n",
    "\n",
    "return_test()\n",
    "print(c)"
   ]
  },
  {
   "cell_type": "code",
   "execution_count": 65,
   "id": "e1b757a7",
   "metadata": {},
   "outputs": [
    {
     "name": "stdout",
     "output_type": "stream",
     "text": [
      "16\n",
      "20\n",
      "360\n",
      "1.488888888888889\n"
     ]
    }
   ],
   "source": [
    "def comp(opr, *value):\n",
    "    match opr:\n",
    "        case '+':\n",
    "            return sum(value)\n",
    "        case '-':\n",
    "            return value[0] - value[1]\n",
    "        case '*':\n",
    "            tot = 1\n",
    "            for i in range(len(value)):\n",
    "                tot *= value[i]\n",
    "            return tot\n",
    "        case '/':\n",
    "            return value[0] / value[1]            \n",
    "            \n",
    "print(comp('+', 1,3,5,7))\n",
    "print(comp('-', 54,34))\n",
    "print(comp('*', 4,5,6,3))\n",
    "print(comp('/', 67,45))\n"
   ]
  },
  {
   "cell_type": "code",
   "execution_count": 64,
   "id": "829959a1",
   "metadata": {},
   "outputs": [
    {
     "name": "stdout",
     "output_type": "stream",
     "text": [
      "16\n",
      "20\n",
      "360\n",
      "1.488888888888889\n"
     ]
    }
   ],
   "source": [
    "def comp(opr, *value):\n",
    "    if opr == '+':\n",
    "        return sum(value)\n",
    "    if opr == '-':\n",
    "        return value[0] - value[1]\n",
    "    if opr == '*':\n",
    "        tot = 1\n",
    "        for i in range(len(value)):\n",
    "            tot *= value[i]\n",
    "        return tot\n",
    "    if opr == '/':\n",
    "        return value[0] / value[1]            \n",
    "            \n",
    "print(comp('+', 1,3,5,7))\n",
    "print(comp('-', 54,34))\n",
    "print(comp('*', 4,5,6,3))\n",
    "print(comp('/', 67,45))\n"
   ]
  },
  {
   "cell_type": "code",
   "execution_count": 68,
   "id": "0847209d",
   "metadata": {},
   "outputs": [
    {
     "name": "stdout",
     "output_type": "stream",
     "text": [
      "3150\n"
     ]
    }
   ],
   "source": [
    "# 291p - 2번 문제\n",
    "def mul(*values):\n",
    "    result = 1\n",
    "    for i in values:\n",
    "        result *= i\n",
    "    return result\n",
    "print(mul(5, 7, 9, 10))"
   ]
  },
  {
   "cell_type": "markdown",
   "id": "6d920b96",
   "metadata": {},
   "source": [
    "## 05-3 함수 고급(316p)"
   ]
  },
  {
   "cell_type": "code",
   "execution_count": null,
   "id": "f8070a9c",
   "metadata": {},
   "outputs": [],
   "source": []
  }
 ],
 "metadata": {
  "kernelspec": {
   "display_name": "Python 3 (ipykernel)",
   "language": "python",
   "name": "python3"
  },
  "language_info": {
   "codemirror_mode": {
    "name": "ipython",
    "version": 3
   },
   "file_extension": ".py",
   "mimetype": "text/x-python",
   "name": "python",
   "nbconvert_exporter": "python",
   "pygments_lexer": "ipython3",
   "version": "3.11.4"
  }
 },
 "nbformat": 4,
 "nbformat_minor": 5
}
