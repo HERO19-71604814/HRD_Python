{
 "cells": [
  {
   "cell_type": "markdown",
   "id": "60568932",
   "metadata": {},
   "source": [
    "# 튜플 - 리스트와 같다. 단 고정이다. 수정불가, 추가불가"
   ]
  },
  {
   "cell_type": "code",
   "execution_count": 7,
   "id": "98fa4501",
   "metadata": {},
   "outputs": [
    {
     "name": "stdout",
     "output_type": "stream",
     "text": [
      "1\n",
      "(10, 20, 30)\n"
     ]
    }
   ],
   "source": [
    "a = (1,2)\n",
    "b = (1,)\n",
    "k = 10, 20, 30\n",
    "print(a[0])\n",
    "print(k)"
   ]
  },
  {
   "cell_type": "code",
   "execution_count": 2,
   "id": "9df5786d",
   "metadata": {},
   "outputs": [
    {
     "name": "stdout",
     "output_type": "stream",
     "text": [
      "10 20\n"
     ]
    }
   ],
   "source": [
    "(a, b) = 10,20\n",
    "print(a, b)"
   ]
  },
  {
   "cell_type": "code",
   "execution_count": 6,
   "id": "c7f3b11b",
   "metadata": {},
   "outputs": [
    {
     "name": "stdout",
     "output_type": "stream",
     "text": [
      "10\n",
      "20\n",
      "30\n"
     ]
    },
    {
     "ename": "TypeError",
     "evalue": "'tuple' object does not support item assignment",
     "output_type": "error",
     "traceback": [
      "\u001b[1;31m---------------------------------------------------------------------------\u001b[0m",
      "\u001b[1;31mTypeError\u001b[0m                                 Traceback (most recent call last)",
      "Cell \u001b[1;32mIn[6], line 9\u001b[0m\n\u001b[0;32m      7\u001b[0m \u001b[38;5;28mprint\u001b[39m(a)\n\u001b[0;32m      8\u001b[0m c \u001b[38;5;241m=\u001b[39m (\u001b[38;5;241m10\u001b[39m, \u001b[38;5;241m20\u001b[39m)\n\u001b[1;32m----> 9\u001b[0m c[\u001b[38;5;241m0\u001b[39m] \u001b[38;5;241m=\u001b[39m \u001b[38;5;241m30\u001b[39m\n\u001b[0;32m     10\u001b[0m \u001b[38;5;28mprint\u001b[39m(c)\n",
      "\u001b[1;31mTypeError\u001b[0m: 'tuple' object does not support item assignment"
     ]
    }
   ],
   "source": [
    "def test():\n",
    "    return 10, 20\n",
    "(a, b) = test()\n",
    "print(a)\n",
    "print(b)\n",
    "\n",
    "a = 30\n",
    "print(a)\n",
    "\n",
    "c = (10, 20)\n",
    "c[0] = 30\n",
    "print(c)"
   ]
  },
  {
   "cell_type": "code",
   "execution_count": 13,
   "id": "f2631f6b",
   "metadata": {},
   "outputs": [
    {
     "name": "stdout",
     "output_type": "stream",
     "text": [
      "no <class 'str'>\n",
      "name <class 'str'>\n",
      "age <class 'str'>\n",
      "dict_items([('no', 1), ('name', 'abc'), ('age', 30)])\n",
      "no 1\n",
      "name abc\n",
      "age 30\n"
     ]
    }
   ],
   "source": [
    "dict_st = {\n",
    "    \"no\" : 1,\n",
    "    \"name\" : \"abc\",\n",
    "    \"age\" : 30  \n",
    "}\n",
    "for ele in dict_st:\n",
    "    print(ele, type(ele))\n",
    "print(dict_st.items())\n",
    "for key, value in dict_st.items():\n",
    "    print(key, value)"
   ]
  },
  {
   "cell_type": "markdown",
   "id": "c07ca112",
   "metadata": {},
   "source": [
    "## 05-3 함수 고급 \n",
    "### 람다(322p)\n",
    "#### lambda 변수 : 리턴값"
   ]
  },
  {
   "cell_type": "code",
   "execution_count": 15,
   "id": "6315d87d",
   "metadata": {},
   "outputs": [
    {
     "name": "stdout",
     "output_type": "stream",
     "text": [
      "8\n"
     ]
    }
   ],
   "source": [
    "def add_num(x, y):\n",
    "    return x + y\n",
    "\n",
    "print(add_num(3, 5))"
   ]
  },
  {
   "cell_type": "code",
   "execution_count": 20,
   "id": "8c30dc75",
   "metadata": {},
   "outputs": [
    {
     "name": "stdout",
     "output_type": "stream",
     "text": [
      "8\n"
     ]
    }
   ],
   "source": [
    "re = lambda x, y : x + y\n",
    "print(re(3,5))\n",
    "\n"
   ]
  },
  {
   "cell_type": "code",
   "execution_count": 26,
   "id": "47fced3c",
   "metadata": {},
   "outputs": [
    {
     "name": "stdout",
     "output_type": "stream",
     "text": [
      "10\n"
     ]
    }
   ],
   "source": [
    "a = ['1','2','3','4']\n",
    "tot = 0\n",
    "\n",
    "for num in a:\n",
    "    tot += int(num)\n",
    "print(tot)"
   ]
  },
  {
   "cell_type": "code",
   "execution_count": 27,
   "id": "994ea73a",
   "metadata": {},
   "outputs": [
    {
     "name": "stdout",
     "output_type": "stream",
     "text": [
      "10\n"
     ]
    }
   ],
   "source": [
    "a = ['1','2','3','4']\n",
    "a = map(int, a)\n",
    "tot = 0\n",
    "\n",
    "for num in a:\n",
    "    tot += num\n",
    "print(tot)"
   ]
  },
  {
   "cell_type": "code",
   "execution_count": null,
   "id": "ff88e92b",
   "metadata": {},
   "outputs": [],
   "source": []
  },
  {
   "cell_type": "code",
   "execution_count": null,
   "id": "dbfb6f0f",
   "metadata": {},
   "outputs": [],
   "source": []
  }
 ],
 "metadata": {
  "kernelspec": {
   "display_name": "Python 3 (ipykernel)",
   "language": "python",
   "name": "python3"
  },
  "language_info": {
   "codemirror_mode": {
    "name": "ipython",
    "version": 3
   },
   "file_extension": ".py",
   "mimetype": "text/x-python",
   "name": "python",
   "nbconvert_exporter": "python",
   "pygments_lexer": "ipython3",
   "version": "3.11.4"
  }
 },
 "nbformat": 4,
 "nbformat_minor": 5
}
