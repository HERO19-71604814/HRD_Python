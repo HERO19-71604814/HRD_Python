{
 "cells": [
  {
   "cell_type": "markdown",
   "id": "f1b84b21",
   "metadata": {},
   "source": [
    "# 람다(322p)"
   ]
  },
  {
   "cell_type": "code",
   "execution_count": 16,
   "id": "6728013b",
   "metadata": {},
   "outputs": [
    {
     "name": "stdout",
     "output_type": "stream",
     "text": [
      "['딸기', '배', '사과', '바나나', '포도']\n"
     ]
    }
   ],
   "source": [
    "# 감자 제외 \n",
    "def fruit(items):\n",
    "    if items != '감자':\n",
    "        return items\n",
    "    else:\n",
    "        return \n",
    "    \n",
    "list_a = ['딸기', '배', '사과', '바나나', '포도', '감자']\n",
    "# map(함수, 리스트): none값까지 출력, filter(함수, 리스트) \n",
    "list_b = filter(fruit, list_a) \n",
    "print(list(list_b))\n",
    "for item in list_b:\n",
    "    print(item)\n"
   ]
  },
  {
   "cell_type": "code",
   "execution_count": 15,
   "id": "022eba7f",
   "metadata": {},
   "outputs": [
    {
     "name": "stdout",
     "output_type": "stream",
     "text": [
      "[4, 16, 25, 49, 81]\n"
     ]
    }
   ],
   "source": [
    "def power(item):\n",
    "    return item * item\n",
    "\n",
    "list_a = [2, 4, 5, 7, 9]\n",
    "list_b = map(power, list_a)\n",
    "print(list(list_b))"
   ]
  },
  {
   "cell_type": "code",
   "execution_count": null,
   "id": "138d0f95",
   "metadata": {},
   "outputs": [],
   "source": []
  }
 ],
 "metadata": {
  "kernelspec": {
   "display_name": "Python 3 (ipykernel)",
   "language": "python",
   "name": "python3"
  },
  "language_info": {
   "codemirror_mode": {
    "name": "ipython",
    "version": 3
   },
   "file_extension": ".py",
   "mimetype": "text/x-python",
   "name": "python",
   "nbconvert_exporter": "python",
   "pygments_lexer": "ipython3",
   "version": "3.11.4"
  }
 },
 "nbformat": 4,
 "nbformat_minor": 5
}
