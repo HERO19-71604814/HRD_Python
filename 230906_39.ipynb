{
 "cells": [
  {
   "cell_type": "markdown",
   "id": "9e2fbeb6",
   "metadata": {},
   "source": [
    "# 좀 더 알아보기 ③ 리스트 함수의 key 키워드 매개변수(338p)"
   ]
  },
  {
   "cell_type": "code",
   "execution_count": 8,
   "id": "5084ef32",
   "metadata": {},
   "outputs": [
    {
     "name": "stdout",
     "output_type": "stream",
     "text": [
      "{'제목': '혼자 공부하는 파이썬', '가격': 10000}\n",
      "{'제목': '혼자 공부하는 머신러닝 + 딥러닝', '가격': 20000}\n",
      "{'제목': '혼자 공부하는 자바스크립트', '가격': 24000}\n",
      "\n",
      "# 가장 저렴한 책\n",
      "{'제목': '혼자 공부하는 파이썬', '가격': 10000}\n",
      "1\n"
     ]
    }
   ],
   "source": [
    "books = [\n",
    "    {\n",
    "    \"제목\" : \"혼자 공부하는 파이썬\",\n",
    "    \"가격\" : 10000\n",
    "    },\n",
    "    {\n",
    "    \"제목\" : \"혼자 공부하는 머신러닝 + 딥러닝\",\n",
    "    \"가격\" : 20000\n",
    "    },\n",
    "    {\n",
    "    \"제목\" : \"혼자 공부하는 자바스크립트\",\n",
    "    \"가격\" : 24000\n",
    "    }\n",
    "]\n",
    "\n",
    "# def 가격추출함수(book):\n",
    "#     return book['가격']\n",
    "\n",
    "for book in books:\n",
    "    print(book)\n",
    "print()\n",
    "\n",
    "print(\"# 가장 저렴한 책\")\n",
    "# print(min(books, key=가격추출함수))\n",
    "# 람다로 바꾸기(340p)\n",
    "print(min(books, key = lambda book : book['가격']))\n",
    "print(min([2, 4, 5, 3, 8, 1]))\n"
   ]
  },
  {
   "cell_type": "code",
   "execution_count": 15,
   "id": "6c64184c",
   "metadata": {},
   "outputs": [
    {
     "name": "stdout",
     "output_type": "stream",
     "text": [
      "[9, 7, 6, 4, 3, 2]\n"
     ]
    }
   ],
   "source": [
    "# sort 함수로 오름차순 정렬하기\n",
    "# sort 함수로 내림차순 정렬하기 => reverse=True를 사용\n",
    "a = [3, 6, 9, 7, 2, 4]\n",
    "a.sort(reverse=True)\n",
    "print(a)"
   ]
  },
  {
   "cell_type": "code",
   "execution_count": 20,
   "id": "dec46e99",
   "metadata": {},
   "outputs": [
    {
     "name": "stdout",
     "output_type": "stream",
     "text": [
      "{'제목': '혼자 공부하는 파이썬', '가격': 10000}\n",
      "{'제목': '혼자 공부하는 머신러닝 + 딥러닝', '가격': 20000}\n",
      "{'제목': '혼자 공부하는 자바스크립트', '가격': 24000}\n",
      "\n",
      "# 가격이 높은 순으로 정렬\n",
      "\n",
      "{'제목': '혼자 공부하는 자바스크립트', '가격': 24000}\n",
      "{'제목': '혼자 공부하는 머신러닝 + 딥러닝', '가격': 20000}\n",
      "{'제목': '혼자 공부하는 파이썬', '가격': 10000}\n",
      "\n"
     ]
    }
   ],
   "source": [
    "for book in books:\n",
    "    print(book)\n",
    "print()\n",
    "\n",
    "print(\"# 가격이 높은 순으로 정렬\")\n",
    "books.sort(key = lambda book : book['가격'], reverse=True)\n",
    "print()\n",
    "\n",
    "for book in books:\n",
    "    print(book)\n",
    "print()\n"
   ]
  },
  {
   "cell_type": "markdown",
   "id": "41972008",
   "metadata": {},
   "source": [
    "# 좀 더 알아보기 ④ 스택, 힙(342p)"
   ]
  },
  {
   "cell_type": "markdown",
   "id": "3e78014b",
   "metadata": {},
   "source": [
    "# 좀 더 알아보기 ⑤ 함수의 값 복사와 레퍼런스 복사(345p)"
   ]
  },
  {
   "cell_type": "markdown",
   "id": "a70e7429",
   "metadata": {},
   "source": [
    "※추가 설명※ \n",
    "- Call by value와 Call by reference\n",
    " \n",
    "-Call by value(값에 의한 호출)\n",
    "\n",
    "장점 : 복사하여 처리하기 때문에 안전하다. 원래의 값이 보존이 된다.\n",
    "\n",
    "단점 : 복사를 하기 때문에 메모리가 사용량이 늘어난다.\n",
    "\n",
    "-Call by reference(참조에 의한 호출)\n",
    "\n",
    "장점 : 복사하지 않고 직접 참조를 하기에 빠르다.\n",
    "\n",
    "단점 : 직접 참조를 하기에 원래 값이 영향을 받는다."
   ]
  },
  {
   "cell_type": "code",
   "execution_count": 32,
   "id": "c515f1e6",
   "metadata": {},
   "outputs": [
    {
     "name": "stdout",
     "output_type": "stream",
     "text": [
      "10 20\n",
      "10 20\n"
     ]
    }
   ],
   "source": [
    "def test(aa, bb):\n",
    "#     print(aa, bb)\n",
    "    print(x, y)\n",
    "    \n",
    "x = 10\n",
    "y = 20\n",
    "\n",
    "test(x, y) # 함수\n",
    "print(x, y) # 변수\n",
    "# print(aa, bb) Error\n"
   ]
  },
  {
   "cell_type": "markdown",
   "id": "d137e495",
   "metadata": {},
   "source": [
    "# 확인문제(352p)"
   ]
  },
  {
   "cell_type": "code",
   "execution_count": 43,
   "id": "d92530a1",
   "metadata": {},
   "outputs": [
    {
     "name": "stdout",
     "output_type": "stream",
     "text": [
      "1::2::3::4::5::6\n"
     ]
    }
   ],
   "source": [
    "# 1번\n",
    "numbers = [1,2,3,4,5,6]\n",
    "print(\"::\".join(map(str, numbers)))"
   ]
  },
  {
   "cell_type": "code",
   "execution_count": 41,
   "id": "4a974276",
   "metadata": {},
   "outputs": [
    {
     "name": "stdout",
     "output_type": "stream",
     "text": [
      "[1, 2, 3, 4, 5, 6, 7, 8, 9, 10]\n",
      "[1, 3, 5, 7, 9]\n",
      "[3, 4, 5, 6]\n",
      "[1, 2, 3, 4, 5, 6, 7]\n"
     ]
    }
   ],
   "source": [
    "# 2번\n",
    "# def odd(number):\n",
    "#     return number % 2 == 1\n",
    "\n",
    "numbers = list(range(1, 10+1))\n",
    "print(numbers)\n",
    "# print(list(filter(odd , numbers)))\n",
    "# 람다식을 통한 코드 간결화\n",
    "print(list(filter(lambda number : number % 2 == 1 , numbers)))\n",
    "# 자바에서는 불사능한 문법\n",
    "print(list(filter(lambda number : 3 <= number < 7 , numbers)))\n",
    "# number에 제곱값이 50보다 작은 것\n",
    "print(list(filter(lambda number : number **2 < 50 , numbers)))"
   ]
  },
  {
   "cell_type": "markdown",
   "id": "24d20e42",
   "metadata": {},
   "source": [
    "# 6장 예외처리\n",
    "## 06-1 구문 오류와 예외(360p)"
   ]
  },
  {
   "cell_type": "code",
   "execution_count": 52,
   "id": "1916aa45",
   "metadata": {},
   "outputs": [
    {
     "name": "stdout",
     "output_type": "stream",
     "text": [
      "숫자입력: 123.5\n",
      "정수가 아닙니다!\n"
     ]
    }
   ],
   "source": [
    "# try except else 구문(369p)\n",
    "try:\n",
    "    a = int(input('숫자입력: '))\n",
    "except:\n",
    "    print('정수가 아닙니다!')\n",
    "else:\n",
    "    print(a)"
   ]
  },
  {
   "cell_type": "code",
   "execution_count": 61,
   "id": "e29e519f",
   "metadata": {},
   "outputs": [
    {
     "name": "stdout",
     "output_type": "stream",
     "text": [
      "[1, 2]\n"
     ]
    }
   ],
   "source": [
    "# 예외 처리 구문\n",
    "try:\n",
    "    실행문\n",
    "except 예외 종류: # except: => 아무것도 지정 안할 경우 최상위에 속한다. \n",
    "    예외 처리문\n",
    "    ,\n",
    "    ,\n",
    "else:\n",
    "    정상 수행문\n",
    "finally:\n",
    "    무조건 실행"
   ]
  },
  {
   "cell_type": "code",
   "execution_count": 66,
   "id": "8a773c18",
   "metadata": {},
   "outputs": [],
   "source": [
    "# 예외구문은 else와 finally 생략가능 \n",
    "try:\n",
    "    a = list((1,2))\n",
    "except:\n",
    "    print(\"Error\")\n",
    "# else:\n",
    "#     print(a)\n",
    "# finally:\n",
    "#     print(\"종료\")    "
   ]
  },
  {
   "cell_type": "code",
   "execution_count": null,
   "id": "86f43f4d",
   "metadata": {},
   "outputs": [],
   "source": []
  }
 ],
 "metadata": {
  "kernelspec": {
   "display_name": "Python 3 (ipykernel)",
   "language": "python",
   "name": "python3"
  },
  "language_info": {
   "codemirror_mode": {
    "name": "ipython",
    "version": 3
   },
   "file_extension": ".py",
   "mimetype": "text/x-python",
   "name": "python",
   "nbconvert_exporter": "python",
   "pygments_lexer": "ipython3",
   "version": "3.11.4"
  }
 },
 "nbformat": 4,
 "nbformat_minor": 5
}
