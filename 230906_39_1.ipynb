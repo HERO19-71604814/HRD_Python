{
 "cells": [
  {
   "cell_type": "markdown",
   "id": "b2ecfcc1",
   "metadata": {},
   "source": [
    "# 7장 모듈\n",
    "## 07-1 표준 모듈(400p)"
   ]
  },
  {
   "cell_type": "code",
   "execution_count": 17,
   "id": "2e563dbe",
   "metadata": {},
   "outputs": [
    {
     "name": "stdout",
     "output_type": "stream",
     "text": [
      "0.8414709848078965\n",
      "3.141592653589793\n",
      "0.7071067811865476\n",
      "40.51423422706978\n"
     ]
    }
   ],
   "source": [
    "# 모듈\n",
    "import math\n",
    "print(math.sin(1))\n",
    "\n",
    "# 각도에 해당하는 sin값 구하기\n",
    "\n",
    "# 각도 -> 라디안으로 바꾸기\n",
    "# > 각도 * 180 / 파이값\n",
    "print(math.sin(math.radians(45)))\n",
    "print(math.degrees(0.7071067811865476))"
   ]
  },
  {
   "cell_type": "code",
   "execution_count": null,
   "id": "ab9fef41",
   "metadata": {},
   "outputs": [],
   "source": []
  }
 ],
 "metadata": {
  "kernelspec": {
   "display_name": "Python 3 (ipykernel)",
   "language": "python",
   "name": "python3"
  },
  "language_info": {
   "codemirror_mode": {
    "name": "ipython",
    "version": 3
   },
   "file_extension": ".py",
   "mimetype": "text/x-python",
   "name": "python",
   "nbconvert_exporter": "python",
   "pygments_lexer": "ipython3",
   "version": "3.11.4"
  }
 },
 "nbformat": 4,
 "nbformat_minor": 5
}
