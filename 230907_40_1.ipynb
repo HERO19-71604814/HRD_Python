{
 "cells": [
  {
   "cell_type": "markdown",
   "id": "c68ecdde",
   "metadata": {},
   "source": [
    "# 위키백과의 올림픽 메달 집계의 대한 데이터를 파이썬으로 출력하기"
   ]
  },
  {
   "cell_type": "code",
   "execution_count": 37,
   "id": "f96ed6bd",
   "metadata": {},
   "outputs": [
    {
     "name": "stdout",
     "output_type": "stream",
     "text": [
      "['대한민국', 17, 90, 87, 90, 267, 18, 31, 25, 14, 70, 35, 121, 112, 104, 337]\n"
     ]
    }
   ],
   "source": [
    "from bs4 import BeautifulSoup as bs\n",
    "from urllib import request \n",
    "\n",
    "url = \"https://ko.wikipedia.org/wiki/%EC%98%AC%EB%A6%BC%ED%94%BD_%EB%A9%94%EB%8B%AC_%EC%A7%91%EA%B3%84\"\n",
    "target = request.urlopen(url)\n",
    "soup = bs(target.read(), \"html.parser\")\n",
    "# table = soup.select('table')\n",
    "table = soup.select_one('table') # 테이블 1개 선택\n",
    "trs = table.select(\"tr\") # 선택한 테이블 tr 데이터 가져오기\n",
    "medals = []\n",
    "\n",
    "for i in range(1, len(trs)-1): # tr의 첫번째 부터 마지막 부분 제외 후 전체데이터\n",
    "    loc_medal = []\n",
    "    nation = trs[i].select_one(\"a\").string # a태그의 string가져오기\n",
    "#     print(nation, end=\" \") \n",
    "    loc_medal.append(nation) #loc_medal에 데이터 삽입\n",
    "    tds = trs[i].select('td') # 선택한테이블의 td데이터 가져오기\n",
    "#     print()    \n",
    "    for j in range(1, len(tds)): # td의 첫번째부터 마지막까지\n",
    "#         print(tds[j].string, end=\" \")\n",
    "        loc_medal.append(tds[j].string) # td 데이터 삽입\n",
    "#     print()\n",
    "    medals.append(loc_medal) # 메달딴 1개 국가의 데이터 삽입\n",
    "    \n",
    "for row in medals: # 삽입한 전체데이터\n",
    "    for i in range(len(row)): # \\n과 ,를 제외하는 작업 \n",
    "        row[i] = row[i].replace('\\n', '')\n",
    "        row[i] = row[i].replace(',', '')\n",
    "    row[1:] = map(int, row[1:]) # 정수로 바꿔서 출력\n",
    "\n",
    "for row in medals:\n",
    "    if row[0] in '대한민국': # 대한민국 만 출력\n",
    "        print(row)"
   ]
  },
  {
   "cell_type": "code",
   "execution_count": null,
   "id": "94e523aa",
   "metadata": {},
   "outputs": [],
   "source": []
  }
 ],
 "metadata": {
  "kernelspec": {
   "display_name": "Python 3 (ipykernel)",
   "language": "python",
   "name": "python3"
  },
  "language_info": {
   "codemirror_mode": {
    "name": "ipython",
    "version": 3
   },
   "file_extension": ".py",
   "mimetype": "text/x-python",
   "name": "python",
   "nbconvert_exporter": "python",
   "pygments_lexer": "ipython3",
   "version": "3.11.4"
  }
 },
 "nbformat": 4,
 "nbformat_minor": 5
}
