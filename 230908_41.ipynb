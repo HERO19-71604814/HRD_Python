{
 "cells": [
  {
   "cell_type": "markdown",
   "id": "88b61f95",
   "metadata": {},
   "source": [
    "#"
   ]
  },
  {
   "cell_type": "code",
   "execution_count": 1,
   "id": "56c3163d",
   "metadata": {
    "scrolled": true
   },
   "outputs": [
    {
     "name": "stdout",
     "output_type": "stream",
     "text": [
      "서울 (주)디오티디 은평유니콘주유소 1,674 \n",
      "부산 용마주유소 1,657 \n",
      "대구 대구주유소 ㈜아이에스피에스엠엠티 1,670 \n",
      "인천 서광유업㈜청도3주유소 1,683 \n",
      "광주 임곡농협주유소 1,655 \n",
      "대전 ㈜에스에이치에너지 영풍주유소 1,683 \n",
      "울산 (주)좋은기름나라 웅촌지점 1,685 \n",
      "세종 세종동부농협주유소 1,685 \n",
      "경기 (주)한영 경기서부지점 1,669 \n",
      "강원 (주)원일유통 춘천 1,681 \n",
      "충북 제이앤비코리아㈜ 중문주유소 1,679 \n",
      "충남 명해로주유소 1,670 \n",
      "전북 (주)한영 전주지점 1,665 \n",
      "전남 북신안농협주유소 본점 1,650 \n",
      "경북 대보2주유소 1,635 \n",
      "경남 광신석유(주)직영 무학주유소 1,645 \n",
      "제주 희망셀프주유소 1,760 \n"
     ]
    }
   ],
   "source": [
    "from selenium import webdriver\n",
    "from selenium.webdriver.common.by import By\n",
    "from selenium.webdriver.common.keys import Keys\n",
    "import time\n",
    "driver = webdriver.Chrome()\n",
    "url = \"https://www.opinet.co.kr/user/main/mainView.do\"\n",
    "driver.get(url)\n",
    "time.sleep(2)\n",
    "for i in range(1, 9):\n",
    "    loc = driver.find_element(By.XPATH,'//*[@id=\"siOsMin\"]/tbody/tr['+str(i)+']/td[1]').text\n",
    "    comp = driver.find_element(By.XPATH,'//*[@id=\"siOsMin\"]/tbody/tr['+str(i)+']/td[3]/a').text\n",
    "    price = driver.find_element(By.XPATH,'//*[@id=\"siOsMin\"]/tbody/tr['+str(i)+']/td[4]').text\n",
    "    print(loc, comp, price)                          \n",
    "for i in range(1, 10):\n",
    "    loc = driver.find_element(By.XPATH,'//*[@id=\"doOsMin\"]/tbody/tr['+str(i)+']/td[1]').text\n",
    "    comp = driver.find_element(By.XPATH,'//*[@id=\"doOsMin\"]/tbody/tr['+str(i)+']/td[3]/a').text\n",
    "    price = driver.find_element(By.XPATH,'//*[@id=\"doOsMin\"]/tbody/tr['+str(i)+']/td[4]').text\n",
    "    print(loc, comp, price)        \n",
    "                                \n",
    "driver.close()    \n",
    "\n",
    "\n"
   ]
  },
  {
   "cell_type": "markdown",
   "id": "aa909c0e",
   "metadata": {},
   "source": [
    "#"
   ]
  }
 ],
 "metadata": {
  "kernelspec": {
   "display_name": "Python 3 (ipykernel)",
   "language": "python",
   "name": "python3"
  },
  "language_info": {
   "codemirror_mode": {
    "name": "ipython",
    "version": 3
   },
   "file_extension": ".py",
   "mimetype": "text/x-python",
   "name": "python",
   "nbconvert_exporter": "python",
   "pygments_lexer": "ipython3",
   "version": "3.11.4"
  }
 },
 "nbformat": 4,
 "nbformat_minor": 5
}
