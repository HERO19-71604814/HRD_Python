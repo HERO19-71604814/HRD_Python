{
 "cells": [
  {
   "cell_type": "markdown",
   "id": "e50d0511",
   "metadata": {},
   "source": [
    "# - 사람인에서 대전 전체 채용정보를 엑셀로 만들어서 정보 불러오기"
   ]
  },
  {
   "cell_type": "code",
   "execution_count": 24,
   "id": "f802f886",
   "metadata": {},
   "outputs": [
    {
     "name": "stdout",
     "output_type": "stream",
     "text": [
      "성한(주) Java, 자동제어, HMI, PLC\n",
      "(주)솔탑 데이터분석가, 데이터엔지니어, 백엔드/서버개발, 보안컨설팅, 웹개발, 외\n",
      "(주)아이티밴드 웹개발, Java\n",
      "(주)우진플라임 데이터분석가, 앱개발, 웹개발, 유지보수, ERP, 외\n",
      "스탠다드에너지(주) Java, Javascript, Python, 총무, 특허명세사, 외\n",
      "(주)NE능률 백엔드/서버개발, 보안컨설팅, 유지보수, 정보보안, 퍼블리셔, 외\n",
      "(주)카이런소프트 앱개발, 웹개발, IT컨설팅, SI개발, 솔루션, 외\n",
      "(주)아이넷뱅크 기술지원, 데이터엔지니어, 백엔드/서버개발, 정보보안, IT컨설팅, 외\n",
      "(주)코드제이 백엔드/서버개발, 웹개발, 프론트엔드, Java\n",
      "(주)에셈블 앱개발, 프론트엔드, S/W, Android, Java, 외\n",
      "(주)코드제이 백엔드/서버개발, RDBMS, Java\n",
      "(주)유엔에이엔지니어링 기술지원, 백엔드/서버개발, 웹마스터, 유지보수, 정보보안, 외\n",
      "(주)체스트넛 백엔드/서버개발, 웹개발, 퍼블리셔, Java, JSP, 외\n",
      "(주)대웅제약 C#, Java, Python, 감사, 법인결산, 외\n",
      "(주)라인건설 Java, JSP, MSSQL, MySQL, 경리, 외\n",
      "2023 신한카드 B2사원 채용 데이터분석가, 데이터엔지니어, 백엔드/서버개발, 앱개발, 웹개발, 외\n",
      "동성제약(주) 백엔드/서버개발, 앱개발, 웹개발, 네트워크, 방화벽, 외\n",
      "과학기술분야 정부출연(연) 23년도 3차 공동채용 기술지원, 데이터분석가, 데이터엔지니어, 백엔드/서버개발, 웹개발, 외\n",
      "웹 개발자 정규직 채용 공고(경력) 웹개발, RDBMS, Java, JSP\n",
      "코보티스(주) 백엔드/서버개발\n",
      "코보티스(주) 백엔드/서버개발\n",
      "프리시젼바이오(주) 백엔드/서버개발, 앱개발, 웹개발, 퍼블리셔, 프론트엔드, 외\n",
      "(주)링캠 백엔드/서버개발, 유지보수, SE(시스템엔지니어), 네트워크, 솔루션, 외\n",
      "(사)한국아이씨티기술협회 데이터분석가, 데이터엔지니어, 앱개발, 웹개발, 웹마스터, 외\n",
      "(주)보티 백엔드/서버개발, 앱개발, 웹개발, 프론트엔드, 데이터마이닝, 외\n",
      "(주)넥스에이아이티 웹개발, Java, PHP\n",
      "총 구인업체수 :  500\n",
      "it 구인업체수 :  26 ( 5.2 %)\n"
     ]
    }
   ],
   "source": [
    "import csv\n",
    "\n",
    "file = open('data/saramin.csv', 'r')\n",
    "reader = csv.reader(file)\n",
    "jobs = ['웹개발', '백엔드', 'JAVA', '개발자', 'Java']\n",
    "comp_count = 0\n",
    "it_count = 0\n",
    "\n",
    "for row in reader:\n",
    "    comp_count += 1\n",
    "    result = False\n",
    "    for job in jobs:\n",
    "        if job in row[2]:\n",
    "            result = True\n",
    "    if result:\n",
    "        print(row[0], row[2])\n",
    "        it_count += 1\n",
    "print('총 구인업체수 : ', comp_count)\n",
    "print('it 구인업체수 : ', it_count, '(', (it_count / comp_count)*100, '%)')\n"
   ]
  },
  {
   "cell_type": "code",
   "execution_count": null,
   "id": "c680c9aa",
   "metadata": {},
   "outputs": [],
   "source": []
  }
 ],
 "metadata": {
  "kernelspec": {
   "display_name": "Python 3 (ipykernel)",
   "language": "python",
   "name": "python3"
  },
  "language_info": {
   "codemirror_mode": {
    "name": "ipython",
    "version": 3
   },
   "file_extension": ".py",
   "mimetype": "text/x-python",
   "name": "python",
   "nbconvert_exporter": "python",
   "pygments_lexer": "ipython3",
   "version": "3.11.4"
  }
 },
 "nbformat": 4,
 "nbformat_minor": 5
}
