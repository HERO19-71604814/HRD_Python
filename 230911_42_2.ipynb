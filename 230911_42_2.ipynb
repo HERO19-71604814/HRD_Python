{
 "cells": [
  {
   "cell_type": "markdown",
   "id": "76a5340f",
   "metadata": {},
   "source": [
    "# - 국민동의청원에서 성립된 청원 내용정리"
   ]
  },
  {
   "cell_type": "code",
   "execution_count": 6,
   "id": "14d382b8",
   "metadata": {},
   "outputs": [
    {
     "ename": "AttributeError",
     "evalue": "'list' object has no attribute 'click'",
     "output_type": "error",
     "traceback": [
      "\u001b[1;31m---------------------------------------------------------------------------\u001b[0m",
      "\u001b[1;31mAttributeError\u001b[0m                            Traceback (most recent call last)",
      "Cell \u001b[1;32mIn[6], line 12\u001b[0m\n\u001b[0;32m     10\u001b[0m pet_cnt \u001b[38;5;241m=\u001b[39m driver\u001b[38;5;241m.\u001b[39mfind_elements(By\u001b[38;5;241m.\u001b[39mXPATH, \u001b[38;5;124m'\u001b[39m\u001b[38;5;124m//*[@id=\u001b[39m\u001b[38;5;124m\"\u001b[39m\u001b[38;5;124mcontentsbody\u001b[39m\u001b[38;5;124m\"\u001b[39m\u001b[38;5;124m]/div/div/div[4]/div[2]/div[2]/ul/li[1]\u001b[39m\u001b[38;5;124m'\u001b[39m)\n\u001b[0;32m     11\u001b[0m \u001b[38;5;28;01mfor\u001b[39;00m i \u001b[38;5;129;01min\u001b[39;00m \u001b[38;5;28mrange\u001b[39m(\u001b[38;5;28mlen\u001b[39m(pet_cnt)):\n\u001b[1;32m---> 12\u001b[0m     driver\u001b[38;5;241m.\u001b[39mfind_elements(By\u001b[38;5;241m.\u001b[39mXPATH, \u001b[38;5;124m'\u001b[39m\u001b[38;5;124m//*[@id=\u001b[39m\u001b[38;5;124m\"\u001b[39m\u001b[38;5;124mcontentsbody\u001b[39m\u001b[38;5;124m\"\u001b[39m\u001b[38;5;124m]/div/div/div[4]/div[2]/div[2]/ul/li[\u001b[39m\u001b[38;5;124m'\u001b[39m\u001b[38;5;241m+\u001b[39m\u001b[38;5;28mstr\u001b[39m(i)\u001b[38;5;241m+\u001b[39m\u001b[38;5;124m'\u001b[39m\u001b[38;5;124m]\u001b[39m\u001b[38;5;124m'\u001b[39m)\u001b[38;5;241m.\u001b[39mclick()\n\u001b[0;32m     13\u001b[0m     time\u001b[38;5;241m.\u001b[39msleep(\u001b[38;5;241m2\u001b[39m)\n\u001b[0;32m     14\u001b[0m     driver\u001b[38;5;241m.\u001b[39mfind_element(By\u001b[38;5;241m.\u001b[39mXPATH,\u001b[38;5;124m'\u001b[39m\u001b[38;5;124m//*[@id=\u001b[39m\u001b[38;5;124m\"\u001b[39m\u001b[38;5;124mcontentsbody\u001b[39m\u001b[38;5;124m\"\u001b[39m\u001b[38;5;124m]/div/div/div[4]/div[2]/div[2]/ul/li[1]/div/a\u001b[39m\u001b[38;5;124m'\u001b[39m)\u001b[38;5;241m.\u001b[39mclick()\n",
      "\u001b[1;31mAttributeError\u001b[0m: 'list' object has no attribute 'click'"
     ]
    }
   ],
   "source": [
    "from selenium import webdriver\n",
    "from selenium.webdriver.common.by import By\n",
    "from selenium.webdriver.common.keys import Keys\n",
    "import time\n",
    "import csv\n",
    "driver = webdriver.Chrome()\n",
    "url = \"https://petitions.assembly.go.kr/closed/established\"\n",
    "driver.get(url)\n",
    "\n",
    "pages = driver.find_elements(By.XPATH, '//*[@id=\"contentsbody\"]/div/div/div[4]/div[3]/ul/li')\n",
    "for page in range(3, len(pages)):\n",
    "    driver.find_element(By.XPATH, '//*[@id=\"contentsbody\"]/div/div/div[4]/div[3]/ul/li['+str(page)+']/a').click()\n",
    "    time.sleep(1)\n",
    "    pet_cnt = driver.find_elements(By.XPATH,'//*[@id=\"contentsbody\"]/div/div/div[4]/div[2]/div[2]/ul/li')\n",
    "    for i in range(len(pet_cnt)):\n",
    "        driver.find_elements(By.XPATH,'//*[@id=\"contentsbody\"]/div/div/div[4]/div[2]/div[2]/ul/li['+str(i)+']').click()\n",
    "        time.sleep(2)\n",
    "        driver.find_element(By.XPATH,'//*[@id=\"contentsbody\"]/div/div/div[4]/div[2]/div[2]/ul/li[1]/div/a').click()\n",
    "        time.sleep(1)\n",
    "        feild = driver.find_element(By.XPATH,'//*[@id=\"contentsbody\"]/div/div/div[3]/div[1]/ul[1]/li/div').text\n",
    "        period = driver.find_element(By.XPATH,'//*[@id=\"contentsbody\"]/div/div/div[3]/div[1]/ul[2]/li[1]/div').text\n",
    "        eff_cnt = driver.find_element(By.XPATH,'//*[@id=\"contentsbody\"]/div/div/div[3]/div[1]/ul[2]/li[2]/div/div/ul/li[1]').text\n",
    "        effect = driver.find_element(By.XPATH,'//*[@id=\"contentsbody\"]/div/div/div[3]/div[2]/dl[2]/dd').text\n",
    "        contents = driver.find_element(By.XPATH,'//*[@id=\"contentsbody\"]/div/div/div[3]/div[2]/dl[3]/dd').text\n",
    "        print(feild, period, eff_cnt, effect, contents)\n",
    "        driver.back()\n",
    "    \n"
   ]
  },
  {
   "cell_type": "code",
   "execution_count": null,
   "id": "1a7125a7",
   "metadata": {},
   "outputs": [],
   "source": []
  },
  {
   "cell_type": "code",
   "execution_count": null,
   "id": "f7fe5a98",
   "metadata": {},
   "outputs": [],
   "source": []
  }
 ],
 "metadata": {
  "kernelspec": {
   "display_name": "Python 3 (ipykernel)",
   "language": "python",
   "name": "python3"
  },
  "language_info": {
   "codemirror_mode": {
    "name": "ipython",
    "version": 3
   },
   "file_extension": ".py",
   "mimetype": "text/x-python",
   "name": "python",
   "nbconvert_exporter": "python",
   "pygments_lexer": "ipython3",
   "version": "3.11.4"
  }
 },
 "nbformat": 4,
 "nbformat_minor": 5
}
