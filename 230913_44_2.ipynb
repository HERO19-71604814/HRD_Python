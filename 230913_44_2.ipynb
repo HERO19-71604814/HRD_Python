{
 "cells": [
  {
   "cell_type": "markdown",
   "id": "674f1590",
   "metadata": {},
   "source": [
    "# 단어 랜덤 조합"
   ]
  },
  {
   "cell_type": "code",
   "execution_count": 31,
   "id": "7088d0c0",
   "metadata": {},
   "outputs": [
    {
     "name": "stdout",
     "output_type": "stream",
     "text": [
      "국민 모두가 느낄 때 비로소 완전한 경제 반등을 이루겠습니다 올해 우리 경제의 놀라운회복력과 성장 잠재력에 주목하고 있습니다 정부는 제조업의 혁신과 부흥을 총력 지원해 나가겠습니다 글로벌 목표 2030을 위한 근본적 제도개혁을 완결짓겠습니다 위기의 또 다른 이름은 기회라고 합니다 코로나19 자체로 인한 격차와 불평등을 해소하는 것입니다 정부는 올해를 대한민국 대전환의 토대를 확고히 자리를 잡아가고 있습니다 조선산업은 몰락의 위기에서 탈출하는 데 전력을 기울이겠습니다 선도형 경제의 주축으로 확고히 구축해 나가겠습니다 부동산 부패는 반드시 청산하겠습니다 공직자와 공공기관 직원들의 부동산투기가 국민 여러분 1년 전 이 같은 자리에서 선도형 경제로, 탄소의존 경제에서 선도형 경제로의 대전환에 매진하여 선도국가 도약의 발판을 마련하겠습니다 정부는 신산업과 혁신 벤처를 우리 경제는 위기를 오히려 기회로 만드는 데 그치지 않고, 위기를 기회로 여기겠습니다 긴 시간입니다 그 1년이 대한민국의 운명을 좌우할 수 있도록 정부 역량을 총동원하고 민간의 주택공급에 더해 공공주도 주택공급 대책을 계획대로 차질 없이 추진해 나가겠습니다 무주택 서민, 신혼부부, 청년들이 내 집 마련의 꿈을 실현할 수 있도록 전폭적으로 지원해 나가겠습니다 글로벌 공급망 확보 경쟁이치열한 가운데\n"
     ]
    }
   ],
   "source": [
    "from collections import Counter\n",
    "import random\n",
    "\n",
    "def wordSum(wordList):\n",
    "    tot = 0\n",
    "    for key, value in wordList.items():\n",
    "        tot += value\n",
    "    return tot \n",
    "\n",
    "def randomWord(wordList):\n",
    "    randIndex = random.randint(1, wordSum(wordList))\n",
    "    for word, value in wordList.items():\n",
    "        randIndex -= value\n",
    "        if randIndex <= 0:\n",
    "            return word\n",
    "    \n",
    "file = open('data_speech/문재인2021.txt', 'r')\n",
    "conts = file.read()\n",
    "# print(conts)\n",
    "conts = conts.replace('\\n', ' ')\n",
    "conts = conts.replace('.', '')\n",
    "conts = conts.replace('\\'', '')\n",
    "conts = conts.replace('!', '')\n",
    "words = conts.split(' ')\n",
    "words = [word for word in words if len(word) >= 1]\n",
    "# print(words)\n",
    "\n",
    "word_dict = {}\n",
    "for i in range(1, len(words)):\n",
    "    if words[i-1] not in word_dict:\n",
    "        word_dict[words[i-1]] = {}\n",
    "    if words[i] not in word_dict[words[i-1]]:\n",
    "        word_dict[words[i-1]][words[i]] = 0\n",
    "    word_dict[words[i-1]][words[i]] += 1\n",
    "# print(word_dict)\n",
    "    \n",
    "length = 150\n",
    "chain = ['국민']\n",
    "# print(word_dict[chain[-1]])\n",
    "for i in range(length):\n",
    "    try:\n",
    "        newword = randomWord(word_dict[chain[-1]])\n",
    "        chain.append(newword)\n",
    "    except:\n",
    "        continue        \n",
    "print(' '.join(chain))\n"
   ]
  },
  {
   "cell_type": "code",
   "execution_count": null,
   "id": "3a233dbb",
   "metadata": {},
   "outputs": [],
   "source": []
  }
 ],
 "metadata": {
  "kernelspec": {
   "display_name": "Python 3 (ipykernel)",
   "language": "python",
   "name": "python3"
  },
  "language_info": {
   "codemirror_mode": {
    "name": "ipython",
    "version": 3
   },
   "file_extension": ".py",
   "mimetype": "text/x-python",
   "name": "python",
   "nbconvert_exporter": "python",
   "pygments_lexer": "ipython3",
   "version": "3.11.4"
  }
 },
 "nbformat": 4,
 "nbformat_minor": 5
}
