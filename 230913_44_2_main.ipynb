{
 "cells": [
  {
   "cell_type": "code",
   "execution_count": 15,
   "id": "fb1f646f",
   "metadata": {},
   "outputs": [
    {
     "name": "stdout",
     "output_type": "stream",
     "text": [
      "국민 여러분 방역 상황의 불안을 아직 떨치지 못하고 있습니다 이제는 우리만의 길이 있습니다 이 같은 엄중한 상황에서 더 강한 제조업이 우리 경제의 핵심 산업들에 대해서는 거센 국제적 도전을 이겨내며 계속해서 세계를 선도하는 산업이 될 것을 보여 줄 수 있도록 지원하겠습니다 코로나19 이전 수준으로 호전되었습니다 전 세계의 시대적 과제가 지금은 전 세계적인 백신 개발국이 아니고, 대규모 일자리가 창출될 수 있도록 실수요자의 부담을 완화하는 다양한 정책적 지원을 아끼지 않겠습니다 국민 덕분입니다 다시 내딛기 위한 근본적 제도개혁을 완결짓겠습니다 위기의 또 다른 이름은 기회라고 합니다 코로나19 확진자가 증가하는 추세 속에서 우리나라는 방역 당국과 전문가들이 우리의 국익을 지켜낼 것입니다 접종 속도도 높여 나가고 있습니다 정부는 올해를 대한민국 반도체의 위상을 굳건히 다지는 한편 대북정책을 더욱 강화되고 분배지표가 개선되는 등의 정책도 속도를 내기 위한 근본적 제도개혁을 완결짓겠습니다 위기의 또 다른 이름은 기회라고 합니다 코로나19 자체로 인한 고통, 막심한 경제적 불평등 완화를 국가적 프로젝트로 제시했습니다 추격형 경제에서 선도형 경제의 대전환 선언으로 이어졌습니다 이 선언에 따라 정부는 대규모로백신을 접종할 계획이고,\n"
     ]
    }
   ],
   "source": [
    "from collections import Counter\n",
    "import random\n",
    "\n",
    "def wordSum(wordList):\n",
    "    tot = 0\n",
    "    for key, value in wordList.items():\n",
    "        tot += value\n",
    "    return tot    \n",
    "\n",
    "def randomWord(wordList):\n",
    "    randIndex = random.randint(1, wordSum(wordList))\n",
    "    for word, value in wordList.items():\n",
    "        randIndex -= value\n",
    "        if randIndex <= 0:\n",
    "            return word\n",
    "            \n",
    "\n",
    "file = open('data_speech/문재인2021.txt', 'r')\n",
    "conts = file.read()\n",
    "# print(conts)\n",
    "conts = conts.replace('\\n', ' ')\n",
    "conts = conts.replace('.', '')\n",
    "conts = conts.replace('\\'', '')\n",
    "conts = conts.replace('!', '')\n",
    "words = conts.split(' ')\n",
    "words = [word for word in words if len(word) >= 1]\n",
    "# print(words)\n",
    "word_dict = {}\n",
    "for i in range(1, len(words)):\n",
    "    if words[i-1] not in word_dict:\n",
    "        word_dict[words[i-1]] = {}\n",
    "    if words[i] not in word_dict[words[i-1]]:\n",
    "        word_dict[words[i-1]][words[i]] = 0\n",
    "    word_dict[words[i-1]][words[i]] += 1\n",
    "# print(word_dict)               \n",
    "\n",
    "length = 150\n",
    "chain = ['국민']\n",
    "# print(word_dict[chain[-1]])\n",
    "for i in range(length):\n",
    "    try:\n",
    "        newword = randomWord(word_dict[chain[-1]])\n",
    "        chain.append(newword)\n",
    "    except:\n",
    "        continue\n",
    "print(' '.join(chain))    "
   ]
  }
 ],
 "metadata": {
  "kernelspec": {
   "display_name": "Python 3 (ipykernel)",
   "language": "python",
   "name": "python3"
  },
  "language_info": {
   "codemirror_mode": {
    "name": "ipython",
    "version": 3
   },
   "file_extension": ".py",
   "mimetype": "text/x-python",
   "name": "python",
   "nbconvert_exporter": "python",
   "pygments_lexer": "ipython3",
   "version": "3.9.13"
  }
 },
 "nbformat": 4,
 "nbformat_minor": 5
}
