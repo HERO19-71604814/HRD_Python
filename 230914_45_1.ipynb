{
 "cells": [
  {
   "cell_type": "markdown",
   "id": "d10c5d50",
   "metadata": {},
   "source": [
    "# <이미지 크롤링 직접 해보기>"
   ]
  },
  {
   "cell_type": "code",
   "execution_count": 1,
   "id": "7a9b2b57",
   "metadata": {},
   "outputs": [
    {
     "name": "stdout",
     "output_type": "stream",
     "text": [
      "1\n"
     ]
    }
   ],
   "source": [
    "from selenium import webdriver\n",
    "from selenium.webdriver.common.by import By\n",
    "from selenium.webdriver.common.keys import Keys\n",
    "import time\n",
    "import urllib.request\n",
    "import os\n",
    "\n",
    "driver = webdriver.Chrome()\n",
    "\n",
    "url = 'https://unsplash.com/ko/s/%EC%82%AC%EC%A7%84/%EB%B0%B0%EA%B2%BD%ED%99%94%EB%A9%B4' # 사이트\n",
    "driver.get(url)\n",
    "time.sleep(3)\n",
    "list_count = len(driver.find_elements(By.XPATH, '//*[@id=\"app\"]/div/div[2]/div[4]/div[1]/div')) # 목록들 갯수세기\n",
    "print(list_count)\n"
   ]
  },
  {
   "cell_type": "code",
   "execution_count": null,
   "id": "24f8fdcf",
   "metadata": {},
   "outputs": [],
   "source": []
  }
 ],
 "metadata": {
  "kernelspec": {
   "display_name": "Python 3 (ipykernel)",
   "language": "python",
   "name": "python3"
  },
  "language_info": {
   "codemirror_mode": {
    "name": "ipython",
    "version": 3
   },
   "file_extension": ".py",
   "mimetype": "text/x-python",
   "name": "python",
   "nbconvert_exporter": "python",
   "pygments_lexer": "ipython3",
   "version": "3.11.4"
  }
 },
 "nbformat": 4,
 "nbformat_minor": 5
}
