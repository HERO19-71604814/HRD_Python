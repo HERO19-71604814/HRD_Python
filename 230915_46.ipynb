{
 "cells": [
  {
   "cell_type": "markdown",
   "id": "693f511d",
   "metadata": {},
   "source": [
    "# <도전과제> \n",
    "## 국내 주식 정보(회사명, 현재가, 거래량, 시가총액)을 수집하여 DB에 저장"
   ]
  },
  {
   "cell_type": "markdown",
   "id": "b4472e1a",
   "metadata": {},
   "source": [
    "### <국내 주식 정보 가져오기>"
   ]
  },
  {
   "cell_type": "code",
   "execution_count": 13,
   "id": "9f3933f3",
   "metadata": {},
   "outputs": [
    {
     "name": "stdout",
     "output_type": "stream",
     "text": [
      "None\n"
     ]
    }
   ],
   "source": [
    "from selenium import webdriver\n",
    "from selenium.webdriver.common.by import By\n",
    "from selenium.webdriver.common.keys import Keys\n",
    "import time\n",
    "import matplotlib.pyplot as plt\n",
    "from collections import Counter\n",
    "\n",
    "driver = webdriver.Chrome()\n",
    "url = \"https://datacenter.hankyung.com/equities-all\"\n",
    "driver.get(url)\n",
    "\n",
    "time.sleep(3)\n",
    "driver.find_element(By.XPATH, '//*[@id=\"container\"]/div/div[2]/div[4]/div[1]/div/ul/li[1]/div[1]/p/a').click()\n",
    "\n",
    "print(comp)\n",
    "\n",
    "driver.close()"
   ]
  },
  {
   "cell_type": "code",
   "execution_count": null,
   "id": "0e587c8a",
   "metadata": {},
   "outputs": [],
   "source": []
  }
 ],
 "metadata": {
  "kernelspec": {
   "display_name": "Python 3 (ipykernel)",
   "language": "python",
   "name": "python3"
  },
  "language_info": {
   "codemirror_mode": {
    "name": "ipython",
    "version": 3
   },
   "file_extension": ".py",
   "mimetype": "text/x-python",
   "name": "python",
   "nbconvert_exporter": "python",
   "pygments_lexer": "ipython3",
   "version": "3.11.4"
  }
 },
 "nbformat": 4,
 "nbformat_minor": 5
}
