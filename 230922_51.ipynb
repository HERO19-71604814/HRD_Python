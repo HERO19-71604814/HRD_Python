{
 "cells": [
  {
   "cell_type": "markdown",
   "id": "b099476e",
   "metadata": {},
   "source": [
    "# <이미지링크를 파일로 저장하기>"
   ]
  },
  {
   "cell_type": "code",
   "execution_count": 1,
   "id": "5cfe404d",
   "metadata": {},
   "outputs": [],
   "source": [
    "from urllib import request\n",
    "target = request.urlopen('https://contents.kyobobook.co.kr/sih/fit-in/300x0/pdt/9791168416369.jpg')\n",
    "output = target.read()\n",
    "\n",
    "file = open('imgs/book01.jpg', 'wb')\n",
    "file.write(output)\n",
    "file.close()\n"
   ]
  },
  {
   "cell_type": "markdown",
   "id": "a77bc55f",
   "metadata": {},
   "source": [
    "### 08 클래스\n",
    "#### 01. 클래스의 기본\n",
    "- 클래스는 객체를 만들기 위한 설계도\n",
    "- 객체는 클래스에 의해 만들어진 것(객체는 관련있는 요소를 모아두는것)\n",
    "- 객체 기반으로 만들어지는 것이 객체지향 프로그래밍\n",
    "- 캡슐화, 상속, 추상화, 다형성"
   ]
  },
  {
   "cell_type": "markdown",
   "id": "40e39a15",
   "metadata": {},
   "source": [
    "## - 객체를 만드는 함수(462p)"
   ]
  },
  {
   "cell_type": "code",
   "execution_count": 9,
   "id": "b9b4c118",
   "metadata": {},
   "outputs": [],
   "source": [
    "# def create_student(name, kor, eng, mat, sci):\n",
    "#     return { # 딕셔너리로 리턴 함수\n",
    "#         \"name\" : name,\n",
    "#         \"kor\" : kor,\n",
    "#         \"eng\" : eng,\n",
    "#         \"mat\" : mat,\n",
    "#         \"sci\" : sci\n",
    "#     }\n",
    "    \n",
    "# def get_tot(st): # 총점 구하기 함수\n",
    "#     return st[\"kor\"] + st[\"eng\"] + st[\"mat\"] + st[\"sci\"]\n",
    "    \n",
    "# def get_avg(st): # 평균 구하기 함수\n",
    "#     return get_tot(st) / 4\n",
    "    \n",
    "# # 학생 리스트\n",
    "# students = []\n",
    "\n",
    "# while True: # 무한반복\n",
    "#     name = input('이름 : ') # 학생이름 입력받기\n",
    "#     if name == 'end': # end 입력시 종료\n",
    "#         break\n",
    "#     kor = float(input('국어: ')) # 국어점수 입력 받기\n",
    "#     eng = float(input('영어: ')) # 영어점수 입력 받기\n",
    "#     mat = float(input('수학: ')) # 수학점수 입력 받기\n",
    "#     sci = float(input('과학: ')) # 과학점수 입력 받기\n",
    "#     students.append(create_student(name, kor, eng, mat, sci)) # 학생 1명의 점수 정보를 삽입한다.(딕셔너리로 변환된 값)\n",
    "    \n",
    "# for st in students: # students 들어있는 값 만큼 반복\n",
    "#     print(st[\"name\"] + '의 총점은 : ', get_tot(st), '평균은 : ', get_avg(st))\n",
    "    "
   ]
  },
  {
   "cell_type": "markdown",
   "id": "b97cdb5e",
   "metadata": {},
   "source": [
    "## - 클래스 선언하기(465p)"
   ]
  },
  {
   "cell_type": "code",
   "execution_count": 32,
   "id": "ac1f59d6",
   "metadata": {},
   "outputs": [
    {
     "name": "stdout",
     "output_type": "stream",
     "text": [
      "abc는 국어90, 영어70, 수학80, 과학85 이다\n",
      "총점은 325, 평균은 81.25 이다\n",
      "efg는 국어90, 영어100, 수학95, 과학80 이다\n",
      "총점은 365, 평균은 91.25 이다\n",
      "ghj는 국어70, 영어80, 수학60, 과학90 이다\n",
      "총점은 300, 평균은 75.0 이다\n"
     ]
    }
   ],
   "source": [
    "class Student: # pass를 통해서 껍데기만 만들어 줄 수 있다.(빈공간 생성)\n",
    "    #pass\n",
    "    def __init__(self, name, kor, eng, mat, sci): # 생성자 생성\n",
    "        self.name = name # 변수 생성\n",
    "        self.kor = kor # 변수 생성\n",
    "        self.eng = eng # 변수 생성\n",
    "        self.mat = mat # 변수 생성\n",
    "        self.sci = sci # 변수 생성\n",
    "    \n",
    "    def get_tot(self): # 총점\n",
    "        return self.kor + self.eng + self.mat + self.sci \n",
    "    \n",
    "    def get_avg(self): # 평균\n",
    "        return self.get_tot() / 4\n",
    "    \n",
    "    def __str__(self): # 문자 출력\n",
    "        return \"{}는 국어{}, 영어{}, 수학{}, 과학{} 이다\".format(self.name, self.kor, self.mat, self.eng, self.sci) + \"\\n총점은 {}, 평균은 {} 이다\".format(self.get_tot(), self.get_avg())\n",
    "    \n",
    "student = [ # 순차적으로 3개의 Student클래스에 값 넣기\n",
    "    Student('abc', 90, 80, 70, 85),\n",
    "    Student('efg', 90, 95, 100, 80),\n",
    "    Student('ghj', 70, 60, 80, 90)\n",
    "]\n",
    "\n",
    "for st in student:\n",
    "    print(st)\n",
    "    "
   ]
  },
  {
   "cell_type": "code",
   "execution_count": null,
   "id": "1ef0a1b4",
   "metadata": {},
   "outputs": [],
   "source": []
  }
 ],
 "metadata": {
  "kernelspec": {
   "display_name": "Python 3 (ipykernel)",
   "language": "python",
   "name": "python3"
  },
  "language_info": {
   "codemirror_mode": {
    "name": "ipython",
    "version": 3
   },
   "file_extension": ".py",
   "mimetype": "text/x-python",
   "name": "python",
   "nbconvert_exporter": "python",
   "pygments_lexer": "ipython3",
   "version": "3.11.4"
  }
 },
 "nbformat": 4,
 "nbformat_minor": 5
}
