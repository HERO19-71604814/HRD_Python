{
 "cells": [
  {
   "cell_type": "markdown",
   "id": "612f36c5",
   "metadata": {},
   "source": [
    "# <캐릭터 생성하기>"
   ]
  },
  {
   "cell_type": "code",
   "execution_count": 9,
   "id": "6b0994d2",
   "metadata": {},
   "outputs": [
    {
     "name": "stdout",
     "output_type": "stream",
     "text": [
      "a은 위치가 30, 50이고 레벨은 4 입니다.\n"
     ]
    }
   ],
   "source": [
    "class Unit:\n",
    "    def __init__(self, name): # 생성자\n",
    "        # 기본 값\n",
    "        self.name = name \n",
    "        self.hp = 100\n",
    "        self.at = 100\n",
    "        self.pos = [0, 0]\n",
    "        self.level = 1\n",
    "    \n",
    "    def level_up(self): # 레벨 업\n",
    "        self.level += 1\n",
    "    def level_down(self): # 레벨 다운\n",
    "        self.level -= 1\n",
    "    def hp_up(self): # hp 업\n",
    "        self.hp += 5\n",
    "    def hp_down(self): # hp 다운\n",
    "        self.hp -= 5\n",
    "    def unit_move(self, x, y): # 이동\n",
    "        self.pos[0] = x\n",
    "        self.pos[1] = y\n",
    "        \n",
    "    def __str__(self):\n",
    "        return \"{}은 위치가 {}, {}이고 레벨은 {} 입니다.\".format(self.name, self.pos[0], self.pos[1], self.level)\n",
    "\n",
    "# 생성된 유닛 저장\n",
    "units = []\n",
    "\n",
    "units.append(Unit('a')) # 유닛 생성\n",
    "\n",
    "units[0].unit_move(30, 50) # 위치\n",
    "# 레벨 업 3번\n",
    "units[0].level_up()\n",
    "units[0].level_up()\n",
    "units[0].level_up()\n",
    "\n",
    "print(units[0])\n"
   ]
  },
  {
   "cell_type": "markdown",
   "id": "53b90f60",
   "metadata": {},
   "source": [
    "# 08-02. 클래스의 추가적인 구문(474p)\n",
    "- isinstance() 함수"
   ]
  },
  {
   "cell_type": "code",
   "execution_count": 11,
   "id": "99056e5f",
   "metadata": {},
   "outputs": [
    {
     "name": "stdout",
     "output_type": "stream",
     "text": [
      "True\n",
      "True\n",
      "True\n"
     ]
    }
   ],
   "source": [
    "print(isinstance(units[0], Unit))\n",
    "print(type(units[0]) == Unit)\n",
    "print(type(123) == int)"
   ]
  },
  {
   "cell_type": "markdown",
   "id": "3051a44f",
   "metadata": {},
   "source": [
    "## - 특수한 이름의 메소드(477~482p)"
   ]
  },
  {
   "cell_type": "code",
   "execution_count": 18,
   "id": "8ca8524c",
   "metadata": {},
   "outputs": [
    {
     "name": "stdout",
     "output_type": "stream",
     "text": [
      "abc는 국어90, 영어70, 수학80, 과학85 이다\n",
      "총점은 325, 평균은 81.25 이다\n",
      "efg는 국어90, 영어100, 수학95, 과학80 이다\n",
      "총점은 365, 평균은 91.25 이다\n",
      "ghj는 국어70, 영어80, 수학60, 과학90 이다\n",
      "총점은 300, 평균은 75.0 이다\n",
      "\n",
      "efg가 크다\n"
     ]
    }
   ],
   "source": [
    "class Student: # pass를 통해서 껍데기만 만들어 줄 수 있다.(빈공간 생성)\n",
    "    #pass\n",
    "    def __init__(self, name, kor, eng, mat, sci): # 생성자 생성\n",
    "        self.name = name # 변수 생성\n",
    "        self.kor = kor # 변수 생성\n",
    "        self.eng = eng # 변수 생성\n",
    "        self.mat = mat # 변수 생성\n",
    "        self.sci = sci # 변수 생성\n",
    "    \n",
    "    def get_tot(self): # 총점\n",
    "        return self.kor + self.eng + self.mat + self.sci \n",
    "    \n",
    "    def get_avg(self): # 평균\n",
    "        return self.get_tot() / 4\n",
    "    \n",
    "    def __str__(self): # 문자 출력\n",
    "        return \"{}는 국어{}, 영어{}, 수학{}, 과학{} 이다\".format(self.name, self.kor, self.mat, self.eng, self.sci) + \"\\n총점은 {}, 평균은 {} 이다\".format(self.get_tot(), self.get_avg())\n",
    "    \n",
    "    def __gt__(self, value): # 크다\n",
    "        return self.get_tot() > value.get_tot()\n",
    "    \n",
    "    def __eq__(self, value): # 같다\n",
    "        return self.get_tot() == value.get_tot()\n",
    "\n",
    "    def __ne__(self, value): # 다르다\n",
    "        return self.get_tot() != value.get_tot()\n",
    "    \n",
    "students = [ # 순차적으로 3개의 Student클래스에 값 넣기\n",
    "    Student('abc', 90, 80, 70, 85),\n",
    "    Student('efg', 90, 95, 100, 80),\n",
    "    Student('ghj', 70, 60, 80, 90)\n",
    "]\n",
    "\n",
    "for st in students:\n",
    "    print(st)\n",
    "print()\n",
    "\n",
    "\n",
    "if students[0] > students[1]:\n",
    "    print(student[0].name + '가 크다')\n",
    "else:\n",
    "    print(student[1].name + '가 크다')\n",
    "    \n",
    "    "
   ]
  },
  {
   "cell_type": "markdown",
   "id": "6f31bac7",
   "metadata": {},
   "source": [
    "## - 클래스 변수와 메서드(483p)"
   ]
  },
  {
   "cell_type": "code",
   "execution_count": 20,
   "id": "19870239",
   "metadata": {},
   "outputs": [
    {
     "name": "stdout",
     "output_type": "stream",
     "text": [
      "2\n",
      "2\n"
     ]
    }
   ],
   "source": [
    "class Unit:\n",
    "    count = 0\n",
    "    def __init__(self, name): # 생성자\n",
    "        # 기본 값\n",
    "        self.name = name \n",
    "        self.hp = 100\n",
    "        self.at = 100\n",
    "        self.pos = [0, 0]\n",
    "        self.level = 1\n",
    "        Unit.count += 1\n",
    "    \n",
    "    def level_up(self): # 레벨 업\n",
    "        self.level += 1\n",
    "    def level_down(self): # 레벨 다운\n",
    "        self.level -= 1\n",
    "    def hp_up(self): # hp 업\n",
    "        self.hp += 5\n",
    "    def hp_down(self): # hp 다운\n",
    "        self.hp -= 5\n",
    "    def unit_move(self, x, y): # 이동\n",
    "        self.pos[0] = x\n",
    "        self.pos[1] = y\n",
    "        \n",
    "    def __str__(self):\n",
    "        return \"{}은 위치가 {}, {}이고 레벨은 {} 입니다.\".format(self.name, self.pos[0], self.pos[1], self.level)\n",
    "\n",
    "# 생성된 유닛 저장\n",
    "units = []\n",
    "\n",
    "units.append(Unit('a')) # 유닛 생성\n",
    "\n",
    "units[0].unit_move(30, 50) # 위치\n",
    "# 레벨 업 3번\n",
    "units[0].level_up()\n",
    "units[0].level_up()\n",
    "units[0].level_up()\n",
    "\n",
    "un = Unit('b')\n",
    "\n",
    "print(Unit.count)\n",
    "print(un.count)\n",
    "\n",
    "# print(units[0])\n"
   ]
  },
  {
   "cell_type": "markdown",
   "id": "6ed1b380",
   "metadata": {},
   "source": [
    "### - 클래스 함수(485p)"
   ]
  },
  {
   "cell_type": "code",
   "execution_count": 31,
   "id": "bbf38101",
   "metadata": {},
   "outputs": [
    {
     "ename": "AttributeError",
     "evalue": "type object 'Unit' has no attribute 'level'",
     "output_type": "error",
     "traceback": [
      "\u001b[1;31m---------------------------------------------------------------------------\u001b[0m",
      "\u001b[1;31mAttributeError\u001b[0m                            Traceback (most recent call last)",
      "Cell \u001b[1;32mIn[31], line 36\u001b[0m\n\u001b[0;32m     33\u001b[0m units[\u001b[38;5;241m0\u001b[39m]\u001b[38;5;241m.\u001b[39munit_move(\u001b[38;5;241m30\u001b[39m, \u001b[38;5;241m50\u001b[39m) \u001b[38;5;66;03m# 위치\u001b[39;00m\n\u001b[0;32m     35\u001b[0m \u001b[38;5;66;03m# Unit.level_up()\u001b[39;00m\n\u001b[1;32m---> 36\u001b[0m units[\u001b[38;5;241m0\u001b[39m]\u001b[38;5;241m.\u001b[39mlevel_up()\n\u001b[0;32m     37\u001b[0m \u001b[38;5;28mprint\u001b[39m(units[\u001b[38;5;241m0\u001b[39m]\u001b[38;5;241m.\u001b[39mlevel)\n",
      "Cell \u001b[1;32mIn[31], line 14\u001b[0m, in \u001b[0;36mUnit.level_up\u001b[1;34m(self)\u001b[0m\n\u001b[0;32m     12\u001b[0m \u001b[38;5;129m@classmethod\u001b[39m\n\u001b[0;32m     13\u001b[0m \u001b[38;5;28;01mdef\u001b[39;00m \u001b[38;5;21mlevel_up\u001b[39m(\u001b[38;5;28mself\u001b[39m): \u001b[38;5;66;03m# 레벨 업\u001b[39;00m\n\u001b[1;32m---> 14\u001b[0m     \u001b[38;5;28mself\u001b[39m\u001b[38;5;241m.\u001b[39mlevel \u001b[38;5;241m+\u001b[39m\u001b[38;5;241m=\u001b[39m \u001b[38;5;241m1\u001b[39m\n",
      "\u001b[1;31mAttributeError\u001b[0m: type object 'Unit' has no attribute 'level'"
     ]
    }
   ],
   "source": [
    "class Unit:\n",
    "    count = 0 # 변수\n",
    "    def __init__(self, name): # 생성자\n",
    "        # 기본 값\n",
    "        self.name = name \n",
    "        self.hp = 100\n",
    "        self.at = 100\n",
    "        self.pos = [0, 0]\n",
    "        self.level = 1\n",
    "        Unit.count += 1\n",
    "        \n",
    "    @classmethod\n",
    "    def level_up(self): # 레벨 업\n",
    "        self.level += 1\n",
    "    def level_down(self): # 레벨 다운\n",
    "        self.level -= 1\n",
    "    def hp_up(self): # hp 업\n",
    "        self.hp += 5\n",
    "    def hp_down(self): # hp 다운\n",
    "        self.hp -= 5\n",
    "    def unit_move(self, x, y): # 이동\n",
    "        self.pos[0] = x\n",
    "        self.pos[1] = y\n",
    "        \n",
    "    def __str__(self):\n",
    "        return \"{}은 위치가 {}, {}이고 레벨은 {} 입니다.\".format(self.name, self.pos[0], self.pos[1], self.level)\n",
    "\n",
    "# 생성된 유닛 저장\n",
    "units = []\n",
    "\n",
    "units.append(Unit('a')) # 유닛 생성\n",
    "units.append(Unit('c')) # 유닛 생성\n",
    "units[0].unit_move(30, 50) # 위치\n",
    "\n",
    "# Unit.level_up()\n",
    "units[0].level_up()\n",
    "print(units[0].level)\n"
   ]
  },
  {
   "cell_type": "markdown",
   "id": "274d0943",
   "metadata": {},
   "source": [
    "### - 가비지 컬렉터(488p)"
   ]
  },
  {
   "cell_type": "code",
   "execution_count": null,
   "id": "781ac143",
   "metadata": {},
   "outputs": [],
   "source": []
  }
 ],
 "metadata": {
  "kernelspec": {
   "display_name": "Python 3 (ipykernel)",
   "language": "python",
   "name": "python3"
  },
  "language_info": {
   "codemirror_mode": {
    "name": "ipython",
    "version": 3
   },
   "file_extension": ".py",
   "mimetype": "text/x-python",
   "name": "python",
   "nbconvert_exporter": "python",
   "pygments_lexer": "ipython3",
   "version": "3.11.4"
  }
 },
 "nbformat": 4,
 "nbformat_minor": 5
}
