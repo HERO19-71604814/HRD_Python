{
 "cells": [
  {
   "cell_type": "markdown",
   "id": "98331180",
   "metadata": {},
   "source": [
    "# - 프라이빗 변수와 게터/세터(490p)\n",
    "- 프라이빗 변수: __<변수이름>형태로선언 하며 클래스 내부의 변수를 외부에서 사용하는 것을 막을 때 사용한다\n",
    "- 게터와 세터: 프라이빗 변수의 값을 추출하거나 변경할 목적, 간접적으로 속성에 접근하도록 해주는 함수입니다."
   ]
  },
  {
   "cell_type": "code",
   "execution_count": 21,
   "id": "aeec9ebc",
   "metadata": {},
   "outputs": [
    {
     "name": "stdout",
     "output_type": "stream",
     "text": [
      "10\n",
      "30\n"
     ]
    }
   ],
   "source": [
    "class Test:\n",
    "    def __init__(self, a, b, c):\n",
    "        self.__a = a\n",
    "        self.__b = b        \n",
    "        self.__c = c\n",
    "    \n",
    "    def get_a(self): # 게터 선언\n",
    "        return self.__a\n",
    "\n",
    "    def set_a(self, value): # 세터 선언\n",
    "        self.__a = value\n",
    "    \n",
    "test = Test(10, 20, 30)\n",
    "\n",
    "print(test.get_a())\n",
    "test.set_a(30)\n",
    "print(test.get_a())\n",
    "\n"
   ]
  },
  {
   "cell_type": "markdown",
   "id": "6b71cf34",
   "metadata": {},
   "source": [
    "## - 데코레이터를 사용한 게터와 세터(494p)"
   ]
  },
  {
   "cell_type": "code",
   "execution_count": 22,
   "id": "f0ab3963",
   "metadata": {},
   "outputs": [
    {
     "name": "stdout",
     "output_type": "stream",
     "text": [
      "10\n",
      "30\n",
      "20\n"
     ]
    }
   ],
   "source": [
    "class Test:\n",
    "    def __init__(self, a, b, c):\n",
    "        self.__a = a\n",
    "        self.__b = b        \n",
    "        self.__c = c\n",
    "        \n",
    "    def get_a(self): # 게터 선언\n",
    "        return self.__a\n",
    "\n",
    "    def set_a(self, value): # 세터 선언\n",
    "        self.__a = value\n",
    "    \n",
    "    @property\n",
    "    def b(self):\n",
    "        return self.__b\n",
    "        \n",
    "test = Test(10, 20, 30)\n",
    "\n",
    "print(test.get_a())\n",
    "test.set_a(30)\n",
    "print(test.get_a())\n",
    "print(test.b)\n"
   ]
  },
  {
   "cell_type": "code",
   "execution_count": null,
   "id": "12cfdb36",
   "metadata": {},
   "outputs": [],
   "source": []
  }
 ],
 "metadata": {
  "kernelspec": {
   "display_name": "Python 3 (ipykernel)",
   "language": "python",
   "name": "python3"
  },
  "language_info": {
   "codemirror_mode": {
    "name": "ipython",
    "version": 3
   },
   "file_extension": ".py",
   "mimetype": "text/x-python",
   "name": "python",
   "nbconvert_exporter": "python",
   "pygments_lexer": "ipython3",
   "version": "3.11.4"
  }
 },
 "nbformat": 4,
 "nbformat_minor": 5
}
