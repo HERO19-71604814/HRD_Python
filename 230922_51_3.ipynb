{
 "cells": [
  {
   "cell_type": "markdown",
   "id": "54a4a796",
   "metadata": {},
   "source": [
    "# - 상속(496p)"
   ]
  },
  {
   "cell_type": "code",
   "execution_count": 9,
   "id": "cd40cb07",
   "metadata": {},
   "outputs": [
    {
     "name": "stdout",
     "output_type": "stream",
     "text": [
      "name : 홍길동, hp : 30, at : 50\n"
     ]
    }
   ],
   "source": [
    "class Parent:\n",
    "    def __init__(self, hp, at):\n",
    "        self.hp = hp\n",
    "        self.at = at\n",
    "    def test(self):\n",
    "        print(\"hp : {}, at : {}\".format(self.hp, self.at))\n",
    "        \n",
    "class First_ch(Parent):\n",
    "    def __init__(self, name, hp, at):\n",
    "        Parent.__init__(self, hp, at) # Parent를 상속\n",
    "        self.name = name\n",
    "    def test(self):\n",
    "        print(\"name : {}, hp : {}, at : {}\".format(self.name, self.hp, self.at))\n",
    "    \n",
    "child = First_ch(\"홍길동\", 30, 50)\n",
    "\n",
    "child.test()"
   ]
  },
  {
   "cell_type": "code",
   "execution_count": null,
   "id": "6b71267c",
   "metadata": {},
   "outputs": [],
   "source": []
  }
 ],
 "metadata": {
  "kernelspec": {
   "display_name": "Python 3 (ipykernel)",
   "language": "python",
   "name": "python3"
  },
  "language_info": {
   "codemirror_mode": {
    "name": "ipython",
    "version": 3
   },
   "file_extension": ".py",
   "mimetype": "text/x-python",
   "name": "python",
   "nbconvert_exporter": "python",
   "pygments_lexer": "ipython3",
   "version": "3.11.4"
  }
 },
 "nbformat": 4,
 "nbformat_minor": 5
}
