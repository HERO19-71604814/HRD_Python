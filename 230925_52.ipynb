{
 "cells": [
  {
   "cell_type": "markdown",
   "id": "54999bbe",
   "metadata": {},
   "source": [
    "# 어쩌다 데이터 분석 with 파이썬\n",
    "## CHAPTER 02 데이터 분석 기본(67~155p)"
   ]
  },
  {
   "cell_type": "markdown",
   "id": "419174cc",
   "metadata": {},
   "source": [
    "### - 라이브러리 임포트(68p)"
   ]
  },
  {
   "cell_type": "code",
   "execution_count": 1,
   "id": "edac354b",
   "metadata": {},
   "outputs": [
    {
     "name": "stdout",
     "output_type": "stream",
     "text": [
      "1.24.3\n"
     ]
    }
   ],
   "source": [
    "import numpy as np\n",
    "\n",
    "print(np.__version__)"
   ]
  },
  {
   "cell_type": "markdown",
   "id": "8d1a14bb",
   "metadata": {},
   "source": [
    "### - 기본 배열 생성: array() (69p)"
   ]
  },
  {
   "cell_type": "code",
   "execution_count": 7,
   "id": "f7b6751e",
   "metadata": {},
   "outputs": [
    {
     "name": "stdout",
     "output_type": "stream",
     "text": [
      "[5.  4.  2.5 3.  1. ]\n",
      "[5, 4, 2.5, 3, 1]\n",
      "4\n",
      "4.0\n"
     ]
    }
   ],
   "source": [
    "data_a = [5, 4, 2.5, 3, 1]\n",
    "array_1 = np.array(data_a)\n",
    "\n",
    "print(array_1)\n",
    "print(data_a)\n",
    "print(data_a[1])\n",
    "print(array_1[1])"
   ]
  },
  {
   "cell_type": "code",
   "execution_count": 24,
   "id": "4e363cd6",
   "metadata": {},
   "outputs": [
    {
     "name": "stdout",
     "output_type": "stream",
     "text": [
      "[5.  4.  2.5 3.  1. ]\n",
      "[['5' '4' '2' 'a' '1']\n",
      " ['2' '4' '5' '3' '5']]\n"
     ]
    }
   ],
   "source": [
    "array_2 = np.array([5, 4, 2.5, 3, 1])\n",
    "print(array_2)\n",
    "array_3 = np.array([[5, 4, 2, 'a', 1], [2, 4, 5, 3, 5]])\n",
    "print(array_3)"
   ]
  },
  {
   "cell_type": "markdown",
   "id": "f5dc92e9",
   "metadata": {},
   "source": [
    "### - ndim:  array의 갯수, shape: 0행 0열, dtype: 데이터 타입 출력 (70p)"
   ]
  },
  {
   "cell_type": "code",
   "execution_count": 25,
   "id": "90dba551",
   "metadata": {},
   "outputs": [
    {
     "name": "stdout",
     "output_type": "stream",
     "text": [
      "2\n",
      "(2, 5)\n",
      "<U11\n"
     ]
    }
   ],
   "source": [
    "print(array_3.ndim) # array의 갯수\n",
    "print(array_3.shape) # 2행 5열\n",
    "print(array_3.dtype) # 데이터 타입 출력"
   ]
  },
  {
   "cell_type": "markdown",
   "id": "647142e8",
   "metadata": {},
   "source": [
    "### - 0 또는 1의 배열 생성: ones(), zeros() (70p)"
   ]
  },
  {
   "cell_type": "code",
   "execution_count": 28,
   "id": "8cd88680",
   "metadata": {},
   "outputs": [
    {
     "name": "stdout",
     "output_type": "stream",
     "text": [
      "[0. 0. 0. 0. 0. 0. 0. 0. 0. 0.]\n",
      "[1. 1. 1. 1. 1. 1. 1. 1. 1. 1.]\n"
     ]
    }
   ],
   "source": [
    "zeros = np.zeros(10)\n",
    "print(zeros)\n",
    "ones = np.ones(10)\n",
    "print(ones)"
   ]
  },
  {
   "cell_type": "code",
   "execution_count": 31,
   "id": "7dba7a33",
   "metadata": {},
   "outputs": [
    {
     "name": "stdout",
     "output_type": "stream",
     "text": [
      "[[[0. 0. 0.]\n",
      "  [0. 0. 0.]\n",
      "  [0. 0. 0.]\n",
      "  [0. 0. 0.]\n",
      "  [0. 0. 0.]]\n",
      "\n",
      " [[0. 0. 0.]\n",
      "  [0. 0. 0.]\n",
      "  [0. 0. 0.]\n",
      "  [0. 0. 0.]\n",
      "  [0. 0. 0.]]\n",
      "\n",
      " [[0. 0. 0.]\n",
      "  [0. 0. 0.]\n",
      "  [0. 0. 0.]\n",
      "  [0. 0. 0.]\n",
      "  [0. 0. 0.]]\n",
      "\n",
      " [[0. 0. 0.]\n",
      "  [0. 0. 0.]\n",
      "  [0. 0. 0.]\n",
      "  [0. 0. 0.]\n",
      "  [0. 0. 0.]]\n",
      "\n",
      " [[0. 0. 0.]\n",
      "  [0. 0. 0.]\n",
      "  [0. 0. 0.]\n",
      "  [0. 0. 0.]\n",
      "  [0. 0. 0.]]]\n"
     ]
    }
   ],
   "source": [
    "a = np.zeros((5, 5, 3))\n",
    "print(a)"
   ]
  },
  {
   "cell_type": "markdown",
   "id": "fb73fe44",
   "metadata": {},
   "source": [
    "### - 시작과 끝 수치 지정 배열 생성: arange() (71p)"
   ]
  },
  {
   "cell_type": "code",
   "execution_count": 41,
   "id": "b3b8d61b",
   "metadata": {},
   "outputs": [
    {
     "name": "stdout",
     "output_type": "stream",
     "text": [
      "[0, 1, 2, 3, 4, 5, 6, 7, 8, 9]\n",
      "[0 1 2 3 4 5 6 7 8 9]\n",
      "[ 1  4  7 10 13]\n"
     ]
    }
   ],
   "source": [
    "a = range(10)\n",
    "print(list(a))\n",
    "\n",
    "b = np.arange(10)\n",
    "print(b)\n",
    "\n",
    "c = np.arange(1, 15, 3) # 시작, 종료, 단계지정(몇 씩 증가)\n",
    "print(c)"
   ]
  },
  {
   "cell_type": "markdown",
   "id": "efa62038",
   "metadata": {},
   "source": [
    "### - 2.1.3 배열의 산술 연산(74p)"
   ]
  },
  {
   "cell_type": "code",
   "execution_count": 43,
   "id": "c327ce1c",
   "metadata": {},
   "outputs": [
    {
     "name": "stdout",
     "output_type": "stream",
     "text": [
      "[ 6 16 30 48]\n",
      "[16 30]\n"
     ]
    }
   ],
   "source": [
    "a = np.array([2, 4, 6, 8])\n",
    "b = np.array([3, 4, 5, 6])\n",
    "c = a * b\n",
    "print(c)\n",
    "\n",
    "# - 2.1.4 인덱싱과 슬라이싱 기초(75p)\n",
    "print(c[1:3])\n"
   ]
  },
  {
   "cell_type": "markdown",
   "id": "d9e92674",
   "metadata": {},
   "source": [
    "### - 배열 안의 값을 호출하는 방법"
   ]
  },
  {
   "cell_type": "code",
   "execution_count": 44,
   "id": "77824c02",
   "metadata": {},
   "outputs": [
    {
     "name": "stdout",
     "output_type": "stream",
     "text": [
      "8\n"
     ]
    }
   ],
   "source": [
    "a = np.array([[1, 2, 3, 4, 5], [6, 7, 8, 9, 10]])\n",
    "print(a[1][2])"
   ]
  },
  {
   "cell_type": "markdown",
   "id": "f7079fa8",
   "metadata": {},
   "source": [
    "### - 2.1.5 난수 생성하기 (78p)\n",
    "#### - 난수 시드값 지정: seed()\n",
    "#### - 난수 생성(균등분포): rand()"
   ]
  },
  {
   "cell_type": "code",
   "execution_count": 46,
   "id": "fc523a18",
   "metadata": {},
   "outputs": [
    {
     "name": "stdout",
     "output_type": "stream",
     "text": [
      "[0.65358959 0.11500694 0.95028286 0.4821914  0.87247454]\n"
     ]
    }
   ],
   "source": [
    "np.random.seed(1000)\n",
    "a = np.random.rand(5)\n",
    "print(a)"
   ]
  },
  {
   "cell_type": "markdown",
   "id": "197e0473",
   "metadata": {},
   "source": [
    "#### - 난수 생성(표준정규분포): randn()"
   ]
  },
  {
   "cell_type": "code",
   "execution_count": 47,
   "id": "c38c0f1e",
   "metadata": {},
   "outputs": [
    {
     "name": "stdout",
     "output_type": "stream",
     "text": [
      "[-1.39495498 -0.5373788  -0.42204881  0.49239526 -0.64690996]\n"
     ]
    }
   ],
   "source": [
    "b = np.random.randn(5)\n",
    "print(b)"
   ]
  },
  {
   "cell_type": "markdown",
   "id": "a683e6ab",
   "metadata": {},
   "source": [
    "#### - 난수 생성(정수): randint()"
   ]
  },
  {
   "cell_type": "code",
   "execution_count": 106,
   "id": "de15f18c",
   "metadata": {},
   "outputs": [
    {
     "name": "stdout",
     "output_type": "stream",
     "text": [
      "[1 7 4 5 0 6 2 9 7 0]\n"
     ]
    }
   ],
   "source": [
    "c = np.random.randint(10, size = 10)\n",
    "print(c)"
   ]
  },
  {
   "cell_type": "code",
   "execution_count": 122,
   "id": "794c56fe",
   "metadata": {},
   "outputs": [
    {
     "name": "stdout",
     "output_type": "stream",
     "text": [
      "[38  4 32 19 13 38]\n"
     ]
    }
   ],
   "source": [
    "d = np.random.randint(1, 46, size = 6)\n",
    "print(d)"
   ]
  },
  {
   "cell_type": "markdown",
   "id": "70160a50",
   "metadata": {},
   "source": [
    "#### - 데이터 무작위 샘플링: choice()"
   ]
  },
  {
   "cell_type": "code",
   "execution_count": 136,
   "id": "18efffea",
   "metadata": {},
   "outputs": [
    {
     "name": "stdout",
     "output_type": "stream",
     "text": [
      "[39 36 13  8 38 44]\n"
     ]
    }
   ],
   "source": [
    "data_a = [num for num in range(1, 46)]\n",
    "re = np.random.choice(data_a, 6)\n",
    "re = np.random.choice(data_a, 6, replace = False) # replace의 False가 중복 방지 True가 중복 허용\n",
    "print(re)"
   ]
  },
  {
   "cell_type": "code",
   "execution_count": 144,
   "id": "3093d8cb",
   "metadata": {},
   "outputs": [
    {
     "name": "stdout",
     "output_type": "stream",
     "text": [
      "[2 8 7 8 6 1]\n",
      "[7 6 2 9 5 8]\n"
     ]
    }
   ],
   "source": [
    "data_a = [num for num in range(1, 11)] # num에 1~10까지 반복\n",
    "re = np.random.choice(data_a, 6, p = [0.1, 0.1, 0.05, 0.05, 0.1, 0.2, 0.05, 0.1, 0.2, 0.05])\n",
    "re1 = np.random.choice(data_a, 6, p = [0.1, 0.1, 0.05, 0.05, 0.1, 0.2, 0.05, 0.1, 0.2, 0.05], replace=False)\n",
    "# [0~9]의 각 숫자마다 가중치(확률)을 부여\n",
    "print(re)\n",
    "print(re1)\n"
   ]
  },
  {
   "cell_type": "markdown",
   "id": "9420be5b",
   "metadata": {},
   "source": [
    "### 2.1.6 넘파이 주요 함수 (82p)"
   ]
  },
  {
   "cell_type": "code",
   "execution_count": 199,
   "id": "aa130c28",
   "metadata": {},
   "outputs": [
    {
     "name": "stdout",
     "output_type": "stream",
     "text": [
      "[28  1 23 67  2 97 38 30 18 97]\n",
      "40.1\n",
      "29.0\n",
      "33.48566857627304\n",
      "1121.2899999999997\n",
      "97\n",
      "1\n",
      "401\n",
      "[ 28  29  52 119 121 218 256 286 304 401]\n",
      "97.0\n"
     ]
    }
   ],
   "source": [
    "data = np.random.randint(1, 100, size = 10) # 1부터 100까지 10개의 랜덤 정수 생성\n",
    "print(data)\n",
    "print(np.mean(data)) # - 데이터의 표준 평균\n",
    "print(np.median(data)) # - 데이터의 중앙값\n",
    "print(np.std(data)) # - 데이터의 표준편차\n",
    "print(np.var(data)) # - 데이터의 표준분산\n",
    "print(np.max(data)) # - 최댓값\n",
    "print(np.min(data)) # - 최솟값\n",
    "print(np.sum(data)) # - 데이터 전체 합 계산\n",
    "print(np.cumsum(data)) # - 누적합과 누적곱\n",
    "print(np.percentile(data, 100)) # - 사분위수\n"
   ]
  },
  {
   "cell_type": "markdown",
   "id": "7e5f5191",
   "metadata": {},
   "source": [
    "#### - 불리언 배열 관련 함수 (86p)"
   ]
  },
  {
   "cell_type": "code",
   "execution_count": 217,
   "id": "177442ef",
   "metadata": {},
   "outputs": [
    {
     "name": "stdout",
     "output_type": "stream",
     "text": [
      "4\n"
     ]
    }
   ],
   "source": [
    "data = [-3, 5, 6, 8, 2, -5, -4]\n",
    "a = (np.array(data) > 0).sum()\n",
    "print(a) # 0보다 큰 수가 4개(True는 1, False는 0) "
   ]
  },
  {
   "cell_type": "code",
   "execution_count": 218,
   "id": "4f096adc",
   "metadata": {},
   "outputs": [
    {
     "name": "stdout",
     "output_type": "stream",
     "text": [
      "4\n"
     ]
    }
   ],
   "source": [
    "# 기존 방식\n",
    "data = [-3, 5, 6, 8, 2, -5, -4]\n",
    "cnt = 0\n",
    "for num in data:\n",
    "    if num > 0:\n",
    "        cnt += 1\n",
    "print(cnt)"
   ]
  },
  {
   "cell_type": "markdown",
   "id": "3a39e06f",
   "metadata": {},
   "source": [
    "##### - any(): 데이터 중 1개이상의 True값 존재여부를 알 수 있다, all(): 데이터 전체가 True 값인지 알려준다."
   ]
  },
  {
   "cell_type": "code",
   "execution_count": 256,
   "id": "0e19b108",
   "metadata": {},
   "outputs": [
    {
     "data": {
      "text/plain": [
       "True"
      ]
     },
     "execution_count": 256,
     "metadata": {},
     "output_type": "execute_result"
    }
   ],
   "source": [
    "data1 = [-3, 5, 6, 8, 2, -5, -4]\n",
    "data2 = []\n",
    "\n",
    "dataT1 = np.array(data1)\n",
    "dataT2 = np.array(data2)\n",
    "\n",
    "dataT1.any()\n",
    "# dataT2.any()\n",
    "\n",
    "dataT1.all()\n",
    "# dataT2.all()"
   ]
  },
  {
   "cell_type": "markdown",
   "id": "febcf83f",
   "metadata": {},
   "source": [
    "#### - 정렬 관련 함수 (87p)\n",
    "##### - sort()는 파괴함수로 적용 후 바로 넘기는 것(b = data_a.sort())이 아닌 적용 이후(data_a.sort() -> b = data_a)에 넘겨야한다"
   ]
  },
  {
   "cell_type": "code",
   "execution_count": 242,
   "id": "7fd11077",
   "metadata": {},
   "outputs": [
    {
     "name": "stdout",
     "output_type": "stream",
     "text": [
      "[-5, -4, -3, 2, 5, 6, 8]\n",
      "[1 3 4 6 7 8]\n"
     ]
    }
   ],
   "source": [
    "data.sort()\n",
    "print(data)\n",
    "\n",
    "data_a = np.array([3, 6, 1, 7, 8, 4])\n",
    "data_a.sort()\n",
    "b = data_a\n",
    "print(b)"
   ]
  },
  {
   "cell_type": "markdown",
   "id": "5c42e6cc",
   "metadata": {},
   "source": [
    "#### - 집합 관련 함수 (87p)\n",
    "##### - 중복 값 제거 하기(유일값 추출)"
   ]
  },
  {
   "cell_type": "code",
   "execution_count": 268,
   "id": "c071a8e5",
   "metadata": {},
   "outputs": [
    {
     "name": "stdout",
     "output_type": "stream",
     "text": [
      "{1, 2, 3, 4, 5, 6}\n"
     ]
    }
   ],
   "source": [
    "# set()\n",
    "data = [1, 4, 3, 5, 1, 3, 4, 2, 6, 4]\n",
    "data_a = set(data)\n",
    "print(data_a)"
   ]
  },
  {
   "cell_type": "code",
   "execution_count": 269,
   "id": "9ea68928",
   "metadata": {},
   "outputs": [
    {
     "name": "stdout",
     "output_type": "stream",
     "text": [
      "[1 2 3 4 5 6]\n"
     ]
    }
   ],
   "source": [
    "# unique()\n",
    "data_a = np.unique(np.array(data))\n",
    "print(data_a)"
   ]
  },
  {
   "cell_type": "code",
   "execution_count": 267,
   "id": "19c791f0",
   "metadata": {},
   "outputs": [
    {
     "name": "stdout",
     "output_type": "stream",
     "text": [
      "[1 2 3 4 5 6 7 8]\n",
      "[4 5]\n",
      "[False False False  True  True]\n",
      "[1 2 3]\n",
      "[1 2 3 6 7 8]\n"
     ]
    }
   ],
   "source": [
    "a = np.array([1, 2, 3, 4, 5])\n",
    "b = np.array([4, 5, 6, 7, 8])\n",
    "print(np.union1d(a, b)) # 합집합\n",
    "print(np.intersect1d(a, b)) # 교집합\n",
    "print(np.in1d(a, b)) # 불리안\n",
    "print(np.setdiff1d(a, b)) # 차집합\n",
    "print(np.setxor1d(a, b)) # 교집합 반대"
   ]
  },
  {
   "cell_type": "code",
   "execution_count": null,
   "id": "434d6973",
   "metadata": {},
   "outputs": [],
   "source": []
  }
 ],
 "metadata": {
  "kernelspec": {
   "display_name": "Python 3 (ipykernel)",
   "language": "python",
   "name": "python3"
  },
  "language_info": {
   "codemirror_mode": {
    "name": "ipython",
    "version": 3
   },
   "file_extension": ".py",
   "mimetype": "text/x-python",
   "name": "python",
   "nbconvert_exporter": "python",
   "pygments_lexer": "ipython3",
   "version": "3.11.4"
  }
 },
 "nbformat": 4,
 "nbformat_minor": 5
}
