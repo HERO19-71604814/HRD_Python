{
 "cells": [
  {
   "cell_type": "markdown",
   "id": "0ced7bd9",
   "metadata": {},
   "source": [
    "# 어쩌다 데이터 분석 with 파이썬\n",
    "## 2.2판다스 기본(90p)\n",
    "### - 2.2.1  데이터 기본 구조\n",
    "### - 시리즈를 생성하는 방법과 특징 (91p)\n",
    "### - 시리즈의 index와 values (91p)"
   ]
  },
  {
   "cell_type": "code",
   "execution_count": 16,
   "id": "b8f13877",
   "metadata": {},
   "outputs": [
    {
     "name": "stdout",
     "output_type": "stream",
     "text": [
      "[1 2 3 4 5 6]\n"
     ]
    }
   ],
   "source": [
    "import pandas as pd # 판다스 라이브러리 가져오기\n",
    "import numpy as np # 넘파이 라이브러리 가져오기\n",
    "\n",
    "ser = pd.Series([1, 2, 3, 4, 5, 6]) # Series(): 시리즈 생성\n",
    "# print(\"index(주소) / values(값)\")\n",
    "# print(ser)\n",
    "# print(ser.index)\n",
    "print(ser.values)"
   ]
  },
  {
   "cell_type": "markdown",
   "id": "117d4c1b",
   "metadata": {},
   "source": [
    "### - 넘파이 배열을 활용해서 시리즈 생성하기 (92p)"
   ]
  },
  {
   "cell_type": "code",
   "execution_count": 19,
   "id": "b6d080d9",
   "metadata": {},
   "outputs": [
    {
     "name": "stdout",
     "output_type": "stream",
     "text": [
      "[8 8 9 2 2]\n",
      "a    8\n",
      "b    8\n",
      "c    9\n",
      "d    2\n",
      "e    2\n",
      "Name: series_from_ndarray, dtype: int32\n"
     ]
    }
   ],
   "source": [
    "data = np.random.randint(1, 11, 5)\n",
    "print(data) # 랜덤 값\n",
    "\n",
    "index = ['a', 'b' , 'c', 'd', 'e']\n",
    "ser = pd.Series(data, index = index, name = 'series_from_ndarray')\n",
    "print(ser)"
   ]
  },
  {
   "cell_type": "markdown",
   "id": "0c167b4a",
   "metadata": {},
   "source": [
    "### - 딕셔너리를 활용해서 시리즈 생성하기(92p)"
   ]
  },
  {
   "cell_type": "code",
   "execution_count": 20,
   "id": "c64d9e26",
   "metadata": {},
   "outputs": [
    {
     "name": "stdout",
     "output_type": "stream",
     "text": [
      "서울    12345\n",
      "대전    21321\n",
      "대구    21341\n",
      "부산    43532\n",
      "광주    42511\n",
      "dtype: int64\n"
     ]
    }
   ],
   "source": [
    "data = {\n",
    "    '서울' : 12345,\n",
    "    '대전' : 21321,\n",
    "    '대구' : 21341,\n",
    "    '부산' : 43532,\n",
    "    '광주' : 42511        \n",
    "}\n",
    "\n",
    "ser = pd.Series(data=data)\n",
    "print(ser)\n"
   ]
  },
  {
   "cell_type": "markdown",
   "id": "833f7755",
   "metadata": {},
   "source": [
    "### - 데이터프레임을 생성하는 방법과 특징 (94p)\n",
    "#### - 리스트가 담긴 딕셔너리를 활용하여 데이터프레임 생성하기 (95p)"
   ]
  },
  {
   "cell_type": "code",
   "execution_count": 34,
   "id": "33b9e6f8",
   "metadata": {},
   "outputs": [
    {
     "name": "stdout",
     "output_type": "stream",
     "text": [
      "  name  kor  eng  mat\n",
      "1  홍길동   90   85   70\n",
      "2  개똥이   80   75   80\n",
      "3  이쁜이  100   80   90\n",
      "4  망아지   70   85   80\n",
      "5  강아지   95   70  100\n"
     ]
    }
   ],
   "source": [
    "students = {\n",
    "    \"name\" : ['홍길동', '개똥이', '이쁜이', '망아지', '강아지'],\n",
    "    \"kor\" : [90, 80, 100, 70, 95],\n",
    "    \"eng\" : [85, 75, 80, 85, 70],\n",
    "    \"mat\" : [70, 80, 90, 80, 100]\n",
    "}\n",
    "st = pd.DataFrame(students, index = [1, 2, 3, 4, 5], columns = ['name', 'kor', 'eng', 'mat'])\n",
    "\n",
    "print(st)\n"
   ]
  },
  {
   "cell_type": "markdown",
   "id": "a5f141a6",
   "metadata": {},
   "source": [
    "## 2.3 데이터 로드와 저장(100p)\n",
    "### - 2.3.1 데이터 로드\n",
    "### ■ csv 파일 로드하기"
   ]
  },
  {
   "cell_type": "code",
   "execution_count": 51,
   "id": "2104b2f1",
   "metadata": {},
   "outputs": [
    {
     "name": "stdout",
     "output_type": "stream",
     "text": [
      "      역명  구분  03-04시  04-05시  05-06시  06-07시  07-08시  08-09시  09-10시  10-11시  \\\n",
      "0     판암  승차       0       0      37      39      47     115     155     161   \n",
      "1     판암  하차       0       0      12      44      43      40      66      85   \n",
      "2     신흥  승차       0       0      12      14      15      45      58      50   \n",
      "3     신흥  하차       0       0       4      12      12      16      27      24   \n",
      "4     대동  승차       0       0      31      34      54      78     113     127   \n",
      "...   ..  ..     ...     ...     ...     ...     ...     ...     ...     ...   \n",
      "9323  노은  하차       0       0      19      43     142     313     282     183   \n",
      "9324  지족  승차       0       0      33      47     142     237     115      78   \n",
      "9325  지족  하차       0       0      17      35      93     363     167      82   \n",
      "9326  반석  승차       0       0      58     197     822     998     441     341   \n",
      "9327  반석  하차       0       0      48     169     384     605     226     185   \n",
      "\n",
      "      ...  17-18시  18-19시  19-20시  20-21시  21-22시  22-23시  23-00시  00-01시  \\\n",
      "0     ...     124     125      82      86      35      18      12       0   \n",
      "1     ...     169     135     109      97     100      99      60      23   \n",
      "2     ...      35      33      20      20      16       7       2       0   \n",
      "3     ...      63      59      46      43      35      34      17       4   \n",
      "4     ...     127      73      62      57      39      33      19       1   \n",
      "...   ...     ...     ...     ...     ...     ...     ...     ...     ...   \n",
      "9323  ...     317     544     324     193     188     152      72       6   \n",
      "9324  ...     170     337     122      77      36      32      18       0   \n",
      "9325  ...     119     192      86      80      76      62      40      12   \n",
      "9326  ...     491     818     305     232     236     166      88       0   \n",
      "9327  ...     632    1032     414     349     340     361     142      35   \n",
      "\n",
      "      01-02시  02-03시  \n",
      "0          0       0  \n",
      "1          0       0  \n",
      "2          0       0  \n",
      "3          0       0  \n",
      "4          0       0  \n",
      "...      ...     ...  \n",
      "9323       0       0  \n",
      "9324       0       0  \n",
      "9325       0       0  \n",
      "9326       0       0  \n",
      "9327       0       0  \n",
      "\n",
      "[9328 rows x 26 columns]\n"
     ]
    }
   ],
   "source": [
    "df = pd.read_csv('data/승하차인원.csv', encoding='cp949')\n",
    "\n",
    "print(df)"
   ]
  },
  {
   "cell_type": "markdown",
   "id": "fdf0c048",
   "metadata": {},
   "source": [
    "### ■ 컬럼명 항목이 없는 데이터 로드하기 (101p)"
   ]
  },
  {
   "cell_type": "code",
   "execution_count": 56,
   "id": "37a6c082",
   "metadata": {},
   "outputs": [
    {
     "name": "stdout",
     "output_type": "stream",
     "text": [
      "           코드   지역          날짜  평균기온  최고기온   최고시간  최저기온   최저시간   일교차\n",
      "0     \\t\\t133   대전  2013-01-01  -3.6   3.3  13:19  -9.4   4:49  12.7\n",
      "1     \\t\\t133   대전  2013-01-02  -8.1  -0.6   1:09 -12.9  23:30  12.3\n",
      "2     \\t\\t133   대전  2013-01-03 -11.2  -5.2  15:20 -16.5   7:11  11.3\n",
      "3     \\t\\t133   대전  2013-01-04 -10.5  -4.3  15:17 -16.5   7:50  12.2\n",
      "4     \\t\\t133   대전  2013-01-05  -6.8   0.5  14:10 -15.3   7:42  15.8\n",
      "...       ...  ...         ...   ...   ...    ...   ...    ...   ...\n",
      "3655       \\t  NaN         NaN   NaN   NaN    NaN   NaN    NaN   NaN\n",
      "3656       \\t  NaN         NaN   NaN   NaN    NaN   NaN    NaN   NaN\n",
      "3657     \\t\\t  NaN         NaN   NaN   NaN    NaN   NaN    NaN   NaN\n",
      "3658       \\t  NaN         NaN   NaN   NaN    NaN   NaN    NaN   NaN\n",
      "3659       \\t  NaN         NaN   NaN   NaN    NaN   NaN    NaN   NaN\n",
      "\n",
      "[3660 rows x 9 columns]\n"
     ]
    }
   ],
   "source": [
    "df = pd.read_csv('data/대전기온2.csv', encoding='cp949', \n",
    "                 names = ['코드', '지역', '날짜', '평균기온', \n",
    "                          '최고기온', '최고시간', '최저기온', '최저시간', '일교차'], header = None)\n",
    "# df.columns = ['코드', '지역', '날짜', '평균기온', '최고기온', '최고시간', '최저기온', '최저시간', '일교차']\n",
    "print(df)"
   ]
  },
  {
   "cell_type": "markdown",
   "id": "8822dd78",
   "metadata": {},
   "source": [
    "### ■ 일부 행을 건너뛰고 데이터 로드하기(103p)"
   ]
  },
  {
   "cell_type": "code",
   "execution_count": 57,
   "id": "c174ff28",
   "metadata": {},
   "outputs": [
    {
     "name": "stdout",
     "output_type": "stream",
     "text": [
      "           코드   지역          날짜  평균기온  최고기온   최고시간  최저기온   최저시간   일교차\n",
      "0     \\t\\t133   대전  2013-01-01  -3.6   3.3  13:19  -9.4   4:49  12.7\n",
      "1     \\t\\t133   대전  2013-01-03 -11.2  -5.2  15:20 -16.5   7:11  11.3\n",
      "2     \\t\\t133   대전  2013-01-05  -6.8   0.5  14:10 -15.3   7:42  15.8\n",
      "3     \\t\\t133   대전  2013-01-06  -4.9   0.6  15:00  -8.5  23:40   9.1\n",
      "4     \\t\\t133   대전  2013-01-07  -5.0   1.0  14:40 -10.7   4:33  11.7\n",
      "...       ...  ...         ...   ...   ...    ...   ...    ...   ...\n",
      "3653       \\t  NaN         NaN   NaN   NaN    NaN   NaN    NaN   NaN\n",
      "3654       \\t  NaN         NaN   NaN   NaN    NaN   NaN    NaN   NaN\n",
      "3655     \\t\\t  NaN         NaN   NaN   NaN    NaN   NaN    NaN   NaN\n",
      "3656       \\t  NaN         NaN   NaN   NaN    NaN   NaN    NaN   NaN\n",
      "3657       \\t  NaN         NaN   NaN   NaN    NaN   NaN    NaN   NaN\n",
      "\n",
      "[3658 rows x 9 columns]\n"
     ]
    }
   ],
   "source": [
    "df = pd.read_csv('data/대전기온2.csv', encoding='cp949', \n",
    "                 names = ['코드', '지역', '날짜', '평균기온', \n",
    "                          '최고기온', '최고시간', '최저기온', '최저시간', '일교차'], skiprows=[1,3])\n",
    "# df.columns = ['코드', '지역', '날짜', '평균기온', '최고기온', '최고시간', '최저기온', '최저시간', '일교차']\n",
    "print(df)"
   ]
  },
  {
   "cell_type": "markdown",
   "id": "4e1faa94",
   "metadata": {},
   "source": [
    "### ■ 특정 컬럼을 인덱스로 지정해서 로드하기(102~103p)"
   ]
  },
  {
   "cell_type": "code",
   "execution_count": 65,
   "id": "779f0838",
   "metadata": {},
   "outputs": [
    {
     "name": "stdout",
     "output_type": "stream",
     "text": [
      "              평균   최고    최저   일교차\n",
      "일자                               \n",
      "2013-01-02  -8.1 -0.6 -12.9  12.3\n",
      "2013-01-04 -10.5 -4.3 -16.5  12.2\n",
      "2013-01-05  -6.8  0.5 -15.3  15.8\n",
      "2013-01-06  -4.9  0.6  -8.5   9.1\n",
      "2013-01-07  -5.0  1.0 -10.7  11.7\n",
      "...          ...  ...   ...   ...\n",
      "NaN          NaN  NaN   NaN   NaN\n",
      "NaN          NaN  NaN   NaN   NaN\n",
      "NaN          NaN  NaN   NaN   NaN\n",
      "NaN          NaN  NaN   NaN   NaN\n",
      "NaN          NaN  NaN   NaN   NaN\n",
      "\n",
      "[3650 rows x 4 columns]\n"
     ]
    }
   ],
   "source": [
    "df = pd.read_csv('data/대전기온3.csv', encoding='cp949', index_col = '일자', skiprows = [1, 3])\n",
    "\n",
    "print(df)"
   ]
  },
  {
   "cell_type": "markdown",
   "id": "0d4e8220",
   "metadata": {},
   "source": [
    "### ■ NA(결특값)가 포함된 데이터 로드하기(104p)"
   ]
  },
  {
   "cell_type": "code",
   "execution_count": 68,
   "id": "1122703d",
   "metadata": {},
   "outputs": [
    {
     "name": "stdout",
     "output_type": "stream",
     "text": [
      "              평균   최고    최저   일교차\n",
      "일자                               \n",
      "2013-01-01  -3.6  3.3  -9.4  12.7\n",
      "2013-01-02  -8.1 -0.6 -12.9  12.3\n",
      "2013-01-03 -11.2 -5.2 -16.5  11.3\n",
      "2013-01-04 -10.5 -4.3 -16.5  12.2\n",
      "2013-01-05  -6.8  0.5   NaN  15.8\n",
      "2013-01-06  -4.9  0.6  -8.5   9.1\n",
      "2013-01-07   NaN  1.0 -10.7  11.7\n",
      "2013-01-08  -4.2  1.9  -9.2  11.1\n",
      "2013-01-09  -6.3 -1.9   NaN   7.8\n",
      "2013-01-10  -7.9 -1.5 -13.8  12.3\n"
     ]
    }
   ],
   "source": [
    "df = pd.read_csv('data/대전기온3.csv', encoding='cp949', index_col = '일자')\n",
    "\n",
    "print(df)"
   ]
  },
  {
   "cell_type": "code",
   "execution_count": 70,
   "id": "0f6ff749",
   "metadata": {},
   "outputs": [
    {
     "data": {
      "text/html": [
       "<div>\n",
       "<style scoped>\n",
       "    .dataframe tbody tr th:only-of-type {\n",
       "        vertical-align: middle;\n",
       "    }\n",
       "\n",
       "    .dataframe tbody tr th {\n",
       "        vertical-align: top;\n",
       "    }\n",
       "\n",
       "    .dataframe thead th {\n",
       "        text-align: right;\n",
       "    }\n",
       "</style>\n",
       "<table border=\"1\" class=\"dataframe\">\n",
       "  <thead>\n",
       "    <tr style=\"text-align: right;\">\n",
       "      <th></th>\n",
       "      <th>평균</th>\n",
       "      <th>최고</th>\n",
       "      <th>최저</th>\n",
       "      <th>일교차</th>\n",
       "    </tr>\n",
       "    <tr>\n",
       "      <th>일자</th>\n",
       "      <th></th>\n",
       "      <th></th>\n",
       "      <th></th>\n",
       "      <th></th>\n",
       "    </tr>\n",
       "  </thead>\n",
       "  <tbody>\n",
       "    <tr>\n",
       "      <th>2013-01-01</th>\n",
       "      <td>False</td>\n",
       "      <td>False</td>\n",
       "      <td>False</td>\n",
       "      <td>False</td>\n",
       "    </tr>\n",
       "    <tr>\n",
       "      <th>2013-01-02</th>\n",
       "      <td>False</td>\n",
       "      <td>False</td>\n",
       "      <td>False</td>\n",
       "      <td>False</td>\n",
       "    </tr>\n",
       "    <tr>\n",
       "      <th>2013-01-03</th>\n",
       "      <td>False</td>\n",
       "      <td>False</td>\n",
       "      <td>False</td>\n",
       "      <td>False</td>\n",
       "    </tr>\n",
       "    <tr>\n",
       "      <th>2013-01-04</th>\n",
       "      <td>False</td>\n",
       "      <td>False</td>\n",
       "      <td>False</td>\n",
       "      <td>False</td>\n",
       "    </tr>\n",
       "    <tr>\n",
       "      <th>2013-01-05</th>\n",
       "      <td>False</td>\n",
       "      <td>False</td>\n",
       "      <td>True</td>\n",
       "      <td>False</td>\n",
       "    </tr>\n",
       "    <tr>\n",
       "      <th>2013-01-06</th>\n",
       "      <td>False</td>\n",
       "      <td>False</td>\n",
       "      <td>False</td>\n",
       "      <td>False</td>\n",
       "    </tr>\n",
       "    <tr>\n",
       "      <th>2013-01-07</th>\n",
       "      <td>True</td>\n",
       "      <td>False</td>\n",
       "      <td>False</td>\n",
       "      <td>False</td>\n",
       "    </tr>\n",
       "    <tr>\n",
       "      <th>2013-01-08</th>\n",
       "      <td>False</td>\n",
       "      <td>False</td>\n",
       "      <td>False</td>\n",
       "      <td>False</td>\n",
       "    </tr>\n",
       "    <tr>\n",
       "      <th>2013-01-09</th>\n",
       "      <td>False</td>\n",
       "      <td>False</td>\n",
       "      <td>True</td>\n",
       "      <td>False</td>\n",
       "    </tr>\n",
       "    <tr>\n",
       "      <th>2013-01-10</th>\n",
       "      <td>False</td>\n",
       "      <td>False</td>\n",
       "      <td>False</td>\n",
       "      <td>False</td>\n",
       "    </tr>\n",
       "  </tbody>\n",
       "</table>\n",
       "</div>"
      ],
      "text/plain": [
       "               평균     최고     최저    일교차\n",
       "일자                                    \n",
       "2013-01-01  False  False  False  False\n",
       "2013-01-02  False  False  False  False\n",
       "2013-01-03  False  False  False  False\n",
       "2013-01-04  False  False  False  False\n",
       "2013-01-05  False  False   True  False\n",
       "2013-01-06  False  False  False  False\n",
       "2013-01-07   True  False  False  False\n",
       "2013-01-08  False  False  False  False\n",
       "2013-01-09  False  False   True  False\n",
       "2013-01-10  False  False  False  False"
      ]
     },
     "execution_count": 70,
     "metadata": {},
     "output_type": "execute_result"
    }
   ],
   "source": [
    "# isnull() 함수 : NaN문자가 표시되는 곳은 True값을 출력\n",
    "pd.isnull(df)"
   ]
  },
  {
   "cell_type": "markdown",
   "id": "a798d1f3",
   "metadata": {},
   "source": [
    "### ■ 인코딩 관련 에러 대응하기(105p) 참고하기"
   ]
  },
  {
   "cell_type": "markdown",
   "id": "b94523f2",
   "metadata": {},
   "source": [
    "### ■ 판다스로 로드 가능한 파싱 함수 목록 (108p)\n",
    "#### - 한국복지패널을 통해 얻은 데이터를 참고\n",
    "#### - Stata 파일 로드"
   ]
  },
  {
   "cell_type": "code",
   "execution_count": null,
   "id": "54df8cbc",
   "metadata": {},
   "outputs": [],
   "source": [
    "df = pd.read_stata('data/복지데이터.dta')\n",
    "print(df)\n",
    "df.to_excel('data/한국복지.xlsx')"
   ]
  },
  {
   "cell_type": "code",
   "execution_count": null,
   "id": "4a29b18d",
   "metadata": {},
   "outputs": [],
   "source": []
  }
 ],
 "metadata": {
  "kernelspec": {
   "display_name": "Python 3 (ipykernel)",
   "language": "python",
   "name": "python3"
  },
  "language_info": {
   "codemirror_mode": {
    "name": "ipython",
    "version": 3
   },
   "file_extension": ".py",
   "mimetype": "text/x-python",
   "name": "python",
   "nbconvert_exporter": "python",
   "pygments_lexer": "ipython3",
   "version": "3.11.4"
  }
 },
 "nbformat": 4,
 "nbformat_minor": 5
}
