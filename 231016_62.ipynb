{
 "cells": [
  {
   "cell_type": "markdown",
   "id": "b440fa59",
   "metadata": {},
   "source": [
    "# <데이터 분석 과제>\n",
    "- 한국인의 삶\n",
    "    1. 복지데이터 : Koweps_h17_2022_beta1.dta\n",
    "    2. 코딩북 : (2022년 17차 한국복지패널조사) 조사설계서-가구용(beta1).xlsx\n",
    "    3. 데이터파일 읽기\n",
    "    4. 분석에 필요한 항목명 이름 바꾸기\n",
    "    5. 데이터 분석에 필요한 변수 검토 및 전처리<br>\n",
    "        5-1. 이상치 확인 및 처리<br>\n",
    "        5-2. 변구간 관계 분석\n",
    "    6. 분석 결과 시각화\n",
    "    \n",
    "<br>\n",
    "\n",
    "- 분석 주제( 1번 가구원 데이터 만 가지고 )\n",
    "    1. 성별에 따른 월급의 차이\n",
    "    2. 나이대에 따른 월급의 차이\n",
    "    3. 연령대별 성별에 따른 월급 차이\n",
    "    4. 교육 수준에 따른 월급의 차이\n",
    "    5. 직업별 월급의 차이\n",
    "    6. 성별 직업 분포는\n",
    "    7. 종교유무에 따른 이혼율은\n",
    "    8. 노년층이 많은 지역은\n",
    "    9. 교육수준과 건강과 관계가 있는가?\n",
    "    10. 월급과 건강과 관계가 있는가?\n",
    "    11. 종교와 건강과 관계가 있는가?\n",
    "    12. 주요 경제활동 참여상태의 비율은?\n",
    "    13. 직업별 총생활비 지출의 평균은?\n"
   ]
  },
  {
   "cell_type": "markdown",
   "id": "2fec869c",
   "metadata": {},
   "source": [
    "### ※ 230926_53부터 한국복지패널 데이터 활용 내용있으니 참고 "
   ]
  },
  {
   "cell_type": "code",
   "execution_count": 126,
   "id": "5aa40f88",
   "metadata": {},
   "outputs": [],
   "source": [
    "# 그래프 그릴때 필요한 라이브러리\n",
    "import seaborn as sns\n",
    "import matplotlib.pyplot as plt\n",
    "\n",
    "# 그래프 글자 출력 오류 해결 \n",
    "import matplotlib\n",
    "import matplotlib.font_manager as fm\n",
    "\n",
    "font_location = 'c:/windows/fonts/H2GTRE.TTF'\n",
    "font_name = fm.FontProperties(fname=font_location).get_name()\n",
    "matplotlib.rc('font', family = font_name)"
   ]
  },
  {
   "cell_type": "markdown",
   "id": "174bbb7c",
   "metadata": {},
   "source": [
    "## - dta 파일 읽어오기"
   ]
  },
  {
   "cell_type": "code",
   "execution_count": 108,
   "id": "f45fcd65",
   "metadata": {},
   "outputs": [
    {
     "name": "stdout",
     "output_type": "stream",
     "text": [
      "       h17_id  h17_ind  h17_sn   h17_merkey  h_new  h_new1  h17_cobf  \\\n",
      "0         2.0      1.0     1.0      20101.0    0.0     0.0       NaN   \n",
      "1         3.0      1.0     1.0      30101.0    0.0     0.0       NaN   \n",
      "2         4.0      1.0     1.0      40101.0    0.0     0.0       NaN   \n",
      "3         6.0      1.0     1.0      60101.0    0.0     0.0       NaN   \n",
      "4         8.0      1.0     1.0      80101.0    0.0     0.0       NaN   \n",
      "...       ...      ...     ...          ...    ...     ...       ...   \n",
      "7860  12007.0     17.0     1.0  120071701.0    2.0     1.0       NaN   \n",
      "7861  12008.0     17.0     1.0  120081701.0    2.0     1.0       NaN   \n",
      "7862  12009.0     17.0     1.0  120091701.0    2.0     1.0       NaN   \n",
      "7863  12010.0     17.0     1.0  120101701.0    2.0     1.0       NaN   \n",
      "7864  12011.0     17.0     1.0  120111701.0    2.0     1.0       NaN   \n",
      "\n",
      "        h17_ws       h17_wg  h17_ws_all  ...  h1716_60  h1716_64  h1716_15aq1  \\\n",
      "0     0.414313  1872.512363    0.450460  ...       NaN       NaN          NaN   \n",
      "1     0.572114  2585.706216    0.606927  ...       NaN       NaN          NaN   \n",
      "2     0.376947  1703.635594    0.396788  ...       NaN       NaN          NaN   \n",
      "3     0.591665  2674.066982    0.722016  ...       NaN       NaN          NaN   \n",
      "4     0.189070   854.515833    0.195556  ...       2.0       2.0          2.0   \n",
      "...        ...          ...         ...  ...       ...       ...          ...   \n",
      "7860       NaN          NaN         NaN  ...       NaN       NaN          NaN   \n",
      "7861       NaN          NaN         NaN  ...       NaN       NaN          NaN   \n",
      "7862       NaN          NaN         NaN  ...       NaN       NaN          NaN   \n",
      "7863       NaN          NaN         NaN  ...       NaN       NaN          NaN   \n",
      "7864       NaN          NaN         NaN  ...       NaN       NaN          NaN   \n",
      "\n",
      "      h1717_1  h1717_2  h1717_3  h1717_4  h1717_5  h1717_6  h1717_7  \n",
      "0         1.0      4.0      2.0      2.0      4.0      2.0      2.0  \n",
      "1         0.0      NaN      3.0      2.0      2.0      2.0      1.0  \n",
      "2         1.0      0.0      2.0      1.0      3.0      2.0      2.0  \n",
      "3         0.0      NaN      3.0      1.0      2.0      2.0      2.0  \n",
      "4         4.0      9.0      1.0      1.0      4.0      1.0      1.0  \n",
      "...       ...      ...      ...      ...      ...      ...      ...  \n",
      "7860      0.0      NaN      1.0      1.0      4.0      1.0      1.0  \n",
      "7861      0.0      NaN      1.0      1.0      4.0      1.0      1.0  \n",
      "7862      0.0      NaN      1.0      1.0      4.0      1.0      1.0  \n",
      "7863      0.0      NaN      1.0      1.0      5.0      1.0      1.0  \n",
      "7864      9.0      1.0      1.0      1.0      4.0      1.0      1.0  \n",
      "\n",
      "[7865 rows x 1163 columns]\n"
     ]
    }
   ],
   "source": [
    "import pandas as pd\n",
    "import numpy as np\n",
    "\n",
    "data = pd.read_stata('data/Koweps_h17_2022_beta1.dta')\n",
    "\n",
    "print(data)"
   ]
  },
  {
   "cell_type": "markdown",
   "id": "335d68fc",
   "metadata": {},
   "source": [
    "## - 분석에 필요한 데이터 정리"
   ]
  },
  {
   "cell_type": "markdown",
   "id": "616fdf31",
   "metadata": {},
   "source": [
    "h1701_4(성별)<br>\n",
    "h1701_5(태어난 년 도)<br>\n",
    "교육수준(h1701_6(학력(초,중,고,대 등)), h1701_7(재학, 휴학 등))<br>\n",
    "h17_cin(가처분소득)<br> <!-- 12개월 나눠서 월급으로 출력 -->\n",
    "h1703_8(직종)<br> <!-- 직종코드 파일참고 -->\n",
    "h1701_12(종교)<br> <!-- 종교 여부 -->\n",
    "h1701_11(혼인상태)<br> <!-- 이혼은 3번 -->\n",
    "h1702_2(건강상태)<br> <!-- 1~5까지 1부터는 매우건강 5부터는 매우안좋음 -->"
   ]
  },
  {
   "cell_type": "code",
   "execution_count": 109,
   "id": "73b3f8cb",
   "metadata": {},
   "outputs": [
    {
     "data": {
      "text/html": [
       "<div>\n",
       "<style scoped>\n",
       "    .dataframe tbody tr th:only-of-type {\n",
       "        vertical-align: middle;\n",
       "    }\n",
       "\n",
       "    .dataframe tbody tr th {\n",
       "        vertical-align: top;\n",
       "    }\n",
       "\n",
       "    .dataframe thead th {\n",
       "        text-align: right;\n",
       "    }\n",
       "</style>\n",
       "<table border=\"1\" class=\"dataframe\">\n",
       "  <thead>\n",
       "    <tr style=\"text-align: right;\">\n",
       "      <th></th>\n",
       "      <th>성별</th>\n",
       "      <th>태어난 년 도</th>\n",
       "      <th>학력</th>\n",
       "      <th>학력 상태</th>\n",
       "      <th>가처분소득</th>\n",
       "      <th>직종</th>\n",
       "      <th>종교</th>\n",
       "      <th>혼인상태</th>\n",
       "      <th>건강상태</th>\n",
       "    </tr>\n",
       "  </thead>\n",
       "  <tbody>\n",
       "    <tr>\n",
       "      <th>0</th>\n",
       "      <td>2.0</td>\n",
       "      <td>1945.0</td>\n",
       "      <td>4.0</td>\n",
       "      <td>5.0</td>\n",
       "      <td>885.0</td>\n",
       "      <td>NaN</td>\n",
       "      <td>1.0</td>\n",
       "      <td>2.0</td>\n",
       "      <td>4.0</td>\n",
       "    </tr>\n",
       "    <tr>\n",
       "      <th>1</th>\n",
       "      <td>1.0</td>\n",
       "      <td>1948.0</td>\n",
       "      <td>3.0</td>\n",
       "      <td>5.0</td>\n",
       "      <td>2884.0</td>\n",
       "      <td>942.0</td>\n",
       "      <td>2.0</td>\n",
       "      <td>2.0</td>\n",
       "      <td>5.0</td>\n",
       "    </tr>\n",
       "    <tr>\n",
       "      <th>2</th>\n",
       "      <td>1.0</td>\n",
       "      <td>1942.0</td>\n",
       "      <td>7.0</td>\n",
       "      <td>3.0</td>\n",
       "      <td>2544.0</td>\n",
       "      <td>762.0</td>\n",
       "      <td>1.0</td>\n",
       "      <td>3.0</td>\n",
       "      <td>2.0</td>\n",
       "    </tr>\n",
       "    <tr>\n",
       "      <th>3</th>\n",
       "      <td>1.0</td>\n",
       "      <td>1962.0</td>\n",
       "      <td>6.0</td>\n",
       "      <td>5.0</td>\n",
       "      <td>5783.0</td>\n",
       "      <td>855.0</td>\n",
       "      <td>1.0</td>\n",
       "      <td>1.0</td>\n",
       "      <td>2.0</td>\n",
       "    </tr>\n",
       "    <tr>\n",
       "      <th>4</th>\n",
       "      <td>2.0</td>\n",
       "      <td>1940.0</td>\n",
       "      <td>3.0</td>\n",
       "      <td>3.0</td>\n",
       "      <td>1192.0</td>\n",
       "      <td>941.0</td>\n",
       "      <td>1.0</td>\n",
       "      <td>2.0</td>\n",
       "      <td>4.0</td>\n",
       "    </tr>\n",
       "    <tr>\n",
       "      <th>...</th>\n",
       "      <td>...</td>\n",
       "      <td>...</td>\n",
       "      <td>...</td>\n",
       "      <td>...</td>\n",
       "      <td>...</td>\n",
       "      <td>...</td>\n",
       "      <td>...</td>\n",
       "      <td>...</td>\n",
       "      <td>...</td>\n",
       "    </tr>\n",
       "    <tr>\n",
       "      <th>7860</th>\n",
       "      <td>1.0</td>\n",
       "      <td>1981.0</td>\n",
       "      <td>6.0</td>\n",
       "      <td>5.0</td>\n",
       "      <td>5503.0</td>\n",
       "      <td>942.0</td>\n",
       "      <td>1.0</td>\n",
       "      <td>1.0</td>\n",
       "      <td>1.0</td>\n",
       "    </tr>\n",
       "    <tr>\n",
       "      <th>7861</th>\n",
       "      <td>1.0</td>\n",
       "      <td>1977.0</td>\n",
       "      <td>7.0</td>\n",
       "      <td>5.0</td>\n",
       "      <td>10790.0</td>\n",
       "      <td>311.0</td>\n",
       "      <td>1.0</td>\n",
       "      <td>1.0</td>\n",
       "      <td>2.0</td>\n",
       "    </tr>\n",
       "    <tr>\n",
       "      <th>7862</th>\n",
       "      <td>1.0</td>\n",
       "      <td>1976.0</td>\n",
       "      <td>7.0</td>\n",
       "      <td>5.0</td>\n",
       "      <td>10504.0</td>\n",
       "      <td>151.0</td>\n",
       "      <td>2.0</td>\n",
       "      <td>1.0</td>\n",
       "      <td>2.0</td>\n",
       "    </tr>\n",
       "    <tr>\n",
       "      <th>7863</th>\n",
       "      <td>1.0</td>\n",
       "      <td>1975.0</td>\n",
       "      <td>7.0</td>\n",
       "      <td>5.0</td>\n",
       "      <td>10420.0</td>\n",
       "      <td>222.0</td>\n",
       "      <td>2.0</td>\n",
       "      <td>1.0</td>\n",
       "      <td>2.0</td>\n",
       "    </tr>\n",
       "    <tr>\n",
       "      <th>7864</th>\n",
       "      <td>1.0</td>\n",
       "      <td>1964.0</td>\n",
       "      <td>7.0</td>\n",
       "      <td>5.0</td>\n",
       "      <td>8210.0</td>\n",
       "      <td>248.0</td>\n",
       "      <td>1.0</td>\n",
       "      <td>1.0</td>\n",
       "      <td>2.0</td>\n",
       "    </tr>\n",
       "  </tbody>\n",
       "</table>\n",
       "<p>7865 rows × 9 columns</p>\n",
       "</div>"
      ],
      "text/plain": [
       "       성별  태어난 년 도   학력  학력 상태    가처분소득     직종   종교  혼인상태  건강상태\n",
       "0     2.0   1945.0  4.0    5.0    885.0    NaN  1.0   2.0   4.0\n",
       "1     1.0   1948.0  3.0    5.0   2884.0  942.0  2.0   2.0   5.0\n",
       "2     1.0   1942.0  7.0    3.0   2544.0  762.0  1.0   3.0   2.0\n",
       "3     1.0   1962.0  6.0    5.0   5783.0  855.0  1.0   1.0   2.0\n",
       "4     2.0   1940.0  3.0    3.0   1192.0  941.0  1.0   2.0   4.0\n",
       "...   ...      ...  ...    ...      ...    ...  ...   ...   ...\n",
       "7860  1.0   1981.0  6.0    5.0   5503.0  942.0  1.0   1.0   1.0\n",
       "7861  1.0   1977.0  7.0    5.0  10790.0  311.0  1.0   1.0   2.0\n",
       "7862  1.0   1976.0  7.0    5.0  10504.0  151.0  2.0   1.0   2.0\n",
       "7863  1.0   1975.0  7.0    5.0  10420.0  222.0  2.0   1.0   2.0\n",
       "7864  1.0   1964.0  7.0    5.0   8210.0  248.0  1.0   1.0   2.0\n",
       "\n",
       "[7865 rows x 9 columns]"
      ]
     },
     "execution_count": 109,
     "metadata": {},
     "output_type": "execute_result"
    }
   ],
   "source": [
    "columns = ['h1701_4', 'h1701_5', 'h1701_6', 'h1701_7', 'h17_cin', 'h1703_8', 'h1701_12', 'h1701_11', 'h1702_2']\n",
    "korea = data[columns]\n",
    "\n",
    "korea = korea.rename(columns = {'h1701_4' : '성별', \n",
    "                                'h1701_5' : '태어난 년 도', \n",
    "                                'h1701_6' : '학력', \n",
    "                                'h1701_7' : '학력 상태', \n",
    "                                'h17_cin' : '가처분소득', \n",
    "                                'h1703_8' : '직종', \n",
    "                                'h1701_12' : '종교', \n",
    "                                'h1701_11' : '혼인상태', \n",
    "                                'h1702_2' : '건강상태'})\n",
    "korea\n"
   ]
  },
  {
   "cell_type": "code",
   "execution_count": 110,
   "id": "ec363f15",
   "metadata": {},
   "outputs": [
    {
     "data": {
      "text/plain": [
       "0       1945\n",
       "1       1948\n",
       "2       1942\n",
       "3       1962\n",
       "4       1940\n",
       "        ... \n",
       "7860    1981\n",
       "7861    1977\n",
       "7862    1976\n",
       "7863    1975\n",
       "7864    1964\n",
       "Name: 태어난 년 도, Length: 7865, dtype: int64"
      ]
     },
     "execution_count": 110,
     "metadata": {},
     "output_type": "execute_result"
    }
   ],
   "source": [
    "# 날짜 데이터 타입으로 변경\n",
    "import datetime\n",
    "\n",
    "korea['태어난 년 도'] = pd.to_datetime(korea['태어난 년 도'], format='%Y')\n",
    "korea['태어난 년 도'] = korea['태어난 년 도'].dt.year\n",
    "korea['태어난 년 도']"
   ]
  },
  {
   "cell_type": "code",
   "execution_count": 111,
   "id": "b6ae46de",
   "metadata": {},
   "outputs": [
    {
     "data": {
      "text/plain": [
       "성별         float64\n",
       "태어난 년 도      int64\n",
       "학력         float64\n",
       "학력 상태      float64\n",
       "가처분소득      float64\n",
       "직종         float64\n",
       "종교         float64\n",
       "혼인상태       float64\n",
       "건강상태       float64\n",
       "dtype: object"
      ]
     },
     "execution_count": 111,
     "metadata": {},
     "output_type": "execute_result"
    }
   ],
   "source": [
    "korea.dtypes"
   ]
  },
  {
   "cell_type": "code",
   "execution_count": 112,
   "id": "02bbc800",
   "metadata": {},
   "outputs": [
    {
     "data": {
      "text/plain": [
       "0        73.750000\n",
       "1       240.333333\n",
       "2       212.000000\n",
       "3       481.916667\n",
       "4        99.333333\n",
       "           ...    \n",
       "7860    458.583333\n",
       "7861    899.166667\n",
       "7862    875.333333\n",
       "7863    868.333333\n",
       "7864    684.166667\n",
       "Name: 월급, Length: 7865, dtype: float64"
      ]
     },
     "execution_count": 112,
     "metadata": {},
     "output_type": "execute_result"
    }
   ],
   "source": [
    "# 월급 컬럼 생성\n",
    "korea['월급'] = korea['가처분소득']/12\n",
    "korea['월급'] "
   ]
  },
  {
   "cell_type": "code",
   "execution_count": 117,
   "id": "94bbbea1",
   "metadata": {},
   "outputs": [
    {
     "data": {
      "text/html": [
       "<div>\n",
       "<style scoped>\n",
       "    .dataframe tbody tr th:only-of-type {\n",
       "        vertical-align: middle;\n",
       "    }\n",
       "\n",
       "    .dataframe tbody tr th {\n",
       "        vertical-align: top;\n",
       "    }\n",
       "\n",
       "    .dataframe thead th {\n",
       "        text-align: right;\n",
       "    }\n",
       "</style>\n",
       "<table border=\"1\" class=\"dataframe\">\n",
       "  <thead>\n",
       "    <tr style=\"text-align: right;\">\n",
       "      <th></th>\n",
       "      <th>성별</th>\n",
       "      <th>태어난 년 도</th>\n",
       "      <th>학력</th>\n",
       "      <th>학력 상태</th>\n",
       "      <th>가처분소득</th>\n",
       "      <th>직종</th>\n",
       "      <th>종교</th>\n",
       "      <th>혼인상태</th>\n",
       "      <th>건강상태</th>\n",
       "      <th>월급</th>\n",
       "    </tr>\n",
       "  </thead>\n",
       "  <tbody>\n",
       "    <tr>\n",
       "      <th>0</th>\n",
       "      <td>2.0</td>\n",
       "      <td>1945</td>\n",
       "      <td>4.0</td>\n",
       "      <td>5.0</td>\n",
       "      <td>885.0</td>\n",
       "      <td>NaN</td>\n",
       "      <td>1.0</td>\n",
       "      <td>2.0</td>\n",
       "      <td>4.0</td>\n",
       "      <td>73.750000</td>\n",
       "    </tr>\n",
       "    <tr>\n",
       "      <th>1</th>\n",
       "      <td>1.0</td>\n",
       "      <td>1948</td>\n",
       "      <td>3.0</td>\n",
       "      <td>5.0</td>\n",
       "      <td>2884.0</td>\n",
       "      <td>942.0</td>\n",
       "      <td>2.0</td>\n",
       "      <td>2.0</td>\n",
       "      <td>5.0</td>\n",
       "      <td>240.333333</td>\n",
       "    </tr>\n",
       "    <tr>\n",
       "      <th>2</th>\n",
       "      <td>1.0</td>\n",
       "      <td>1942</td>\n",
       "      <td>7.0</td>\n",
       "      <td>3.0</td>\n",
       "      <td>2544.0</td>\n",
       "      <td>762.0</td>\n",
       "      <td>1.0</td>\n",
       "      <td>3.0</td>\n",
       "      <td>2.0</td>\n",
       "      <td>212.000000</td>\n",
       "    </tr>\n",
       "    <tr>\n",
       "      <th>3</th>\n",
       "      <td>1.0</td>\n",
       "      <td>1962</td>\n",
       "      <td>6.0</td>\n",
       "      <td>5.0</td>\n",
       "      <td>5783.0</td>\n",
       "      <td>855.0</td>\n",
       "      <td>1.0</td>\n",
       "      <td>1.0</td>\n",
       "      <td>2.0</td>\n",
       "      <td>481.916667</td>\n",
       "    </tr>\n",
       "    <tr>\n",
       "      <th>4</th>\n",
       "      <td>2.0</td>\n",
       "      <td>1940</td>\n",
       "      <td>3.0</td>\n",
       "      <td>3.0</td>\n",
       "      <td>1192.0</td>\n",
       "      <td>941.0</td>\n",
       "      <td>1.0</td>\n",
       "      <td>2.0</td>\n",
       "      <td>4.0</td>\n",
       "      <td>99.333333</td>\n",
       "    </tr>\n",
       "    <tr>\n",
       "      <th>...</th>\n",
       "      <td>...</td>\n",
       "      <td>...</td>\n",
       "      <td>...</td>\n",
       "      <td>...</td>\n",
       "      <td>...</td>\n",
       "      <td>...</td>\n",
       "      <td>...</td>\n",
       "      <td>...</td>\n",
       "      <td>...</td>\n",
       "      <td>...</td>\n",
       "    </tr>\n",
       "    <tr>\n",
       "      <th>7860</th>\n",
       "      <td>1.0</td>\n",
       "      <td>1981</td>\n",
       "      <td>6.0</td>\n",
       "      <td>5.0</td>\n",
       "      <td>5503.0</td>\n",
       "      <td>942.0</td>\n",
       "      <td>1.0</td>\n",
       "      <td>1.0</td>\n",
       "      <td>1.0</td>\n",
       "      <td>458.583333</td>\n",
       "    </tr>\n",
       "    <tr>\n",
       "      <th>7861</th>\n",
       "      <td>1.0</td>\n",
       "      <td>1977</td>\n",
       "      <td>7.0</td>\n",
       "      <td>5.0</td>\n",
       "      <td>10790.0</td>\n",
       "      <td>311.0</td>\n",
       "      <td>1.0</td>\n",
       "      <td>1.0</td>\n",
       "      <td>2.0</td>\n",
       "      <td>899.166667</td>\n",
       "    </tr>\n",
       "    <tr>\n",
       "      <th>7862</th>\n",
       "      <td>1.0</td>\n",
       "      <td>1976</td>\n",
       "      <td>7.0</td>\n",
       "      <td>5.0</td>\n",
       "      <td>10504.0</td>\n",
       "      <td>151.0</td>\n",
       "      <td>2.0</td>\n",
       "      <td>1.0</td>\n",
       "      <td>2.0</td>\n",
       "      <td>875.333333</td>\n",
       "    </tr>\n",
       "    <tr>\n",
       "      <th>7863</th>\n",
       "      <td>1.0</td>\n",
       "      <td>1975</td>\n",
       "      <td>7.0</td>\n",
       "      <td>5.0</td>\n",
       "      <td>10420.0</td>\n",
       "      <td>222.0</td>\n",
       "      <td>2.0</td>\n",
       "      <td>1.0</td>\n",
       "      <td>2.0</td>\n",
       "      <td>868.333333</td>\n",
       "    </tr>\n",
       "    <tr>\n",
       "      <th>7864</th>\n",
       "      <td>1.0</td>\n",
       "      <td>1964</td>\n",
       "      <td>7.0</td>\n",
       "      <td>5.0</td>\n",
       "      <td>8210.0</td>\n",
       "      <td>248.0</td>\n",
       "      <td>1.0</td>\n",
       "      <td>1.0</td>\n",
       "      <td>2.0</td>\n",
       "      <td>684.166667</td>\n",
       "    </tr>\n",
       "  </tbody>\n",
       "</table>\n",
       "<p>7865 rows × 10 columns</p>\n",
       "</div>"
      ],
      "text/plain": [
       "       성별  태어난 년 도   학력  학력 상태    가처분소득     직종   종교  혼인상태  건강상태          월급\n",
       "0     2.0     1945  4.0    5.0    885.0    NaN  1.0   2.0   4.0   73.750000\n",
       "1     1.0     1948  3.0    5.0   2884.0  942.0  2.0   2.0   5.0  240.333333\n",
       "2     1.0     1942  7.0    3.0   2544.0  762.0  1.0   3.0   2.0  212.000000\n",
       "3     1.0     1962  6.0    5.0   5783.0  855.0  1.0   1.0   2.0  481.916667\n",
       "4     2.0     1940  3.0    3.0   1192.0  941.0  1.0   2.0   4.0   99.333333\n",
       "...   ...      ...  ...    ...      ...    ...  ...   ...   ...         ...\n",
       "7860  1.0     1981  6.0    5.0   5503.0  942.0  1.0   1.0   1.0  458.583333\n",
       "7861  1.0     1977  7.0    5.0  10790.0  311.0  1.0   1.0   2.0  899.166667\n",
       "7862  1.0     1976  7.0    5.0  10504.0  151.0  2.0   1.0   2.0  875.333333\n",
       "7863  1.0     1975  7.0    5.0  10420.0  222.0  2.0   1.0   2.0  868.333333\n",
       "7864  1.0     1964  7.0    5.0   8210.0  248.0  1.0   1.0   2.0  684.166667\n",
       "\n",
       "[7865 rows x 10 columns]"
      ]
     },
     "execution_count": 117,
     "metadata": {},
     "output_type": "execute_result"
    }
   ],
   "source": [
    "korea"
   ]
  },
  {
   "cell_type": "markdown",
   "id": "f42d2615",
   "metadata": {},
   "source": [
    "## 1. 성별에 따른 월급의 차이"
   ]
  },
  {
   "cell_type": "code",
   "execution_count": 127,
   "id": "e5790e5c",
   "metadata": {},
   "outputs": [
    {
     "data": {
      "text/plain": [
       "480.55400858397223"
      ]
     },
     "execution_count": 127,
     "metadata": {},
     "output_type": "execute_result"
    }
   ],
   "source": [
    "# 남성의 평균 월급\n",
    "korea_man = korea[korea['성별'] == 1.0]\n",
    "korea_man['월급'].mean()"
   ]
  },
  {
   "cell_type": "code",
   "execution_count": 129,
   "id": "db9558e8",
   "metadata": {},
   "outputs": [
    {
     "data": {
      "text/plain": [
       "190.07606791456683"
      ]
     },
     "execution_count": 129,
     "metadata": {},
     "output_type": "execute_result"
    }
   ],
   "source": [
    "# 여성의 평균 월급\n",
    "korea_female = korea[korea['성별'] == 2.0]\n",
    "korea_female['월급'].mean()"
   ]
  },
  {
   "cell_type": "code",
   "execution_count": 141,
   "id": "cd941f0c",
   "metadata": {},
   "outputs": [
    {
     "data": {
      "image/png": "[encoded data removed]",
      "text/plain": [
       "<Figure size 500x500 with 1 Axes>"
      ]
     },
     "metadata": {},
     "output_type": "display_data"
    }
   ],
   "source": [
    "# 1. 남, 2.여\n",
    "plt.figure(figsize=(5, 5))\n",
    "sns.barplot(x='성별', y='월급', data=korea)\n",
    "sns.despine(left=True) # 위, 오른쪽 축 숨기기\n",
    "plt.title('성별에 따른 월급의 차이', fontsize=14, fontfamily='Malgun Gothic', fontweight='bold', position=(0, 0))\n",
    "plt.show()"
   ]
  },
  {
   "cell_type": "markdown",
   "id": "fa7cd097",
   "metadata": {},
   "source": [
    "## 2. 나이대에 따른 월급의 차이"
   ]
  },
  {
   "cell_type": "code",
   "execution_count": 143,
   "id": "041a0901",
   "metadata": {},
   "outputs": [
    {
     "data": {
      "text/plain": [
       "array([1945, 1948, 1942, 1962, 1940, 1970, 1978, 1941, 1964, 1975, 1961,\n",
       "       1952, 1984, 1971, 1943, 1972, 1954, 1936, 1968, 1976, 1937, 1959,\n",
       "       1955, 1982, 1973, 1950, 1930, 1947, 1980, 1946, 1965, 1958, 1960,\n",
       "       1987, 1967, 1957, 1983, 1989, 1939, 1966, 1938, 1969, 1953, 1979,\n",
       "       1934, 1932, 1951, 1933, 1977, 1944, 1974, 1963, 1991, 1992, 1997,\n",
       "       1994, 1986, 1981, 1935, 1956, 1926, 1949, 1995, 1993, 1996, 1990,\n",
       "       1929, 1988, 1985, 1931, 1998, 2000, 2003, 1922, 1928, 1999, 2001,\n",
       "       1925, 1927, 2002], dtype=int64)"
      ]
     },
     "execution_count": 143,
     "metadata": {},
     "output_type": "execute_result"
    }
   ],
   "source": [
    "korea['태어난 년 도'].unique()"
   ]
  },
  {
   "cell_type": "code",
   "execution_count": 142,
   "id": "06d0cb40",
   "metadata": {},
   "outputs": [
    {
     "data": {
      "image/png": "[encoded data removed]",
      "text/plain": [
       "<Figure size 1000x500 with 1 Axes>"
      ]
     },
     "metadata": {},
     "output_type": "display_data"
    }
   ],
   "source": [
    "plt.figure(figsize=(10, 5))\n",
    "sns.barplot(x='태어난 년 도', y='월급', data=korea)\n",
    "sns.despine(left=True) # 위, 오른쪽 축 숨기기\n",
    "plt.title('나이대에 따른 월급의 차이', fontsize=14, fontfamily='Malgun Gothic', fontweight='bold', position=(0, 0))\n",
    "plt.xticks(rotation=90, fontsize=6)\n",
    "plt.show()"
   ]
  },
  {
   "cell_type": "markdown",
   "id": "f90b3b18",
   "metadata": {},
   "source": [
    "## 3. 연령대별 성별에 따른 월급 차이"
   ]
  },
  {
   "cell_type": "code",
   "execution_count": 158,
   "id": "d7b78675",
   "metadata": {},
   "outputs": [
    {
     "data": {
      "text/plain": [
       "<Figure size 1000x500 with 0 Axes>"
      ]
     },
     "metadata": {},
     "output_type": "display_data"
    },
    {
     "data": {
      "image/png": "[encoded data removed]",
      "text/plain": [
       "<Figure size 572.375x500 with 1 Axes>"
      ]
     },
     "metadata": {},
     "output_type": "display_data"
    }
   ],
   "source": [
    "plt.figure(figsize=(10, 5))\n",
    "sns.relplot(x='태어난 년 도', y='월급', data=korea, hue='성별', kind='line', palette='coolwarm')\n",
    "sns.despine(left=True) # 위, 오른쪽 축 숨기기\n",
    "plt.title('연령대별 성별에 따른 월급 차이', fontsize=14, fontfamily='Malgun Gothic', fontweight='bold', position=(0, 0))\n",
    "plt.xticks(rotation=90, fontsize=6)\n",
    "plt.show()"
   ]
  },
  {
   "cell_type": "code",
   "execution_count": null,
   "id": "8b6a6e39",
   "metadata": {},
   "outputs": [],
   "source": []
  }
 ],
 "metadata": {
  "kernelspec": {
   "display_name": "Python 3 (ipykernel)",
   "language": "python",
   "name": "python3"
  },
  "language_info": {
   "codemirror_mode": {
    "name": "ipython",
    "version": 3
   },
   "file_extension": ".py",
   "mimetype": "text/x-python",
   "name": "python",
   "nbconvert_exporter": "python",
   "pygments_lexer": "ipython3",
   "version": "3.11.4"
  }
 },
 "nbformat": 4,
 "nbformat_minor": 5
}
